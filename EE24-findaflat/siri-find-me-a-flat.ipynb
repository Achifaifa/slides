{
 "cells": [
  {
   "cell_type": "markdown",
   "metadata": {
    "slideshow": {
     "slide_type": "skip"
    }
   },
   "source": [
    "**Libs**:  \n",
    "Scrapy | cartodb | numpy/pandas/matplotlib/scikit-learn | scikit-image | nltk | (plotly/graphene/etc)  \n",
    "\n",
    "**Tools**:  \n",
    "Python | firefox+firebug+firepath | Linux+CLI  \n",
    "\n",
    "**Pages**:  \n",
    "Idealista | Segundamano | ?  \n",
    "\n",
    "**Time**:  \n",
    "1h50m + 10m (Q/A)  \n",
    "\n",
    "**Demos**:  \n",
    "Scrapy | XPATH | panda | matplotlib | S.GIS (Filtering/etc) | CLI |  "
   ]
  },
  {
   "cell_type": "markdown",
   "metadata": {
    "slideshow": {
     "slide_type": "slide"
    }
   },
   "source": [
    "# Siri, ¡Búscame un piso!\n",
    "### Cómo encontrar el piso perfecto en <2h\n",
    "\n",
    "Yuri Numerov (Achifaifa)  \n",
    "[achi.se](http://achi.se)  -  [achi (at) hush (.) ai]()\n",
    "\n",
    "Euskal Encounter 24, 2015-07-24"
   ]
  },
  {
   "cell_type": "markdown",
   "metadata": {
    "slideshow": {
     "slide_type": "subslide"
    }
   },
   "source": [
    "### Sobre mí"
   ]
  },
  {
   "cell_type": "markdown",
   "metadata": {
    "slideshow": {
     "slide_type": "fragment"
    }
   },
   "source": [
    "¯\\\\\\_(ツ)\\_/¯"
   ]
  },
  {
   "cell_type": "markdown",
   "metadata": {
    "slideshow": {
     "slide_type": "subslide"
    }
   },
   "source": [
    "### Antes, un poco de spam...\n",
    "\n",
    "![](./img/logo-gamaker.jpg)"
   ]
  },
  {
   "cell_type": "markdown",
   "metadata": {
    "slideshow": {
     "slide_type": "subslide"
    }
   },
   "source": [
    "### Y otro poco más:\n",
    "\n",
    "![](./img/pyladies-logo.png) ![](./img/pyss-logo.png)"
   ]
  },
  {
   "cell_type": "markdown",
   "metadata": {
    "slideshow": {
     "slide_type": "slide"
    }
   },
   "source": [
    "### Analicemos el problema.\n",
    "\n",
    "¿Cómo puede buscar alguien un piso?"
   ]
  },
  {
   "cell_type": "markdown",
   "metadata": {
    "slideshow": {
     "slide_type": "subslide"
    }
   },
   "source": [
    "#### A) Manera tradicional"
   ]
  },
  {
   "cell_type": "markdown",
   "metadata": {
    "slideshow": {
     "slide_type": "fragment"
    }
   },
   "source": [
    "* Abrir X pestañas en el navegador con diferentes páginas web"
   ]
  },
  {
   "cell_type": "markdown",
   "metadata": {
    "slideshow": {
     "slide_type": "fragment"
    }
   },
   "source": [
    "* Buscar por ciudad/CP"
   ]
  },
  {
   "cell_type": "markdown",
   "metadata": {
    "slideshow": {
     "slide_type": "fragment"
    }
   },
   "source": [
    "* Hacer scroll hasta que"
   ]
  },
  {
   "cell_type": "markdown",
   "metadata": {
    "slideshow": {
     "slide_type": "fragment"
    }
   },
   "source": [
    "* * Encontremos un piso"
   ]
  },
  {
   "cell_type": "markdown",
   "metadata": {
    "slideshow": {
     "slide_type": "fragment"
    }
   },
   "source": [
    "* * Nos aburramos "
   ]
  },
  {
   "cell_type": "markdown",
   "metadata": {
    "slideshow": {
     "slide_type": "fragment"
    }
   },
   "source": [
    "* * Suframos de Síndrome de Túnel Carpiano"
   ]
  },
  {
   "cell_type": "markdown",
   "metadata": {
    "slideshow": {
     "slide_type": "subslide"
    }
   },
   "source": [
    "#### B) Manera **guay** "
   ]
  },
  {
   "cell_type": "markdown",
   "metadata": {
    "slideshow": {
     "slide_type": "fragment"
    }
   },
   "source": [
    "* Escribimos un programa que lo haga por nosotros"
   ]
  },
  {
   "cell_type": "markdown",
   "metadata": {
    "slideshow": {
     "slide_type": "fragment"
    }
   },
   "source": [
    "* ???"
   ]
  },
  {
   "cell_type": "markdown",
   "metadata": {
    "slideshow": {
     "slide_type": "fragment"
    }
   },
   "source": [
    "* Profit"
   ]
  },
  {
   "cell_type": "markdown",
   "metadata": {
    "slideshow": {
     "slide_type": "subslide"
    }
   },
   "source": [
    "#### ¿A ó B?\n",
    "\n",
    "![](./img/matrix-pills.jpg)"
   ]
  },
  {
   "cell_type": "markdown",
   "metadata": {
    "slideshow": {
     "slide_type": "slide"
    }
   },
   "source": [
    "### ¿Qué herramientas vamos a usar?"
   ]
  },
  {
   "cell_type": "markdown",
   "metadata": {
    "slideshow": {
     "slide_type": "subslide"
    }
   },
   "source": [
    "#### Herramientas generales:"
   ]
  },
  {
   "cell_type": "markdown",
   "metadata": {
    "slideshow": {
     "slide_type": "fragment"
    }
   },
   "source": [
    "* [Python](http://python.org)"
   ]
  },
  {
   "cell_type": "markdown",
   "metadata": {
    "slideshow": {
     "slide_type": "fragment"
    }
   },
   "source": [
    "* Linux (CLI)"
   ]
  },
  {
   "cell_type": "markdown",
   "metadata": {
    "slideshow": {
     "slide_type": "fragment"
    }
   },
   "source": [
    "* iceweasel (Firefox) + firebug + firepath"
   ]
  },
  {
   "cell_type": "markdown",
   "metadata": {
    "slideshow": {
     "slide_type": "fragment"
    }
   },
   "source": [
    "* [CartoDB](https://cartodb.com): Servicio de visualización de datos cartográficos"
   ]
  },
  {
   "cell_type": "markdown",
   "metadata": {
    "slideshow": {
     "slide_type": "subslide"
    }
   },
   "source": [
    "#### Librerías de python:"
   ]
  },
  {
   "cell_type": "markdown",
   "metadata": {
    "slideshow": {
     "slide_type": "fragment"
    }
   },
   "source": [
    "* [Scrapy](http://scrapy.org): Framework para web scraping"
   ]
  },
  {
   "cell_type": "markdown",
   "metadata": {
    "slideshow": {
     "slide_type": "fragment"
    }
   },
   "source": [
    "* Geocoder: Librería para geocoding y reverse geocoding"
   ]
  },
  {
   "cell_type": "markdown",
   "metadata": {
    "slideshow": {
     "slide_type": "fragment"
    }
   },
   "source": [
    "* [Matplotlib](http://matplotlib.org): Librería para generación de gráficos"
   ]
  },
  {
   "cell_type": "markdown",
   "metadata": {
    "slideshow": {
     "slide_type": "fragment"
    }
   },
   "source": [
    "* [Numpy](http://www.numpy.org): Librería con *muchas* funciones matemáticas extra"
   ]
  },
  {
   "cell_type": "markdown",
   "metadata": {
    "slideshow": {
     "slide_type": "skip"
    }
   },
   "source": [
    "* [Pandas](http://pandas.pydata.org): Librería para análisis y manipulación de datos"
   ]
  },
  {
   "cell_type": "markdown",
   "metadata": {
    "slideshow": {
     "slide_type": "slide"
    }
   },
   "source": [
    "### ¿Cuál es el plan?"
   ]
  },
  {
   "cell_type": "markdown",
   "metadata": {
    "slideshow": {
     "slide_type": "fragment"
    }
   },
   "source": [
    "* Localizar webs con suficientes datos disponibles"
   ]
  },
  {
   "cell_type": "markdown",
   "metadata": {
    "slideshow": {
     "slide_type": "fragment"
    }
   },
   "source": [
    "* Recoger todos los datos de esa web"
   ]
  },
  {
   "cell_type": "markdown",
   "metadata": {
    "slideshow": {
     "slide_type": "fragment"
    }
   },
   "source": [
    "* Completar los datos"
   ]
  },
  {
   "cell_type": "markdown",
   "metadata": {
    "slideshow": {
     "slide_type": "fragment"
    }
   },
   "source": [
    "* Filtrar los datos, ordenarlos y visualizarlos"
   ]
  },
  {
   "cell_type": "markdown",
   "metadata": {
    "slideshow": {
     "slide_type": "fragment"
    }
   },
   "source": [
    "¡Vamos a ello!"
   ]
  },
  {
   "cell_type": "markdown",
   "metadata": {
    "slideshow": {
     "slide_type": "fragment"
    }
   },
   "source": [
    "¡Venga vámonos!"
   ]
  },
  {
   "cell_type": "markdown",
   "metadata": {
    "slideshow": {
     "slide_type": "slide"
    }
   },
   "source": [
    "### 01) Localizando páginas web"
   ]
  },
  {
   "cell_type": "markdown",
   "metadata": {
    "slideshow": {
     "slide_type": "fragment"
    }
   },
   "source": [
    "Hay webs con la mínima información posible (e.g. segundamano.es)"
   ]
  },
  {
   "cell_type": "markdown",
   "metadata": {
    "slideshow": {
     "slide_type": "fragment"
    }
   },
   "source": [
    "Necesitamos localizar webs que tengan toda la información que necesitamos"
   ]
  },
  {
   "cell_type": "markdown",
   "metadata": {
    "slideshow": {
     "slide_type": "fragment"
    }
   },
   "source": [
    "(O información suficiente para inferir el resto)"
   ]
  },
  {
   "cell_type": "markdown",
   "metadata": {
    "slideshow": {
     "slide_type": "fragment"
    }
   },
   "source": [
    "Dirección/GPS, mail/teléfono, fotos, precio, características..."
   ]
  },
  {
   "cell_type": "markdown",
   "metadata": {
    "slideshow": {
     "slide_type": "fragment"
    }
   },
   "source": [
    "Lo difícil no es encontrar piso, es encontrar páginas web decentes :_("
   ]
  },
  {
   "cell_type": "markdown",
   "metadata": {
    "slideshow": {
     "slide_type": "fragment"
    }
   },
   "source": [
    "Haremos un primer ejemplo con [idealista](http://idealista.com). El resto de páginas se procesan igual ;)"
   ]
  },
  {
   "cell_type": "markdown",
   "metadata": {
    "slideshow": {
     "slide_type": "slide"
    }
   },
   "source": [
    "### 02) Scrapy y XPATH"
   ]
  },
  {
   "cell_type": "markdown",
   "metadata": {
    "slideshow": {
     "slide_type": "fragment"
    }
   },
   "source": [
    "Para cada web tendremos que escribir un programa que recoja la información"
   ]
  },
  {
   "cell_type": "markdown",
   "metadata": {
    "slideshow": {
     "slide_type": "fragment"
    }
   },
   "source": [
    "Utilizamos Scrapy para no tener que hacerlo todo nosotros"
   ]
  },
  {
   "cell_type": "markdown",
   "metadata": {
    "slideshow": {
     "slide_type": "fragment"
    }
   },
   "source": [
    "Los datos en las páginas de los pisos son diferentes, pero la estructura de la página es la misma ;)"
   ]
  },
  {
   "cell_type": "markdown",
   "metadata": {
    "slideshow": {
     "slide_type": "fragment"
    }
   },
   "source": [
    "Podemos automatizar la recogida de webs y acceder a elementos individuales usando [XPath](https://en.m.wikipedia.org/wiki/Xpath)"
   ]
  },
  {
   "cell_type": "markdown",
   "metadata": {
    "slideshow": {
     "slide_type": "subslide"
    }
   },
   "source": [
    "#### Scrapy en un ratín:"
   ]
  },
  {
   "cell_type": "markdown",
   "metadata": {
    "slideshow": {
     "slide_type": "fragment"
    }
   },
   "source": [
    "* Creamos una nueva araña con **`scrapy newspider <url>`**"
   ]
  },
  {
   "cell_type": "markdown",
   "metadata": {
    "slideshow": {
     "slide_type": "fragment"
    }
   },
   "source": [
    "* Especificamos parámetros como las URLs de inicio y dominios permitidos"
   ]
  },
  {
   "cell_type": "markdown",
   "metadata": {
    "slideshow": {
     "slide_type": "fragment"
    }
   },
   "source": [
    "* Escribimos la/las funciones de parseo"
   ]
  },
  {
   "cell_type": "markdown",
   "metadata": {
    "slideshow": {
     "slide_type": "fragment"
    }
   },
   "source": [
    "* Ejecutamos la araña con **`scrapy crawl -o <nombre_de archivo>.<extensión> <nombre_de_araña>`**"
   ]
  },
  {
   "cell_type": "markdown",
   "metadata": {
    "slideshow": {
     "slide_type": "subslide"
    }
   },
   "source": [
    "#### *XPath for dummies*"
   ]
  },
  {
   "cell_type": "markdown",
   "metadata": {
    "slideshow": {
     "slide_type": "fragment"
    }
   },
   "source": [
    "1) usamos **`//`** para iniciar la expresión  \n",
    "2) utilizamos diferentes etiquetas para ir seleccionando bloques del HTML de la web  \n",
    "3) **`*`** es un comodín, **`[@<atributo>=<valor>]`** nos sirve para buscar por atributos  \n",
    "3b) Podemos conseguir enlaces con **`@href`**, texto con **`text()`**, etc"
   ]
  },
  {
   "cell_type": "markdown",
   "metadata": {
    "slideshow": {
     "slide_type": "fragment"
    }
   },
   "source": [
    "¡Vamos con algunos ejemplos!"
   ]
  },
  {
   "cell_type": "markdown",
   "metadata": {
    "slideshow": {
     "slide_type": "subslide"
    }
   },
   "source": [
    "**`//head/title/text()`** Va al principio de la página (**`//`**), ahí busca la cabecera (**`head/`**), en la cabecera busca el título (**`title/`**) y de ese elemento coge el texto (**`text()`**)"
   ]
  },
  {
   "cell_type": "markdown",
   "metadata": {
    "slideshow": {
     "slide_type": "fragment"
    }
   },
   "source": [
    "**`//*[@id='bottompanel']/div[2]/strong/a[@class='last']/@href`** : \n",
    "\n",
    "Busca por toda la página y selecciona cualquier div que tenga una ID llamada 'bottompanel' (**`*[@id='bottompanel']`**), ahí va al segundo div indentado (**`div[2]`**), busca lo que esté con el atributo strong (**`strong/`**) y ahí busca una etiqueta a con clase 'last' (**`a[@class='last']/`**) y devuelve la url de esa etiqueta (**`@href`**)\n",
    "\n",
    "(Devuelve el link de la última página del hilo de un foro)\n",
    "![](./img/xpath-last.png)"
   ]
  },
  {
   "cell_type": "markdown",
   "metadata": {
    "slideshow": {
     "slide_type": "fragment"
    }
   },
   "source": [
    "**Parece** complicado, hasta que escribes dos o tres"
   ]
  },
  {
   "cell_type": "markdown",
   "metadata": {
    "slideshow": {
     "slide_type": "subslide"
    }
   },
   "source": [
    "En **Firefox** podemos usar los plugins firebug y firepath, que nos permiten buscar y obtener las expresiones xpath para diferentes elementos"
   ]
  },
  {
   "cell_type": "markdown",
   "metadata": {
    "slideshow": {
     "slide_type": "subslide"
    }
   },
   "source": [
    "![](./img/firepath.png)"
   ]
  },
  {
   "cell_type": "markdown",
   "metadata": {
    "slideshow": {
     "slide_type": "subslide"
    }
   },
   "source": [
    "![](./img/firepath2.png)"
   ]
  },
  {
   "cell_type": "markdown",
   "metadata": {
    "slideshow": {
     "slide_type": "slide"
    }
   },
   "source": [
    "### 03) Escribiendo una araña"
   ]
  },
  {
   "cell_type": "markdown",
   "metadata": {
    "slideshow": {
     "slide_type": "subslide"
    }
   },
   "source": [
    "Muchas de las arañas de búsqueda siguen un patrón concreto"
   ]
  },
  {
   "cell_type": "markdown",
   "metadata": {
    "slideshow": {
     "slide_type": "fragment"
    }
   },
   "source": [
    "* Consigue la lista de todos los elementos de esa página"
   ]
  },
  {
   "cell_type": "markdown",
   "metadata": {
    "slideshow": {
     "slide_type": "fragment"
    }
   },
   "source": [
    "* Procesa todos los elementos uno por uno"
   ]
  },
  {
   "cell_type": "markdown",
   "metadata": {
    "slideshow": {
     "slide_type": "fragment"
    }
   },
   "source": [
    "* Una vez acabado, repite si hay otra página"
   ]
  },
  {
   "cell_type": "markdown",
   "metadata": {
    "slideshow": {
     "slide_type": "fragment"
    }
   },
   "source": [
    "Vamos a escribir una araña que procese pisos de [idealista.com](http://idealista.com)"
   ]
  },
  {
   "cell_type": "markdown",
   "metadata": {
    "slideshow": {
     "slide_type": "subslide"
    }
   },
   "source": [
    "#### Inicializamos la araña con información"
   ]
  },
  {
   "cell_type": "code",
   "execution_count": 4,
   "metadata": {
    "collapsed": true,
    "slideshow": {
     "slide_type": "fragment"
    }
   },
   "outputs": [],
   "source": [
    "import scrapy"
   ]
  },
  {
   "cell_type": "code",
   "execution_count": 5,
   "metadata": {
    "collapsed": false,
    "slideshow": {
     "slide_type": "fragment"
    }
   },
   "outputs": [],
   "source": [
    "class MySpider(scrapy.Spider):\n",
    "    name='idealista'\n",
    "    allowed_domains=[\"idealista.com\"]\n",
    "    start_urls=['https://www.idealista.com/alquiler-viviendas/bilbao-vizcaya/']"
   ]
  },
  {
   "cell_type": "markdown",
   "metadata": {
    "slideshow": {
     "slide_type": "subslide"
    }
   },
   "source": [
    "![](./img/idealista-pp.png)"
   ]
  },
  {
   "cell_type": "markdown",
   "metadata": {
    "slideshow": {
     "slide_type": "subslide"
    }
   },
   "source": [
    "#### Procesamos las páginas con la lista de pisos"
   ]
  },
  {
   "cell_type": "code",
   "execution_count": 6,
   "metadata": {
    "collapsed": true,
    "slideshow": {
     "slide_type": "fragment"
    }
   },
   "outputs": [],
   "source": [
    "def parse(self,response):\n",
    "\n",
    "    flats=[i for i in response.xpath(\"//a/@href\").extract() if \"/inmueble/\" in i]\n",
    "\n",
    "    for flat in flats:\n",
    "        flaturl=response.urljoin(cube)\n",
    "        yield scrapy.Request(flaturl,callback=self.parseflat)\n",
    "\n",
    "    nexturl=response.xpath('//*[@class=\"next\"]/a/@href').extract()\n",
    "    if nexturl: \n",
    "        nexturl=response.urljoin(nexturl[0])\n",
    "        yield scrapy.Request(nexturl, callback=self.parse)"
   ]
  },
  {
   "cell_type": "markdown",
   "metadata": {
    "slideshow": {
     "slide_type": "fragment"
    }
   },
   "source": [
    "![](./img/idealista-next.png)"
   ]
  },
  {
   "cell_type": "markdown",
   "metadata": {
    "slideshow": {
     "slide_type": "subslide"
    }
   },
   "source": [
    "#### Procesamos las páginas individuales de cada piso\n",
    "\n",
    "(Devolviendo los datos que nos interesan)"
   ]
  },
  {
   "cell_type": "code",
   "execution_count": 7,
   "metadata": {
    "collapsed": true,
    "slideshow": {
     "slide_type": "fragment"
    }
   },
   "outputs": [],
   "source": [
    "def parseflat(self,response):\n",
    "\n",
    "    size=\"\"\n",
    "    orientation=\"\"\n",
    "    rooms=\"\"\n",
    "    misc_data_flat=response.xpath(\"//*[@id='details']/div[4]/ul/*/text()\").extract()\n",
    "    for i in misc_data_flat:\n",
    "        if u\"m²\" in i: size=i\n",
    "        if u\"Orientación\" in i: orientation=i\n",
    "        if \"habitaciones\" in i: rooms=i\n",
    "\n",
    "    floor=\"\"\n",
    "    int_ext=\"\"\n",
    "    lift=\"\"\n",
    "    misc_data_bldg=response.xpath(\"//*[@id='details']/div[5]/ul/*/text()\").extract()\n",
    "    for i in misc_data_bldg:\n",
    "        if \"Planta\" in i: floor=i\n",
    "        if \"interior\" in i: int_ext=\"interior\"\n",
    "        if \"exterior\" in i: int_ext=\"exterior\"\n",
    "        if \"ascensor\" in i: lift=i\n",
    "\n",
    "    addr_approx=response.xpath(\"//*[@id='main-info']/h1/span/text()\")[0].extract().split(' en ')[-1]\n",
    "    geodata=geocoder.google(addr_approx)\n",
    "    gps=geodata.latlng\n",
    "    cp=geodata.postal\n",
    "    publicdistance=\"?\"\n",
    "    \n",
    "    price=response.xpath(\"//*[@id='details']/div[2]/ul/li[1]/text()\")[0].extract()\n",
    "    contact=response.xpath(\"//*[@class='contact-phones']/*/p/text()\").extract()\n",
    "    pics=response.xpath(\"//img/@src\").extract()\n",
    "    deposit=response.xpath(\"//*[@id='details']/div[2]/ul/li[1]/text()\")[0].extract()\n",
    "    description=response.xpath(\"//*[@class='commentsContainer']/div/text()\")[0].extract()\n",
    "\n",
    "    return {'size':size,\n",
    "            'orientation': orientation,\n",
    "            'rooms': rooms,\n",
    "            'floor': floor,\n",
    "            'int_ext': int_ext,\n",
    "            'lift': lift,\n",
    "            'addr_approx': addr_approx,\n",
    "            'gps': gps,\n",
    "            'cp': cp,\n",
    "            'publicdistance': publicdistance,\n",
    "            'price': price,\n",
    "            'contact': contact,\n",
    "            'pics': pics,\n",
    "            'deposit': deposit,\n",
    "            'description': description}"
   ]
  },
  {
   "cell_type": "markdown",
   "metadata": {
    "slideshow": {
     "slide_type": "subslide"
    }
   },
   "source": [
    "![](./img/bad-data.png)"
   ]
  },
  {
   "cell_type": "markdown",
   "metadata": {
    "slideshow": {
     "slide_type": "subslide"
    }
   },
   "source": [
    "¡Y ya está!"
   ]
  },
  {
   "cell_type": "markdown",
   "metadata": {
    "slideshow": {
     "slide_type": "subslide"
    }
   },
   "source": [
    "![](./img/burnsff.png)"
   ]
  },
  {
   "cell_type": "markdown",
   "metadata": {
    "slideshow": {
     "slide_type": "slide"
    }
   },
   "source": [
    "### 04) Aclarar y repetir para el resto de webs"
   ]
  },
  {
   "cell_type": "markdown",
   "metadata": {
    "slideshow": {
     "slide_type": "fragment"
    }
   },
   "source": [
    "* Por cada web que queramos procesar necesitaremos una araña diferente"
   ]
  },
  {
   "cell_type": "markdown",
   "metadata": {
    "slideshow": {
     "slide_type": "fragment"
    }
   },
   "source": [
    "* Todas las arañas pueden ejecutarse a la vez y volcar los datos a un mismo fichero"
   ]
  },
  {
   "cell_type": "markdown",
   "metadata": {
    "slideshow": {
     "slide_type": "slide"
    }
   },
   "source": [
    "### 05) Introducción a datos en CSV"
   ]
  },
  {
   "cell_type": "markdown",
   "metadata": {
    "slideshow": {
     "slide_type": "fragment"
    }
   },
   "source": [
    "**`CSV`** quiere decir **`comma separated values`** (Valores separados por comas)"
   ]
  },
  {
   "cell_type": "markdown",
   "metadata": {
    "slideshow": {
     "slide_type": "fragment"
    }
   },
   "source": [
    "Un fichero CSV consiste en\n",
    "* Una cabecera con los campos\n",
    "* Un cuerpo con los datos"
   ]
  },
  {
   "cell_type": "markdown",
   "metadata": {
    "slideshow": {
     "slide_type": "fragment"
    }
   },
   "source": [
    "Los datos pueden estar separados por comas, espacios, tabulaciones..."
   ]
  },
  {
   "cell_type": "markdown",
   "metadata": {
    "slideshow": {
     "slide_type": "fragment"
    }
   },
   "source": [
    "Ejemplo: \n",
    "\n",
    "```\n",
    "nick,puesto,lenguaje\n",
    "achifaifa,BG28,python\n",
    "```"
   ]
  },
  {
   "cell_type": "markdown",
   "metadata": {
    "slideshow": {
     "slide_type": "subslide"
    }
   },
   "source": [
    "#### ¿Y los datos desconocidos?"
   ]
  },
  {
   "cell_type": "markdown",
   "metadata": {
    "slideshow": {
     "slide_type": "fragment"
    }
   },
   "source": [
    "Un campo vacío se expresa no escribiendo nada ahí"
   ]
  },
  {
   "cell_type": "markdown",
   "metadata": {
    "slideshow": {
     "slide_type": "fragment"
    }
   },
   "source": [
    "Ejemplo:\n",
    "```\n",
    "dato conocido 1,dato desconocido,dato conocido 2\n",
    "123,,abc\n",
    "```"
   ]
  },
  {
   "cell_type": "markdown",
   "metadata": {
    "slideshow": {
     "slide_type": "fragment"
    }
   },
   "source": [
    "Este formato es **muy** fácil de procesar con un programa o script"
   ]
  },
  {
   "cell_type": "markdown",
   "metadata": {
    "slideshow": {
     "slide_type": "slide"
    }
   },
   "source": [
    "### 05.5) Y JSON"
   ]
  },
  {
   "cell_type": "markdown",
   "metadata": {
    "slideshow": {
     "slide_type": "subslide"
    }
   },
   "source": [
    "Parecido, sólo que se usan corchetes. Usando el mismo ejemplo:"
   ]
  },
  {
   "cell_type": "markdown",
   "metadata": {
    "slideshow": {
     "slide_type": "fragment"
    }
   },
   "source": [
    "    [{\"nick\": \"achifaifa\", \"puesto\":\"BG28\", \"lenguaje\":\"python\"}"
   ]
  },
  {
   "cell_type": "markdown",
   "metadata": {
    "slideshow": {
     "slide_type": "fragment"
    }
   },
   "source": [
    "Para meter varios datos, se usan elementos de una lista en lugar de líneas en el archivo:"
   ]
  },
  {
   "cell_type": "markdown",
   "metadata": {
    "slideshow": {
     "slide_type": "fragment"
    }
   },
   "source": [
    "    [{\"nick\": \"achifaifa\", \"puesto\":\"BG28\", \"lenguaje\":\"python\"},\n",
    "    {\"nick\": \"xXx_Sephirot666_xXx\", \"puesto\":\"QB07\", \"lenguaje\":\"whitespace\"}]"
   ]
  },
  {
   "cell_type": "markdown",
   "metadata": {
    "slideshow": {
     "slide_type": "slide"
    }
   },
   "source": [
    "### 06) Introducción a GIS (Filtrando por CP)"
   ]
  },
  {
   "cell_type": "markdown",
   "metadata": {
    "slideshow": {
     "slide_type": "fragment"
    }
   },
   "source": [
    "Para filtrar por barrio podemos comparar las coordenadas GPS con la geometría del barrio."
   ]
  },
  {
   "cell_type": "markdown",
   "metadata": {
    "slideshow": {
     "slide_type": "fragment"
    }
   },
   "source": [
    "Las geometrías están disponibles en los datasets públicos de OSM, por ejemplo"
   ]
  },
  {
   "cell_type": "markdown",
   "metadata": {
    "slideshow": {
     "slide_type": "subslide"
    }
   },
   "source": [
    "#### No, ahora en serio"
   ]
  },
  {
   "cell_type": "markdown",
   "metadata": {
    "slideshow": {
     "slide_type": "fragment"
    }
   },
   "source": [
    "Hay una librería de python para eso"
   ]
  },
  {
   "cell_type": "code",
   "execution_count": 22,
   "metadata": {
    "collapsed": true,
    "slideshow": {
     "slide_type": "fragment"
    }
   },
   "outputs": [],
   "source": [
    "import geocoder"
   ]
  },
  {
   "cell_type": "code",
   "execution_count": 27,
   "metadata": {
    "collapsed": false,
    "slideshow": {
     "slide_type": "fragment"
    }
   },
   "outputs": [
    {
     "data": {
      "text/plain": [
       "u'26001'"
      ]
     },
     "execution_count": 27,
     "metadata": {},
     "output_type": "execute_result"
    }
   ],
   "source": [
    "geocoder.osm(\"Calle cubo, Vitoria\").postal"
   ]
  },
  {
   "cell_type": "markdown",
   "metadata": {
    "slideshow": {
     "slide_type": "fragment"
    }
   },
   "source": [
    "Podemos comprobar datos de calles y direcciones individuales, incluyendo el CP"
   ]
  },
  {
   "cell_type": "markdown",
   "metadata": {
    "slideshow": {
     "slide_type": "slide"
    }
   },
   "source": [
    "### 07) Primera visualización (Introducción a cartodb)"
   ]
  },
  {
   "cell_type": "markdown",
   "metadata": {
    "slideshow": {
     "slide_type": "fragment"
    }
   },
   "source": [
    "Uno de los atractivos de recoger datos georreferenciados es poder visualizarlos en un mapa"
   ]
  },
  {
   "cell_type": "markdown",
   "metadata": {
    "slideshow": {
     "slide_type": "fragment"
    }
   },
   "source": [
    "[CartoDB](http://cartodb.com) nos permite hacer esto fácilmente a partir de datasets con campos GPS"
   ]
  },
  {
   "cell_type": "markdown",
   "metadata": {
    "slideshow": {
     "slide_type": "subslide"
    }
   },
   "source": [
    "#### Ejemplo (idealista.com)"
   ]
  },
  {
   "cell_type": "markdown",
   "metadata": {
    "slideshow": {
     "slide_type": "fragment"
    }
   },
   "source": [
    "A partir de este dataset... \n",
    "\n",
    "![](./img/img-dataset-pisos.png)"
   ]
  },
  {
   "cell_type": "markdown",
   "metadata": {
    "slideshow": {
     "slide_type": "fragment"
    }
   },
   "source": [
    "Podemos obtener este mapa\n",
    "\n",
    "![](./img/toiletmap.png)"
   ]
  },
  {
   "cell_type": "markdown",
   "metadata": {
    "slideshow": {
     "slide_type": "subslide"
    }
   },
   "source": [
    "#### ¿Cómo se usa?"
   ]
  },
  {
   "cell_type": "markdown",
   "metadata": {
    "slideshow": {
     "slide_type": "fragment"
    }
   },
   "source": [
    "1) Creamos un dataset (Por ejemplo, con una araña ;P)"
   ]
  },
  {
   "cell_type": "markdown",
   "metadata": {
    "slideshow": {
     "slide_type": "fragment"
    }
   },
   "source": [
    "2) Lo subimos a la web"
   ]
  },
  {
   "cell_type": "markdown",
   "metadata": {
    "slideshow": {
     "slide_type": "fragment"
    }
   },
   "source": [
    "3) Creamos un mapa y especificamos el tipo de visualización, mapa, etc"
   ]
  },
  {
   "cell_type": "markdown",
   "metadata": {
    "slideshow": {
     "slide_type": "fragment"
    }
   },
   "source": [
    "¡Y ya está!\n",
    "\n",
    "[https://achifaifa.carto.com/viz/17106e8c-4dfd-11e6-ade8-0ee66e2c9693/public_map](https://achifaifa.carto.com/viz/17106e8c-4dfd-11e6-ade8-0ee66e2c9693/public_map)\n",
    "\n",
    "![](./img/cartodb-rent.png)"
   ]
  },
  {
   "cell_type": "markdown",
   "metadata": {
    "slideshow": {
     "slide_type": "slide"
    }
   },
   "source": [
    "### 08) Datos sucios (Completando GPS)"
   ]
  },
  {
   "cell_type": "markdown",
   "metadata": {
    "slideshow": {
     "slide_type": "fragment"
    }
   },
   "source": [
    "Muchas de las páginas no tienen datos GPS (O tienen datos GPS y no otros, o tienen datos erróneos...)"
   ]
  },
  {
   "cell_type": "markdown",
   "metadata": {
    "slideshow": {
     "slide_type": "fragment"
    }
   },
   "source": [
    "Necesitamos completar los datos que faltan"
   ]
  },
  {
   "cell_type": "markdown",
   "metadata": {
    "slideshow": {
     "slide_type": "fragment"
    }
   },
   "source": [
    "* `geocoding` (GPS sobre sobre dirección)"
   ]
  },
  {
   "cell_type": "markdown",
   "metadata": {
    "slideshow": {
     "slide_type": "fragment"
    }
   },
   "source": [
    "* `reverse geocoding` (Calles, CP, ciudades, países, etc sobre coordenadas GPS) "
   ]
  },
  {
   "cell_type": "markdown",
   "metadata": {
    "slideshow": {
     "slide_type": "subslide"
    }
   },
   "source": [
    "#### Geocoding en python"
   ]
  },
  {
   "cell_type": "markdown",
   "metadata": {
    "slideshow": {
     "slide_type": "fragment"
    }
   },
   "source": [
    "Hay **muchas** maneras de hacerlo. "
   ]
  },
  {
   "cell_type": "markdown",
   "metadata": {
    "slideshow": {
     "slide_type": "fragment"
    }
   },
   "source": [
    "Desde descargarnos todo el dataset de OSM (>600GB) hasta usar una API o una librería"
   ]
  },
  {
   "cell_type": "markdown",
   "metadata": {
    "slideshow": {
     "slide_type": "fragment"
    }
   },
   "source": [
    "La manera más fácil es usar (otra vez) la librería geocoder"
   ]
  },
  {
   "cell_type": "code",
   "execution_count": 1,
   "metadata": {
    "collapsed": true,
    "slideshow": {
     "slide_type": "subslide"
    }
   },
   "outputs": [],
   "source": [
    "import geocoder"
   ]
  },
  {
   "cell_type": "code",
   "execution_count": 21,
   "metadata": {
    "collapsed": false,
    "slideshow": {
     "slide_type": "fragment"
    }
   },
   "outputs": [
    {
     "data": {
      "text/plain": [
       "[43.285405, -2.9906238]"
      ]
     },
     "execution_count": 21,
     "metadata": {},
     "output_type": "execute_result"
    }
   ],
   "source": [
    "geocoder.osm(\"BEC, Barakaldo\").latlng"
   ]
  },
  {
   "cell_type": "code",
   "execution_count": 19,
   "metadata": {
    "collapsed": false,
    "slideshow": {
     "slide_type": "fragment"
    }
   },
   "outputs": [
    {
     "name": "stdout",
     "output_type": "stream",
     "text": [
      "Parking B, Ismael Gorostiza hiribidea, La Paz, Retuerto, Barakaldo, Bizkaia, Euskadi, 48902, España\n"
     ]
    }
   ],
   "source": [
    "print geocoder.reverse((43.285405, -2.9906238), provider='osm').address"
   ]
  },
  {
   "cell_type": "markdown",
   "metadata": {
    "slideshow": {
     "slide_type": "fragment"
    }
   },
   "source": [
    "Y ya está! Podemos añadir esta funcionalidad a nuestra araña para evitar tener que procesar los datos después"
   ]
  },
  {
   "cell_type": "markdown",
   "metadata": {
    "slideshow": {
     "slide_type": "slide"
    }
   },
   "source": [
    "### 09) Datos conseguidos. ¿Qué buscamos? (Piscina, jardín, precio...)"
   ]
  },
  {
   "cell_type": "markdown",
   "metadata": {
    "slideshow": {
     "slide_type": "fragment"
    }
   },
   "source": [
    "Al explorar/procesar datos, es muy importante tener las cosas claras:"
   ]
  },
  {
   "cell_type": "markdown",
   "metadata": {
    "slideshow": {
     "slide_type": "fragment"
    }
   },
   "source": [
    "#### ¿Qué pregunta queremos responder? ¿Qué duda queremos resolver? ¿Cuál es nuestro objetivo?"
   ]
  },
  {
   "cell_type": "markdown",
   "metadata": {
    "slideshow": {
     "slide_type": "fragment"
    }
   },
   "source": [
    "En nuestro caso, queremos saber cuál es el mejor piso."
   ]
  },
  {
   "cell_type": "markdown",
   "metadata": {
    "slideshow": {
     "slide_type": "subslide"
    }
   },
   "source": [
    "#### ¿Qué es un buen piso?"
   ]
  },
  {
   "cell_type": "markdown",
   "metadata": {
    "slideshow": {
     "slide_type": "fragment"
    }
   },
   "source": [
    "Las páginas immobiliarias no tienen un campo `piso_bueno` que podamos comprobar."
   ]
  },
  {
   "cell_type": "markdown",
   "metadata": {
    "slideshow": {
     "slide_type": "fragment"
    }
   },
   "source": [
    "Necesitamos aclarar qué es para nosotros un piso bueno."
   ]
  },
  {
   "cell_type": "markdown",
   "metadata": {
    "slideshow": {
     "slide_type": "fragment"
    }
   },
   "source": [
    "* Tamaño (En este caso, entre 70 y 100m²)"
   ]
  },
  {
   "cell_type": "markdown",
   "metadata": {
    "slideshow": {
     "slide_type": "fragment"
    }
   },
   "source": [
    "* Altura (Daremos más prioridad a immuebles en pisos muy altos)"
   ]
  },
  {
   "cell_type": "markdown",
   "metadata": {
    "slideshow": {
     "slide_type": "fragment"
    }
   },
   "source": [
    "* Distancia a transporte público (En este caso, distancia a la parada de metro más cercana)"
   ]
  },
  {
   "cell_type": "markdown",
   "metadata": {
    "slideshow": {
     "slide_type": "fragment"
    }
   },
   "source": [
    "* Estado del piso (Daremos más peso a pisos nuevos que a pisos de 30 años)"
   ]
  },
  {
   "cell_type": "markdown",
   "metadata": {
    "slideshow": {
     "slide_type": "fragment"
    }
   },
   "source": [
    "* N° de habitaciones y baños (1..3, 1..2)"
   ]
  },
  {
   "cell_type": "markdown",
   "metadata": {
    "slideshow": {
     "slide_type": "fragment"
    }
   },
   "source": [
    "* Gastos de comunidad, cuarto de bicis, orientación, etc etc"
   ]
  },
  {
   "cell_type": "markdown",
   "metadata": {
    "slideshow": {
     "slide_type": "slide"
    }
   },
   "source": [
    "### 10) Asignando pesos a variables"
   ]
  },
  {
   "cell_type": "markdown",
   "metadata": {
    "slideshow": {
     "slide_type": "fragment"
    }
   },
   "source": [
    "Una vez sepamos exactamente lo que queremos, podemos asignar pesos a las variables."
   ]
  },
  {
   "cell_type": "markdown",
   "metadata": {
    "slideshow": {
     "slide_type": "fragment"
    }
   },
   "source": [
    "El peso de una variable define su importancia dentro del conjunto de variables."
   ]
  },
  {
   "cell_type": "markdown",
   "metadata": {
    "slideshow": {
     "slide_type": "fragment"
    }
   },
   "source": [
    "e.g.:  \n",
    "Tamaño -> peso 10, Habitaciones -> peso 1  \n",
    "Con este criterio, un piso más grande será preferible a un piso con muchísimas más habitaciones  "
   ]
  },
  {
   "cell_type": "markdown",
   "metadata": {
    "slideshow": {
     "slide_type": "fragment"
    }
   },
   "source": [
    "Tendremos que elegir cómo de importante son las diferentes características para nosotros (Y ajustarlo según veamos los resultados)"
   ]
  },
  {
   "cell_type": "markdown",
   "metadata": {
    "slideshow": {
     "slide_type": "subslide"
    }
   },
   "source": [
    "* Tamaño: 8"
   ]
  },
  {
   "cell_type": "markdown",
   "metadata": {
    "slideshow": {
     "slide_type": "fragment"
    }
   },
   "source": [
    "* Precio: 10"
   ]
  },
  {
   "cell_type": "markdown",
   "metadata": {
    "slideshow": {
     "slide_type": "fragment"
    }
   },
   "source": [
    "* Altura: 6"
   ]
  },
  {
   "cell_type": "markdown",
   "metadata": {
    "slideshow": {
     "slide_type": "fragment"
    }
   },
   "source": [
    "* Distancia T.P.: 7"
   ]
  },
  {
   "cell_type": "markdown",
   "metadata": {
    "slideshow": {
     "slide_type": "fragment"
    }
   },
   "source": [
    "* Estado: 6"
   ]
  },
  {
   "cell_type": "markdown",
   "metadata": {
    "slideshow": {
     "slide_type": "subslide"
    }
   },
   "source": [
    "* Habitaciones: 3"
   ]
  },
  {
   "cell_type": "markdown",
   "metadata": {
    "slideshow": {
     "slide_type": "fragment"
    }
   },
   "source": [
    "* Comunidad: 0 (Pagamos alquiler, no vamos a comprar ;P)"
   ]
  },
  {
   "cell_type": "markdown",
   "metadata": {
    "slideshow": {
     "slide_type": "fragment"
    }
   },
   "source": [
    "* Cuarto de bicis: 4"
   ]
  },
  {
   "cell_type": "markdown",
   "metadata": {
    "slideshow": {
     "slide_type": "fragment"
    }
   },
   "source": [
    "* Orientación: 5"
   ]
  },
  {
   "cell_type": "markdown",
   "metadata": {
    "slideshow": {
     "slide_type": "slide"
    }
   },
   "source": [
    "### 11) Primera tentativa a lo burro"
   ]
  },
  {
   "cell_type": "markdown",
   "metadata": {
    "slideshow": {
     "slide_type": "fragment"
    }
   },
   "source": [
    "Normalmente se usan técnicas parecidas en el ámbito del aprendizaje máquina (`machine learning`)"
   ]
  },
  {
   "cell_type": "markdown",
   "metadata": {
    "slideshow": {
     "slide_type": "fragment"
    }
   },
   "source": [
    "Como es nuestro primerito día y estamos en Bilbao, vamos a hacerlo a lo bruto"
   ]
  },
  {
   "cell_type": "markdown",
   "metadata": {
    "slideshow": {
     "slide_type": "fragment"
    }
   },
   "source": [
    "Colocaremos los \"puntos\" que da cada parámetro, y los sumaremos con los pesos"
   ]
  },
  {
   "cell_type": "code",
   "execution_count": 1,
   "metadata": {
    "collapsed": true,
    "slideshow": {
     "slide_type": "subslide"
    }
   },
   "outputs": [],
   "source": [
    "valores={\n",
    "    \"tamano\": {\"71-100\": 10, \"60-70\": 6, \"101-120\": 6},\n",
    "    \"precio\": {\"0-500\": 10, \"501-700\": 9, \"701-900\": 7, \">901\": 4},\n",
    "    \"altura\": {\">5\": 10, \"3-4\": 8, \"2\": 4, \"1\": 2},\n",
    "    \"habitaciones\": {\"1\": 2, \"2\": 10, \"3\": 8, \">3\": 4}\n",
    "}"
   ]
  },
  {
   "cell_type": "code",
   "execution_count": 2,
   "metadata": {
    "collapsed": true,
    "slideshow": {
     "slide_type": "fragment"
    }
   },
   "outputs": [],
   "source": [
    "pesos={\n",
    "    \"tamano\": 8,\n",
    "    \"precio\": 10,\n",
    "    \"altura\": 6,\n",
    "    \"habitaciones\": 3\n",
    "}"
   ]
  },
  {
   "cell_type": "code",
   "execution_count": 3,
   "metadata": {
    "collapsed": true,
    "slideshow": {
     "slide_type": "subslide"
    }
   },
   "outputs": [],
   "source": [
    "import json\n",
    "with open(\"./data/pisos.json\", \"r\") as infile:\n",
    "    pisos=json.load(infile)"
   ]
  },
  {
   "cell_type": "code",
   "execution_count": 13,
   "metadata": {
    "collapsed": true,
    "slideshow": {
     "slide_type": "fragment"
    }
   },
   "outputs": [],
   "source": [
    "def tamano_piso(piso):\n",
    "    raw=piso[\"size\"].split(\", \")\n",
    "    try: \n",
    "        return int(raw[-1].split()[0].strip())\n",
    "    except: \n",
    "        return -1"
   ]
  },
  {
   "cell_type": "code",
   "execution_count": 14,
   "metadata": {
    "collapsed": true,
    "slideshow": {
     "slide_type": "fragment"
    }
   },
   "outputs": [],
   "source": [
    "def precio_piso(piso):\n",
    "    raw=piso[\"price\"]\n",
    "    try:\n",
    "        return int(raw.split()[0].strip())\n",
    "    except:\n",
    "        return -1"
   ]
  },
  {
   "cell_type": "code",
   "execution_count": 15,
   "metadata": {
    "collapsed": true,
    "slideshow": {
     "slide_type": "subslide"
    }
   },
   "outputs": [],
   "source": [
    "def altura_piso(piso):\n",
    "    raw=piso[\"floor\"]\n",
    "    try:\n",
    "        return int(raw.split()[1][:-1])\n",
    "    except:\n",
    "        return -1"
   ]
  },
  {
   "cell_type": "code",
   "execution_count": 23,
   "metadata": {
    "collapsed": true,
    "slideshow": {
     "slide_type": "fragment"
    }
   },
   "outputs": [],
   "source": [
    "def habitaciones_piso(piso):\n",
    "    raw=piso[\"rooms\"]\n",
    "    try:\n",
    "        return int(raw.split()[0].strip())\n",
    "    except:\n",
    "        return -1"
   ]
  },
  {
   "cell_type": "code",
   "execution_count": 17,
   "metadata": {
    "collapsed": false,
    "slideshow": {
     "slide_type": "subslide"
    }
   },
   "outputs": [],
   "source": [
    "def eval_piso(piso):\n",
    "    t=tamano_piso(piso)\n",
    "    p=precio_piso(piso)\n",
    "    a=altura_piso(piso)\n",
    "    h=habitaciones_piso(piso)\n",
    "    \n",
    "    tamstr=\"71-100\"  if t>70 and t<110 else \"60-70\" if t<71 and t>59 else \"101-120\" if t>100 and t<121 else \"?\"\n",
    "    prestr=\"0-500\" if p>0 and p<501 else \"501-700\" if p>500 and p<701 else \"701-900\" if p>700 and p<901 else \">901\"\n",
    "    altstr=\">5\" if a>5 else \"3-4\" if a in [3,4] else str(a) if a>0 else \"\"\n",
    "    habstr=\">3\" if h>3 else str(h) if h>0 else \"?\"\n",
    "    \n",
    "    return {\"tamano\":tamstr,\n",
    "            \"precio\":prestr,\n",
    "            \"altura\": altstr,\n",
    "            \"habitaciones\": habstr}\n",
    "    "
   ]
  },
  {
   "cell_type": "code",
   "execution_count": 56,
   "metadata": {
    "collapsed": false,
    "slideshow": {
     "slide_type": "subslide"
    }
   },
   "outputs": [],
   "source": [
    "pisos_rated=[]\n",
    "for oferta in pisos:\n",
    "    peso=0\n",
    "    datos_oferta=eval_piso(oferta)\n",
    "    for c in [\"tamano\", \"precio\", \"altura\", \"habitaciones\"]:\n",
    "        peso+=(valores[c].get(datos_oferta[c], 5)*pesos[c])\n",
    "    pisos_rated.append((peso, oferta))\n",
    "\n",
    "pisos_sorted=sorted(pisos_rated, reverse=True)"
   ]
  },
  {
   "cell_type": "code",
   "execution_count": 61,
   "metadata": {
    "collapsed": false,
    "slideshow": {
     "slide_type": "subslide"
    }
   },
   "outputs": [
    {
     "name": "stdout",
     "output_type": "stream",
     "text": [
      "Score: 260, Location: calle santa clara, 5, Santutxu-Basarrate, Bilbao, Price:  675 eur/mes - \n",
      "\n",
      "     \"Piso de 80m2. de 2 dormitorios, gran salón independiente con acceso a terraza de 10m2, cocina amueblada y equipada, 1 baño, calefacción individual de gas natural y armarios empotrados. Piso exterior y amueblado. Gastos de comunidad incluidos en el precio de la renta. Finca con ascensor. Piso a 2 minutos del Metro Santutxu, cercano a toda la zona comercial y de ocio.\" \n",
      "\n",
      "     Planta 7ª exterior   Con ascensor  exterior\n",
      "      80 m² construidos  \n",
      "    Location: calle santa clara, 5, Santutxu-Basarrate, Bilbao (43.2630126 -2.9349852)\n",
      "    \n",
      "    Contact:  902 375 777 \n",
      "    \n",
      "    ==============================================\n",
      "Score: 254, Location: julián gayarre, Otxarkoaga - Txurdinaga, Bilbao, Price:  700 eur/mes - \n",
      "\n",
      "     \"Bonito piso, exterior, luminoso y muy amplio. Consta de 3 habitaciones, cocina equipada, salón grande 1 baño y 1 aseo. Con calefacción individual a gas natural, ventanas con acristalamiento de climalit, suelos de parquet y paredes lisas. Para entrar a vivir\" \n",
      "\n",
      "     Planta 6ª exterior   Con ascensor  exterior\n",
      "      90 m² construidos, 82 m² útiles  \n",
      "    Location: julián gayarre, Otxarkoaga - Txurdinaga, Bilbao (43.2535172 -2.9019254)\n",
      "    \n",
      "    Contact:  944 943 591 \n",
      "    \n",
      "    ==============================================\n",
      "Score: 254, Location: calle zurbaranbarri auzoa, Zurbarán, Bilbao, Price:  690 eur/mes - \n",
      "\n",
      "     \"En la parte alta de Zurbaranbarri y junto a la Vía Vieja de Lezama se alquila este bonito piso, lleno de luz y con unas vistas inigualables a toda la ciudad.\n",
      "\n",
      "     Planta 11ª exterior   Con ascensor  exterior\n",
      "      85 m² construidos  \n",
      "    Location: calle zurbaranbarri auzoa, Zurbarán, Bilbao (43.2647711 -2.9118429)\n",
      "    \n",
      "    Contact:  944 941 068 \n",
      "    \n",
      "    ==============================================\n",
      "Score: 254, Location: Artatzu-Larraskitu, Bilbao, Price:  700 eur/mes - \n",
      "\n",
      "     \"Piso de alquiler , totalmente amueblado, amplio, con calefacción y ascensor. Se solicita demostrar ingresos. \" \n",
      "\n",
      "     Planta 6ª   Con ascensor  \n",
      "      75 m² construidos  \n",
      "    Location: Artatzu-Larraskitu, Bilbao (43.2630126 -2.9349852)\n",
      "    \n",
      "    Contact:  944 944 853 \n",
      "    \n",
      "    ==============================================\n",
      "Score: 248, Location: calle Intxorta Mendiaren, 2, San Adrián, Bilbao, Price:  600 eur/mes - \n",
      "\n",
      "     \"Calefaccion individual, tendedero, amueblado completo\" \n",
      "\n",
      "     Planta 4ª exterior   Con ascensor  exterior\n",
      "      75 m² construidos  \n",
      "    Location: calle Intxorta Mendiaren, 2, San Adrián, Bilbao (43.2476558 -2.9310483)\n",
      "    \n",
      "    Contact:  609 940 652 \n",
      "    \n",
      "    ==============================================\n"
     ]
    }
   ],
   "source": [
    "for item in pisos_sorted[:5]:\n",
    "    d=item[1]\n",
    "\n",
    "    print \"\"\"Score: %i, Location: %s, Price: %s\n",
    "\n",
    "    %s\n",
    "\n",
    "    %s %s %s\n",
    "    %s %s \n",
    "    Location: %s (%s)\n",
    "    \n",
    "    Contact: %s\n",
    "    \n",
    "    ==============================================\"\"\"%(item[0], d['addr_approx'], d['price'], \n",
    "              d['description'], \n",
    "              d['floor'], d['lift'], d['int_ext'],\n",
    "              d['orientation'], d['size'], \n",
    "              d['addr_approx'], \" \".join([str(i) for i in d['gps']]),\n",
    "              d['contact'][0]\n",
    "             )"
   ]
  },
  {
   "cell_type": "code",
   "execution_count": 65,
   "metadata": {
    "collapsed": false,
    "slideshow": {
     "slide_type": "subslide"
    }
   },
   "outputs": [
    {
     "name": "stdout",
     "output_type": "stream",
     "text": [
      "Score: 104, Location: Campuzano, Bilbao, Price:  1.600 eur/mes - \n",
      "\n",
      "     \"PISO DE 135 M2 EN INDAUTXU, SALÓN-COMEDOR DE 30 M2, 4 HABITACIONES, 2 BAÑOS, COCINA EQUIPADA, CALEFACCIÓN GAS NATURAL INDIVIDUAL, ASCENSOR, HORMIGÓN.\" \n",
      "\n",
      "     Planta 1ª exterior   Con ascensor  exterior\n",
      "      145 m² construidos, 135 m² útiles  \n",
      "    Location: Campuzano, Bilbao (43.3418599 -4.034507)\n",
      "    \n",
      "    Contact:  944 941 086 \n",
      "    \n",
      "    ==============================================\n",
      "Score: 104, Location: Ensanche-Moyua, Bilbao, Price:  1.500 eur/mes - \n",
      "\n",
      "     \"Piso en alquiler, para oficinas, despachos..., Dispone de una superficie de 170 m², salón, 4 habitaciones, cocina, 2 baños, calefacción y a/c , con ascensor, exterior.\" \n",
      "\n",
      "     Planta 1ª exterior   Con ascensor  exterior\n",
      "      170 m² construidos  \n",
      "    Location: Ensanche-Moyua, Bilbao (43.2630126 -2.9349852)\n",
      "    \n",
      "    Contact:  944 947 561 \n",
      "    \n",
      "    ==============================================\n",
      "Score: 104, Location: San Pedro de Deusto-Arangoit, Bilbao, Price:  1.300 eur/mes - \n",
      "\n",
      "     \"Vivienda destinada al alquiler de estudiantes en Sarriko. 4 dormitorios, salón-comedor, cocina equipada y 2 baños. Calefacción central y agua caliente central. Exterior. Ascensor.\" \n",
      "\n",
      "     Planta 1ª exterior   Con ascensor  exterior\n",
      "      130 m² construidos  \n",
      "    Location: San Pedro de Deusto-Arangoit, Bilbao (43.2718846 -2.9450166)\n",
      "    \n",
      "    Contact:  944 947 257 \n",
      "    \n",
      "    ==============================================\n",
      "Score: 104, Location: areiltza doktorearen zumarkalea, 4, Sabino Arana-Jesuitas, Bilbao, Price:  2.300 eur/mes - \n",
      "\n",
      "     \"Piso totalmente reformado y adaptado para compartir por jóvenes: trabajo, MIR, estudiantes . Amueblado. Amplio salón de 36 m2, 6 habitaciones con luz natural, cocina y 3 baños totalmente reformados y equipados, terraza, calefacción central, instalación para wifi en todas las habitaciones, tendedero exterior. Junto a Gran Vía. Metro Indautxu\" \n",
      "\n",
      "     Planta 1ª exterior   Con ascensor  exterior\n",
      "      200 m² construidos  \n",
      "    Location: areiltza doktorearen zumarkalea, 4, Sabino Arana-Jesuitas, Bilbao (43.2630126 -2.9349852)\n",
      "    \n",
      "    Contact:  626 636 389 \n",
      "    \n",
      "    ==============================================\n"
     ]
    }
   ],
   "source": [
    "for item in pisos_sorted[:-5:-1]:\n",
    "    d=item[1]\n",
    "\n",
    "    print \"\"\"Score: %i, Location: %s, Price: %s\n",
    "\n",
    "    %s\n",
    "\n",
    "    %s %s %s\n",
    "    %s %s \n",
    "    Location: %s (%s)\n",
    "    \n",
    "    Contact: %s\n",
    "    \n",
    "    ==============================================\"\"\"%(item[0], d['addr_approx'], d['price'], \n",
    "              d['description'], \n",
    "              d['floor'], d['lift'], d['int_ext'],\n",
    "              d['orientation'], d['size'], \n",
    "              d['addr_approx'], \" \".join([str(i) for i in d['gps']]),\n",
    "              d['contact'][0]\n",
    "             )"
   ]
  },
  {
   "cell_type": "markdown",
   "metadata": {
    "slideshow": {
     "slide_type": "slide"
    }
   },
   "source": [
    "### 12) Resultados, mejora, etc"
   ]
  },
  {
   "cell_type": "markdown",
   "metadata": {
    "slideshow": {
     "slide_type": "fragment"
    }
   },
   "source": [
    "Las arañas de búsqueda que hagamos no harán todo bien a la primera"
   ]
  },
  {
   "cell_type": "markdown",
   "metadata": {
    "slideshow": {
     "slide_type": "fragment"
    }
   },
   "source": [
    "¿Los campos erróneos son por nuestra araña o por la falta de estructura de la web?"
   ]
  },
  {
   "cell_type": "markdown",
   "metadata": {
    "slideshow": {
     "slide_type": "fragment"
    }
   },
   "source": [
    "Necesitaremos hacer [debug](PENDING URL) a nuestras arañas sin procesar todos los datos otra vez"
   ]
  },
  {
   "cell_type": "markdown",
   "metadata": {
    "slideshow": {
     "slide_type": "fragment"
    }
   },
   "source": [
    "Es **muy** fácil que pequeños errores pasen desapercibidos. ¡Estad al loro!"
   ]
  },
  {
   "cell_type": "markdown",
   "metadata": {
    "slideshow": {
     "slide_type": "fragment"
    }
   },
   "source": [
    "GIS es un mundo embarrado y pantanoso, pero es una herramienta útil"
   ]
  },
  {
   "cell_type": "markdown",
   "metadata": {
    "slideshow": {
     "slide_type": "slide"
    }
   },
   "source": [
    "### Conclusiones"
   ]
  },
  {
   "cell_type": "markdown",
   "metadata": {
    "slideshow": {
     "slide_type": "skip"
    }
   },
   "source": [
    "Consejos, fuentes, información extra, etc"
   ]
  },
  {
   "cell_type": "markdown",
   "metadata": {
    "slideshow": {
     "slide_type": "slide"
    }
   },
   "source": [
    "# ¿Dudas? ¿Preguntas?"
   ]
  },
  {
   "cell_type": "markdown",
   "metadata": {
    "slideshow": {
     "slide_type": "slide"
    }
   },
   "source": [
    "# Siri, ¡Búscame un piso!\n",
    "### ¡Gracias! <3\n",
    "\n",
    "Yuri Numerov (Achifaifa)  \n",
    "[achi.se](http://achi.se)  -  [achi (at) hush (.) ai]()\n",
    "\n",
    "Euskal Encounter 24, 2015-07-24"
   ]
  }
 ],
 "metadata": {
  "celltoolbar": "Slideshow",
  "kernelspec": {
   "display_name": "Python 2",
   "language": "python",
   "name": "python2"
  },
  "language_info": {
   "codemirror_mode": {
    "name": "ipython",
    "version": 2
   },
   "file_extension": ".py",
   "mimetype": "text/x-python",
   "name": "python",
   "nbconvert_exporter": "python",
   "pygments_lexer": "ipython2",
   "version": "2.7.12"
  }
 },
 "nbformat": 4,
 "nbformat_minor": 0
}
