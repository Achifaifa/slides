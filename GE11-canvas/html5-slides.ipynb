{
 "cells": [
  {
   "cell_type": "markdown",
   "metadata": {
    "slideshow": {
     "slide_type": "slide"
    }
   },
   "source": [
    "# Lienzos digitales\n",
    "## HTML5 canvas para arte digital y juegos\n",
    "\n",
    "#### Yuri Numerov (Achifaifa)\n",
    "#### GE11 (2017-03-??)\n",
    "\n",
    "##### Diapositivas en [code.achi.se/slides]()"
   ]
  },
  {
   "cell_type": "markdown",
   "metadata": {
    "slideshow": {
     "slide_type": "subslide"
    }
   },
   "source": [
    "### Sobre mí"
   ]
  },
  {
   "cell_type": "markdown",
   "metadata": {
    "slideshow": {
     "slide_type": "fragment"
    }
   },
   "source": [
    "¯\\\\\\_(ツ)_/¯"
   ]
  },
  {
   "cell_type": "markdown",
   "metadata": {
    "slideshow": {
     "slide_type": "slide"
    }
   },
   "source": [
    "### Qué es HTML5"
   ]
  },
  {
   "cell_type": "markdown",
   "metadata": {
    "slideshow": {
     "slide_type": "fragment"
    }
   },
   "source": [
    "TL;DR: Es la **nueva versión** del lenguaje de marcado **HTML**"
   ]
  },
  {
   "cell_type": "markdown",
   "metadata": {
    "slideshow": {
     "slide_type": "fragment"
    }
   },
   "source": [
    "Q: ¿Qué diferencia hay entre HTML y HTML5?  \n",
    "A: Ninguna. HTML5 es HTML. "
   ]
  },
  {
   "cell_type": "markdown",
   "metadata": {
    "slideshow": {
     "slide_type": "fragment"
    }
   },
   "source": [
    "[Aquí](https://es.wikipedia.org/wiki/HTML5#Diferencias_entre_HTML5_y_HTML4.2FXHTML) tenéis una lista de diferencias. "
   ]
  },
  {
   "cell_type": "markdown",
   "metadata": {
    "slideshow": {
     "slide_type": "fragment"
    }
   },
   "source": [
    "Nos centraremos en < canvas >, pero hay muchas otras novedades, como < audio >, < video >, etc"
   ]
  },
  {
   "cell_type": "markdown",
   "metadata": {
    "slideshow": {
     "slide_type": "slide"
    }
   },
   "source": [
    "### Qué es canvas"
   ]
  },
  {
   "cell_type": "markdown",
   "metadata": {
    "slideshow": {
     "slide_type": "fragment"
    }
   },
   "source": [
    "* Una de las etiquetas nuevas en el estándar HTML5"
   ]
  },
  {
   "cell_type": "markdown",
   "metadata": {
    "slideshow": {
     "slide_type": "fragment"
    }
   },
   "source": [
    "* Un medio para mostrar gráficos, animaciones, etc en el navegador usando JS"
   ]
  },
  {
   "cell_type": "markdown",
   "metadata": {
    "slideshow": {
     "slide_type": "slide"
    }
   },
   "source": [
    "### Qué es JS"
   ]
  },
  {
   "cell_type": "markdown",
   "metadata": {
    "slideshow": {
     "slide_type": "fragment"
    }
   },
   "source": [
    "Lenguaje de programación muy extendido en navegadores"
   ]
  },
  {
   "cell_type": "markdown",
   "metadata": {
    "slideshow": {
     "slide_type": "fragment"
    }
   },
   "source": [
    "Modificar páginas web, procesar datos, etc"
   ]
  },
  {
   "cell_type": "markdown",
   "metadata": {
    "slideshow": {
     "slide_type": "slide"
    }
   },
   "source": [
    "### Ejemplo básico (Nieve)"
   ]
  },
  {
   "cell_type": "markdown",
   "metadata": {
    "slideshow": {
     "slide_type": "fragment"
    }
   },
   "source": [
    "Vamos a hacer una animación sencilla para ver cómo funciona"
   ]
  },
  {
   "cell_type": "markdown",
   "metadata": {
    "slideshow": {
     "slide_type": "fragment"
    }
   },
   "source": [
    "Elemento canvas de 600x600 con nieve."
   ]
  },
  {
   "cell_type": "markdown",
   "metadata": {
    "slideshow": {
     "slide_type": "subslide"
    }
   },
   "source": [
    "### HTML"
   ]
  },
  {
   "cell_type": "markdown",
   "metadata": {
    "slideshow": {
     "slide_type": "fragment"
    }
   },
   "source": [
    "* Crear canvas usando la etiqueta `<canvas>`\n",
    "* Especificar un identificador con `id=\"texto`\n",
    "* Cargar el script que interactúe con el elemento"
   ]
  },
  {
   "cell_type": "markdown",
   "metadata": {
    "slideshow": {
     "slide_type": "fragment"
    }
   },
   "source": [
    "    <canvas id=\"simple\" width=\"600\" height=\"600\"></canvas>\n",
    "    <script></script>"
   ]
  },
  {
   "cell_type": "markdown",
   "metadata": {
    "slideshow": {
     "slide_type": "subslide"
    }
   },
   "source": [
    "### JS"
   ]
  },
  {
   "cell_type": "markdown",
   "metadata": {
    "slideshow": {
     "slide_type": "subslide"
    }
   },
   "source": [
    "Primero necesitamos especificar algunas cosas\n",
    "\n",
    "    c=document.getElementById(\"simple\");\n",
    "    ctx=c.getContext(\"2d\");\n",
    "    ctx.canvas.width=600;\n",
    "    ctx.canvas.height=600;\n",
    "    c.style.background=\"#000\";\n",
    "    ctx.fillStyle=\"white\";\n",
    "    ctx.strokeStyle=\"white\";\n",
    "  \n",
    "    snowdropn=500;\n",
    "    step=1;\n",
    "    starttime=Date.now();"
   ]
  },
  {
   "cell_type": "markdown",
   "metadata": {
    "slideshow": {
     "slide_type": "subslide"
    }
   },
   "source": [
    "    function updateclock(){\n",
    "\n",
    "      deltat=Date.now()-starttime\n",
    "      step=Math.floor(deltat/33)\n",
    "    }"
   ]
  },
  {
   "cell_type": "markdown",
   "metadata": {
    "slideshow": {
     "slide_type": "subslide"
    }
   },
   "source": [
    "    function main(){\n",
    "\n",
    "      ctx.clearRect(0,0,600,600);\n",
    "\n",
    "      // Create pool of snow drops\n",
    "      if (step==1){\n",
    "        snowlist={\"size\":0}\n",
    "        for (i=0; i<snowdropn; i++){\n",
    "          snowlist[i]={\"x\":Math.random()*1200,\"plane\":1+Math.floor(Math.random()*7)};\n",
    "          snowlist[i].snowstep=Math.random()*600/snowlist[i].plane      \n",
    "          snowlist.size++\n",
    "        }\n",
    "      }"
   ]
  },
  {
   "cell_type": "markdown",
   "metadata": {
    "slideshow": {
     "slide_type": "subslide"
    }
   },
   "source": [
    "        // Draw drops based on position(x), step and plane\n",
    "        for (i=0; i<snowdropn; i++){\n",
    "          ctx.fillRect(\n",
    "            snowlist[i].x-snowlist[i].plane*snowlist[i].snowstep+25*Math.sin(snowlist[i].snowstep*3.14/32),\n",
    "            snowlist[i].snowstep*snowlist[i].plane,\n",
    "            1+(snowlist[i].plane/2),1+(snowlist[i].plane/2) // Snow drop size\n",
    "          );\n",
    "\n",
    "          if (snowlist[i].snowstep*snowlist[i].plane>600){snowlist[i].snowstep=0}\n",
    "          else {snowlist[i].snowstep++}\n",
    "        }\n",
    "\n",
    "        updateclock();\n",
    "      }"
   ]
  },
  {
   "cell_type": "markdown",
   "metadata": {
    "slideshow": {
     "slide_type": "subslide"
    }
   },
   "source": [
    "    setInterval(main, 40);"
   ]
  },
  {
   "cell_type": "markdown",
   "metadata": {
    "slideshow": {
     "slide_type": "subslide"
    }
   },
   "source": [
    "### Veámoslo en acción!"
   ]
  },
  {
   "cell_type": "markdown",
   "metadata": {
    "slideshow": {
     "slide_type": "slide"
    }
   },
   "source": [
    "### Juegos en canvas"
   ]
  },
  {
   "cell_type": "markdown",
   "metadata": {
    "slideshow": {
     "slide_type": "subslide"
    }
   },
   "source": [
    "#### Conceptos básicos"
   ]
  },
  {
   "cell_type": "markdown",
   "metadata": {
    "slideshow": {
     "slide_type": "subslide"
    }
   },
   "source": [
    "Similar a las animaciones"
   ]
  },
  {
   "cell_type": "markdown",
   "metadata": {
    "slideshow": {
     "slide_type": "subslide"
    }
   },
   "source": [
    "Controlados por teclado/ratón"
   ]
  },
  {
   "cell_type": "markdown",
   "metadata": {
    "slideshow": {
     "slide_type": "subslide"
    }
   },
   "source": [
    "Vamos a hacer un juego de ejemplo"
   ]
  },
  {
   "cell_type": "markdown",
   "metadata": {
    "slideshow": {
     "slide_type": "subslide"
    }
   },
   "source": [
    "#### Superesquivatron5000"
   ]
  },
  {
   "cell_type": "markdown",
   "metadata": {
    "slideshow": {
     "slide_type": "subslide"
    }
   },
   "source": [
    "* El jugador controla un elemento en la pantalla"
   ]
  },
  {
   "cell_type": "markdown",
   "metadata": {
    "slideshow": {
     "slide_type": "subslide"
    }
   },
   "source": [
    "* La pantalla se llena de obstáculos (Bueno, *un* obstáculo)"
   ]
  },
  {
   "cell_type": "markdown",
   "metadata": {
    "slideshow": {
     "slide_type": "subslide"
    }
   },
   "source": [
    "* El jugador tiene que evitarlo(s)"
   ]
  },
  {
   "cell_type": "markdown",
   "metadata": {
    "slideshow": {
     "slide_type": "subslide"
    }
   },
   "source": [
    "      c=document.getElementById(\"game\");\n",
    "      ctx=c.getContext(\"2d\");\n",
    "      ctx.canvas.width=600;\n",
    "      ctx.canvas.height=600;\n",
    "      c.style.background=\"#000\";\n",
    "      ctx.fillStyle=\"white\";\n",
    "      ctx.strokeStyle=\"white\";\n",
    "\n",
    "      points=0\n",
    "      starttime=Date.now();\n",
    "      gameover=0\n",
    "\n",
    "      function updateclock(){\n",
    "\n",
    "        deltat=Date.now()-starttime\n",
    "        points=Math.floor(deltat/33)\n",
    "      }"
   ]
  },
  {
   "cell_type": "markdown",
   "metadata": {
    "slideshow": {
     "slide_type": "fragment"
    }
   },
   "source": [
    "      function moveobj(obj){\n",
    "\n",
    "        obj.x=300+300*Math.sin(points/(75+22*Math.sin(points/51)))\n",
    "        obj.y=300+300*Math.cos(points/(66+13*Math.sin(points/75)))\n",
    "      }\n",
    "\n",
    "      margin=7\n",
    "      function check(obj){\n",
    "\n",
    "        if (obj.x-margin<mousepos.x && mousepos.x<obj.x+margin && obj.y-margin<mousepos.y && mousepos.y<obj.y+margin){\n",
    "          gameover=1\n",
    "        }\n",
    "      }"
   ]
  },
  {
   "cell_type": "markdown",
   "metadata": {
    "slideshow": {
     "slide_type": "subslide"
    }
   },
   "source": [
    "      function main(){\n",
    "\n",
    "        if (gameover==0){\n",
    "          ctx.clearRect(0,0,600,600);\n",
    "          ctx.fillRect(mousepos.x-5, mousepos.y-5, 10,10)\n",
    "          moveobj(obj);\n",
    "          ctx.fillRect(obj.x, obj.y, 10,10);\n",
    "          ctx.fillText(points,5,15)\n",
    "          updateclock();\n",
    "          check(obj);\n",
    "        }\n",
    "        else{\n",
    "          ctx.fillText(\"GAME OVER\", 300,300)\n",
    "        }\n",
    "      }"
   ]
  },
  {
   "cell_type": "markdown",
   "metadata": {
    "slideshow": {
     "slide_type": "fragment"
    }
   },
   "source": [
    "### Demo time!"
   ]
  },
  {
   "cell_type": "markdown",
   "metadata": {
    "slideshow": {
     "slide_type": "fragment"
    }
   },
   "source": [
    "* Utilizando eventos de ratón y teclado podemos recibir input del jugador"
   ]
  },
  {
   "cell_type": "markdown",
   "metadata": {
    "slideshow": {
     "slide_type": "fragment"
    }
   },
   "source": [
    "* Nuestro `bucle principal` estará en `main()` (O como llamemos a esa función)"
   ]
  },
  {
   "cell_type": "markdown",
   "metadata": {
    "slideshow": {
     "slide_type": "fragment"
    }
   },
   "source": [
    "* Podemos elegir entre distintos bucles llamando a distintas funciones desde el main"
   ]
  },
  {
   "cell_type": "markdown",
   "metadata": {
    "slideshow": {
     "slide_type": "fragment"
    }
   },
   "source": [
    "### TO-DO (it yourself)"
   ]
  },
  {
   "cell_type": "markdown",
   "metadata": {
    "slideshow": {
     "slide_type": "fragment"
    }
   },
   "source": [
    "* Más objetos a esquivar\n",
    "* Power-ups\n",
    "* Planos (Frente, medio atrás)\n",
    "* Vidas\n",
    "* Objetos a capturar (salud, etc)\n",
    "* Puntos proporcionales a objetos\n",
    "* Diferentes escenarios\n",
    "* Personajes desbloqueables\n",
    "* Música, efectos de sonido"
   ]
  },
  {
   "cell_type": "markdown",
   "metadata": {
    "slideshow": {
     "slide_type": "slide"
    }
   },
   "source": [
    "# Lienzos digitales\n",
    "## HTML5 canvas para arte digital y juegos\n",
    "\n",
    "#### Yuri Numerov (Achifaifa)\n",
    "#### GE11 (2017-03-??)\n",
    "\n",
    "##### Diapositivas en [code.achi.se/slides]()"
   ]
  }
 ],
 "metadata": {
  "celltoolbar": "Slideshow",
  "kernelspec": {
   "display_name": "Python 2",
   "language": "python",
   "name": "python2"
  },
  "language_info": {
   "codemirror_mode": {
    "name": "ipython",
    "version": 2
   },
   "file_extension": ".py",
   "mimetype": "text/x-python",
   "name": "python",
   "nbconvert_exporter": "python",
   "pygments_lexer": "ipython2",
   "version": "2.7.12+"
  }
 },
 "nbformat": 4,
 "nbformat_minor": 0
}
