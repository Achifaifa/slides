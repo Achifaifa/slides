{
 "cells": [
  {
   "cell_type": "markdown",
   "metadata": {
    "slideshow": {
     "slide_type": "slide"
    }
   },
   "source": [
    "# Lienzos digitales\n",
    "## HTML5 canvas para arte digital y juegos\n",
    "\n",
    "#### Yuri Numerov (Achifaifa)\n",
    "#### GE11 (2017-03-??)\n",
    "\n",
    "##### Diapositivas en [code.achi.se/slides]()"
   ]
  },
  {
   "cell_type": "markdown",
   "metadata": {
    "slideshow": {
     "slide_type": "fragment"
    }
   },
   "source": [
    "### Sobre mí"
   ]
  },
  {
   "cell_type": "markdown",
   "metadata": {
    "slideshow": {
     "slide_type": "fragment"
    }
   },
   "source": [
    "¯\\\\\\_(ツ)_/¯"
   ]
  },
  {
   "cell_type": "markdown",
   "metadata": {
    "slideshow": {
     "slide_type": "fragment"
    }
   },
   "source": [
    "### Qué es HTML5"
   ]
  },
  {
   "cell_type": "markdown",
   "metadata": {
    "slideshow": {
     "slide_type": "fragment"
    }
   },
   "source": [
    "TL;DR: Es la **nueva versión** del lenguaje de marcado **HTML**"
   ]
  },
  {
   "cell_type": "markdown",
   "metadata": {
    "slideshow": {
     "slide_type": "fragment"
    }
   },
   "source": [
    "Q: ¿Qué diferencia hay entre HTML y HTML5?  \n",
    "A: Ninguna. HTML5 es HTML. "
   ]
  },
  {
   "cell_type": "markdown",
   "metadata": {
    "slideshow": {
     "slide_type": "fragment"
    }
   },
   "source": [
    "[Aquí](https://es.wikipedia.org/wiki/HTML5#Diferencias_entre_HTML5_y_HTML4.2FXHTML) tenéis una lista de diferencias. "
   ]
  },
  {
   "cell_type": "markdown",
   "metadata": {
    "slideshow": {
     "slide_type": "fragment"
    }
   },
   "source": [
    "Nos centraremos en < canvas >, pero hay muchas otras novedades, como < audio >, < video >, etc"
   ]
  },
  {
   "cell_type": "markdown",
   "metadata": {
    "slideshow": {
     "slide_type": "fragment"
    }
   },
   "source": [
    "### Qué es canvas"
   ]
  },
  {
   "cell_type": "markdown",
   "metadata": {
    "slideshow": {
     "slide_type": "fragment"
    }
   },
   "source": [
    "* Una de las etiquetas nuevas en el estándar HTML5"
   ]
  },
  {
   "cell_type": "markdown",
   "metadata": {
    "slideshow": {
     "slide_type": "fragment"
    }
   },
   "source": [
    "* Un medio para mostrar gráficos, animaciones, etc en el navegador usando JS"
   ]
  },
  {
   "cell_type": "markdown",
   "metadata": {
    "slideshow": {
     "slide_type": "fragment"
    }
   },
   "source": [
    "### Qué es JS"
   ]
  },
  {
   "cell_type": "markdown",
   "metadata": {
    "slideshow": {
     "slide_type": "subslide"
    }
   },
   "source": [
    "Lenguaje de programación muy extendido en navegadores"
   ]
  },
  {
   "cell_type": "markdown",
   "metadata": {
    "slideshow": {
     "slide_type": "subslide"
    }
   },
   "source": [
    "Modificar páginas web, procesar datos, etc"
   ]
  },
  {
   "cell_type": "markdown",
   "metadata": {
    "slideshow": {
     "slide_type": "subslide"
    }
   },
   "source": []
  },
  {
   "cell_type": "markdown",
   "metadata": {
    "slideshow": {
     "slide_type": "slide"
    }
   },
   "source": [
    "### Ejemplo básico (Nieve)"
   ]
  },
  {
   "cell_type": "markdown",
   "metadata": {
    "slideshow": {
     "slide_type": "subslide"
    }
   },
   "source": [
    "Vamos a hacer una animación sencilla para ver cómo funciona"
   ]
  },
  {
   "cell_type": "markdown",
   "metadata": {
    "slideshow": {
     "slide_type": "subslide"
    }
   },
   "source": [
    "Elemento canvas de 600x600 con nieve."
   ]
  },
  {
   "cell_type": "markdown",
   "metadata": {
    "slideshow": {
     "slide_type": "fragment"
    }
   },
   "source": [
    "### HTML"
   ]
  },
  {
   "cell_type": "markdown",
   "metadata": {
    "slideshow": {
     "slide_type": "subslide"
    }
   },
   "source": [
    "* Crear canvas usando la etiqueta `<canvas>`\n",
    "* Especificar un identificador con `id=\"texto`\n",
    "* Cargar el script que interactúe con el elemento"
   ]
  },
  {
   "cell_type": "markdown",
   "metadata": {},
   "source": [
    "    <canvas id=\"simple\" width=\"600\" height=\"600\"></canvas>\n",
    "    <script></script>"
   ]
  },
  {
   "cell_type": "markdown",
   "metadata": {
    "slideshow": {
     "slide_type": "fragment"
    }
   },
   "source": [
    "### Ejemplo básico (JS)"
   ]
  },
  {
   "cell_type": "markdown",
   "metadata": {
    "slideshow": {
     "slide_type": "subslide"
    }
   },
   "source": [
    "Primero necesitamos especificar algunas cosas\n",
    "\n",
    "    c=document.getElementById(\"simple\");\n",
    "    ctx=c.getContext(\"2d\");\n",
    "    ctx.canvas.width=600;\n",
    "    ctx.canvas.height=600;\n",
    "    c.style.background=\"#000\";\n",
    "    ctx.fillStyle=\"white\";\n",
    "    ctx.strokeStyle=\"white\";\n",
    "  \n",
    "    snowdropn=500;\n",
    "    step=1;\n",
    "    starttime=Date.now();"
   ]
  },
  {
   "cell_type": "markdown",
   "metadata": {
    "slideshow": {
     "slide_type": "subslide"
    }
   },
   "source": [
    "    function updateclock(){\n",
    "\n",
    "      deltat=Date.now()-starttime\n",
    "      step=Math.floor(deltat/33)\n",
    "    }"
   ]
  },
  {
   "cell_type": "markdown",
   "metadata": {
    "slideshow": {
     "slide_type": "subslide"
    }
   },
   "source": [
    "    function main(){\n",
    "\n",
    "      ctx.clearRect(0,0,600,600);\n",
    "\n",
    "      // Create pool of snow drops\n",
    "      if (step==1){\n",
    "        snowlist={\"size\":0}\n",
    "        for (i=0; i<snowdropn; i++){\n",
    "          snowlist[i]={\"x\":Math.random()*1200,\"plane\":1+Math.floor(Math.random()*7)};\n",
    "          snowlist[i].snowstep=Math.random()*600/snowlist[i].plane      \n",
    "          snowlist.size++\n",
    "        }\n",
    "      }"
   ]
  },
  {
   "cell_type": "markdown",
   "metadata": {
    "slideshow": {
     "slide_type": "subslide"
    }
   },
   "source": [
    "        // Draw drops based on position(x), step and plane\n",
    "        for (i=0; i<snowdropn; i++){\n",
    "          ctx.fillRect(\n",
    "            snowlist[i].x-snowlist[i].plane*snowlist[i].snowstep+25*Math.sin(snowlist[i].snowstep*3.14/32),\n",
    "            snowlist[i].snowstep*snowlist[i].plane,\n",
    "            1+(snowlist[i].plane/2),1+(snowlist[i].plane/2) // Snow drop size\n",
    "          );\n",
    "\n",
    "          if (snowlist[i].snowstep*snowlist[i].plane>600){snowlist[i].snowstep=0}\n",
    "          else {snowlist[i].snowstep++}\n",
    "        }\n",
    "\n",
    "        updateclock();\n",
    "      }"
   ]
  },
  {
   "cell_type": "markdown",
   "metadata": {
    "slideshow": {
     "slide_type": "subslide"
    }
   },
   "source": [
    "    setInterval(main, 40);"
   ]
  },
  {
   "cell_type": "markdown",
   "metadata": {
    "slideshow": {
     "slide_type": "subslide"
    }
   },
   "source": [
    "### Veámoslo en acción!"
   ]
  },
  {
   "cell_type": "markdown",
   "metadata": {
    "slideshow": {
     "slide_type": "slide"
    }
   },
   "source": [
    "### Opciones en canvas"
   ]
  },
  {
   "cell_type": "markdown",
   "metadata": {
    "slideshow": {
     "slide_type": "fragment"
    }
   },
   "source": [
    "### Cargando imágenes"
   ]
  },
  {
   "cell_type": "markdown",
   "metadata": {
    "slideshow": {
     "slide_type": "fragment"
    }
   },
   "source": [
    "### Juegos en canvas"
   ]
  },
  {
   "cell_type": "markdown",
   "metadata": {
    "slideshow": {
     "slide_type": "fragment"
    }
   },
   "source": [
    "### Interacción por teclado"
   ]
  },
  {
   "cell_type": "markdown",
   "metadata": {
    "slideshow": {
     "slide_type": "fragment"
    }
   },
   "source": [
    "### Menús, opciones, etc"
   ]
  },
  {
   "cell_type": "markdown",
   "metadata": {
    "slideshow": {
     "slide_type": "fragment"
    }
   },
   "source": []
  },
  {
   "cell_type": "markdown",
   "metadata": {},
   "source": []
  }
 ],
 "metadata": {
  "celltoolbar": "Slideshow",
  "kernelspec": {
   "display_name": "Python 2",
   "language": "python",
   "name": "python2"
  },
  "language_info": {
   "codemirror_mode": {
    "name": "ipython",
    "version": 2
   },
   "file_extension": ".py",
   "mimetype": "text/x-python",
   "name": "python",
   "nbconvert_exporter": "python",
   "pygments_lexer": "ipython2",
   "version": "2.7.12+"
  }
 },
 "nbformat": 4,
 "nbformat_minor": 0
}
