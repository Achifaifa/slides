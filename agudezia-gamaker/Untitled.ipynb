{
 "cells": [
  {
   "cell_type": "markdown",
   "metadata": {},
   "source": [
    "[logo gamaker]\n",
    "\n",
    "[intro]"
   ]
  },
  {
   "cell_type": "markdown",
   "metadata": {},
   "source": [
    "adn"
   ]
  },
  {
   "cell_type": "markdown",
   "metadata": {},
   "source": [
    "competitividad"
   ]
  },
  {
   "cell_type": "markdown",
   "metadata": {},
   "source": [
    "entorno"
   ]
  },
  {
   "cell_type": "markdown",
   "metadata": {},
   "source": [
    "retos"
   ]
  },
  {
   "cell_type": "markdown",
   "metadata": {},
   "source": [
    "finanzas/economía"
   ]
  },
  {
   "cell_type": "markdown",
   "metadata": {},
   "source": [
    "antes/después ag"
   ]
  },
  {
   "cell_type": "markdown",
   "metadata": {},
   "source": [
    "preguntas"
   ]
  },
  {
   "cell_type": "markdown",
   "metadata": {},
   "source": [
    "outro"
   ]
  }
 ],
 "metadata": {
  "celltoolbar": "Slideshow",
  "kernelspec": {
   "display_name": "Python 2",
   "language": "python",
   "name": "python2"
  },
  "language_info": {
   "codemirror_mode": {
    "name": "ipython",
    "version": 2
   },
   "file_extension": ".py",
   "mimetype": "text/x-python",
   "name": "python",
   "nbconvert_exporter": "python",
   "pygments_lexer": "ipython2",
   "version": "2.7.11+"
  }
 },
 "nbformat": 4,
 "nbformat_minor": 0
}
