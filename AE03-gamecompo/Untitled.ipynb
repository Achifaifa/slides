{
 "cells": [
  {
   "cell_type": "markdown",
   "metadata": {},
   "source": [
    "# Game Title Goes Here (GTGH)\n",
    "\n",
    "### Subtitle \n",
    "\n",
    "Yuri Numerov (Achifaifa)  \n",
    "[web](http://achi.se)  -  [achi at hush dot ai](mailto:achi@hush.ai) \n",
    "\n",
    "Diapositivas en [code.achi.se/slides](http://github.com/achifaifa/slides)\n",
    "\n",
    "Araba Encounter 03 (2016-10-07)"
   ]
  },
  {
   "cell_type": "markdown",
   "metadata": {},
   "source": [
    "### ¿Qué es (título)?"
   ]
  },
  {
   "cell_type": "markdown",
   "metadata": {},
   "source": [
    "* \"Novela visual\" AKA \"Aventura gráfica conversacional\" AKA \"Dating sim\""
   ]
  },
  {
   "cell_type": "markdown",
   "metadata": {},
   "source": [
    "* Consiste en conversar con los personajes (Escogiendo entre diferentes opciones) para avanzar en la historia"
   ]
  },
  {
   "cell_type": "markdown",
   "metadata": {},
   "source": [
    "* Normalmente tienen un componente romántico/sexual importante"
   ]
  },
  {
   "cell_type": "markdown",
   "metadata": {},
   "source": [
    "### ¿Cuál es la historia?"
   ]
  },
  {
   "cell_type": "markdown",
   "metadata": {},
   "source": [
    "Al igual que todos los juegos de este tipo, el atractivo principal es la historia y los personajes"
   ]
  },
  {
   "cell_type": "markdown",
   "metadata": {},
   "source": [
    "* El protagonista pierde el habla y el oído en un accidente"
   ]
  },
  {
   "cell_type": "markdown",
   "metadata": {},
   "source": [
    "* Es trasladado a una escuela para sordomudos"
   ]
  },
  {
   "cell_type": "markdown",
   "metadata": {},
   "source": [
    "* Tendrá que adaptarse a su nuevo entorno y superar sus problemas de comunicación"
   ]
  },
  {
   "cell_type": "markdown",
   "metadata": {},
   "source": [
    "### Mecánica de juego"
   ]
  },
  {
   "cell_type": "markdown",
   "metadata": {},
   "source": [
    "* Consiste en elegir entre diferentes diálogos"
   ]
  },
  {
   "cell_type": "markdown",
   "metadata": {},
   "source": [
    "##### Ejemplo:\n",
    "\n",
    "**\"Vamos a llegar tarde a la Araba\"**  \n",
    "```\n",
    "  [¡Corre!]  \n",
    "  [En realidad es el día preparty, así que tarde no llegamos]  \n",
    "  [Es que ves mucho Doctor Who. Si por lo menos llevara una Tempranis...]\n",
    "```"
   ]
  },
  {
   "cell_type": "markdown",
   "metadata": {},
   "source": [
    "* Sin embargo el protagonista no sabe utilizar lenguaje de signos"
   ]
  },
  {
   "cell_type": "markdown",
   "metadata": {},
   "source": [
    "* Utilizando [leapmotion o openCV], el jugador deberá aprender y comunicarse con este método"
   ]
  },
  {
   "cell_type": "markdown",
   "metadata": {},
   "source": [
    "### Concept art"
   ]
  },
  {
   "cell_type": "markdown",
   "metadata": {},
   "source": []
  },
  {
   "cell_type": "markdown",
   "metadata": {},
   "source": []
  },
  {
   "cell_type": "markdown",
   "metadata": {},
   "source": []
  },
  {
   "cell_type": "markdown",
   "metadata": {},
   "source": []
  }
 ],
 "metadata": {
  "celltoolbar": "Slideshow",
  "kernelspec": {
   "display_name": "Python 2",
   "language": "python",
   "name": "python2"
  },
  "language_info": {
   "codemirror_mode": {
    "name": "ipython",
    "version": 2
   },
   "file_extension": ".py",
   "mimetype": "text/x-python",
   "name": "python",
   "nbconvert_exporter": "python",
   "pygments_lexer": "ipython2",
   "version": "2.7.11+"
  }
 },
 "nbformat": 4,
 "nbformat_minor": 0
}
