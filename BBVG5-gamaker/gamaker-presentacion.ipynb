{
 "metadata": {
  "celltoolbar": "Slideshow",
  "name": "",
  "signature": "sha256:4e975bbd190e4d00168f105812f65ea21e9ff32399866389673d9047344ee3b8"
 },
 "nbformat": 3,
 "nbformat_minor": 0,
 "worksheets": [
  {
   "cells": [
    {
     "cell_type": "markdown",
     "metadata": {
      "slideshow": {
       "slide_type": "slide"
      }
     },
     "source": [
      "![](./images/logo-gamaker.png)"
     ]
    },
    {
     "cell_type": "markdown",
     "metadata": {
      "slideshow": {
       "slide_type": "subslide"
      }
     },
     "source": [
      "###\u00bfQui\u00e9nes somos?"
     ]
    },
    {
     "cell_type": "markdown",
     "metadata": {
      "slideshow": {
       "slide_type": "fragment"
      }
     },
     "source": [
      "* GAsteiz+MAKERs"
     ]
    },
    {
     "cell_type": "markdown",
     "metadata": {
      "slideshow": {
       "slide_type": "fragment"
      }
     },
     "source": [
      "* Hackerspace/Makerspace en el centro de Vitoria"
     ]
    },
    {
     "cell_type": "markdown",
     "metadata": {
      "slideshow": {
       "slide_type": "fragment"
      }
     },
     "source": [
      "* Punto de encuentro para intercambio de ideas, conocimientos y proyectos"
     ]
    },
    {
     "cell_type": "markdown",
     "metadata": {
      "slideshow": {
       "slide_type": "subslide"
      }
     },
     "source": [
      "###\u00bfQu\u00e9 hacemos?"
     ]
    },
    {
     "cell_type": "markdown",
     "metadata": {
      "slideshow": {
       "slide_type": "fragment"
      }
     },
     "source": [
      "* Compartir conocimiento (Reuniones, charlas, talleres, etc)"
     ]
    },
    {
     "cell_type": "markdown",
     "metadata": {
      "slideshow": {
       "slide_type": "fragment"
      }
     },
     "source": [
      "* Servir de punto de encuentro para aficionados a la tecnolog\u00eda"
     ]
    },
    {
     "cell_type": "markdown",
     "metadata": {
      "slideshow": {
       "slide_type": "fragment"
      }
     },
     "source": [
      "* Ofrecer ayuda y medios a gente con proyectos"
     ]
    },
    {
     "cell_type": "markdown",
     "metadata": {
      "slideshow": {
       "slide_type": "fragment"
      }
     },
     "source": [
      "* Impulsar y promocionar el software y las herramientas libres"
     ]
    },
    {
     "cell_type": "markdown",
     "metadata": {
      "slideshow": {
       "slide_type": "subslide"
      }
     },
     "source": [
      "###\u00bfD\u00f3nde estamos?"
     ]
    },
    {
     "cell_type": "markdown",
     "metadata": {
      "slideshow": {
       "slide_type": "fragment"
      }
     },
     "source": [
      "C:\\ Bueno Monreal 16, Bajo I  \n",
      "01001 Vitoria\n",
      "\n",
      "+42\u00b0 51' 05\" N; -02\u00b0 40' 14\" W \n",
      "\n",
      "![](./images/map.png)"
     ]
    },
    {
     "cell_type": "markdown",
     "metadata": {
      "slideshow": {
       "slide_type": "subslide"
      }
     },
     "source": [
      "###Instalaciones"
     ]
    },
    {
     "cell_type": "markdown",
     "metadata": {
      "slideshow": {
       "slide_type": "fragment"
      }
     },
     "source": [
      "##Impresi\u00f3n 3D y ordenadores\n",
      "\n",
      "![](./images/3D.jpg)"
     ]
    },
    {
     "cell_type": "markdown",
     "metadata": {
      "slideshow": {
       "slide_type": "subslide"
      }
     },
     "source": [
      "####Zona de trabajo\n",
      "\n",
      "![](./images/center.jpg)"
     ]
    },
    {
     "cell_type": "markdown",
     "metadata": {
      "slideshow": {
       "slide_type": "subslide"
      }
     },
     "source": [
      "####Electr\u00f3nica\n",
      "\n",
      "![](./images/electronics.jpg)"
     ]
    },
    {
     "cell_type": "markdown",
     "metadata": {
      "slideshow": {
       "slide_type": "subslide"
      }
     },
     "source": [
      "####Banco de trabajo\n",
      "\n",
      "![](./images/workbench.jpg)"
     ]
    },
    {
     "cell_type": "markdown",
     "metadata": {
      "slideshow": {
       "slide_type": "subslide"
      }
     },
     "source": [
      "####Almacenamiento\n",
      "\n",
      "![](./images/storage.jpg)"
     ]
    },
    {
     "cell_type": "markdown",
     "metadata": {
      "slideshow": {
       "slide_type": "subslide"
      }
     },
     "source": [
      "###Contacto y servicios\n",
      "\n",
      "* Listas de correo ([http://lista.gamaker.org]())\n",
      "* Wiki ([http://wiki.gamaker.org]())\n",
      "* IRC (#Gamaker @ freenode)\n",
      "* Twitter ([@Gamaker_](https://twitter.com/gamaker_))\n",
      "* Github ([Gamaker](https://github.com/gamaker))\n"
     ]
    }
   ],
   "metadata": {}
  }
 ]
}