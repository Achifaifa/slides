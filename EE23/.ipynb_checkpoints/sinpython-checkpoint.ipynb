{
 "metadata": {
  "celltoolbar": "Slideshow",
  "name": "",
  "signature": "sha256:46a95638d898e46590d6d8d258c46cab20f80f6143b4352c7b704147a1e4466d"
 },
 "nbformat": 3,
 "nbformat_minor": 0,
 "worksheets": [
  {
   "cells": [
    {
     "cell_type": "markdown",
     "metadata": {
      "slideshow": {
       "slide_type": "slide"
      }
     },
     "source": [
      "#\u00bfC\u00f3mo lo hac\u00e9is sin python?\n",
      "##PyJutsu para mortales\n",
      "###Yuri Numerov ([@Achifaifa](https://achi.se), [achi.se]())  \n",
      "###(Diapositivas en [code.achi.se/slides/EE23]())\n",
      "####Euskal Encounter 01 (2015-07-24)"
     ]
    },
    {
     "cell_type": "markdown",
     "metadata": {
      "slideshow": {
       "slide_type": "subslide"
      }
     },
     "source": [
      "###Sobre m\u00ed:\n",
      "\n"
     ]
    },
    {
     "cell_type": "markdown",
     "metadata": {
      "slideshow": {
       "slide_type": "fragment"
      }
     },
     "source": [
      "* Estudio inform\u00e1tica"
     ]
    },
    {
     "cell_type": "markdown",
     "metadata": {
      "slideshow": {
       "slide_type": "fragment"
      }
     },
     "source": [
      "* Arreglo y enredo con cosas"
     ]
    },
    {
     "cell_type": "markdown",
     "metadata": {
      "slideshow": {
       "slide_type": "fragment"
      }
     },
     "source": [
      "* No soy ning\u00fan experto! ;)"
     ]
    },
    {
     "cell_type": "markdown",
     "metadata": {
      "slideshow": {
       "slide_type": "subslide"
      }
     },
     "source": [
      "###Pero antes... Un poco de spam  \n",
      "<br/>\n",
      "<center>![](./images/logo-gamaker.png)  \n",
      "[gamaker.org](), [@Gamaker](https://twitter.com/gamaker_)</center>"
     ]
    },
    {
     "cell_type": "markdown",
     "metadata": {
      "slideshow": {
       "slide_type": "subslide"
      }
     },
     "source": [
      "###(Un poco m\u00e1s)\n",
      "\n",
      "<center>![](./images/euskalpython.png)  \n",
      "[@euskalpython](https://twitter.com/euskalpython) - python.euskadi@gmail.com</center>"
     ]
    },
    {
     "cell_type": "markdown",
     "metadata": {
      "slideshow": {
       "slide_type": "subslide"
      }
     },
     "source": [
      "### Venga, uno m\u00e1s :)\n",
      "\n",
      "![](./images/pyladies-logo.png)\n",
      "<center>[@Pyladies_ES](https://twitter.com/pyladies_es) - [pyladies-spain @ google groups](https://groups.google.com/forum/?hl=es#!forum/pyladies-spain)</center>"
     ]
    },
    {
     "cell_type": "markdown",
     "metadata": {
      "slideshow": {
       "slide_type": "slide"
      }
     },
     "source": [
      "##Vamos a aprender PyJutsu!\n",
      "<center>![](./images/python-logo.png)  \n",
      "![](./images/ninja-smokebomb.gif)</center>"
     ]
    },
    {
     "cell_type": "markdown",
     "metadata": {
      "slideshow": {
       "slide_type": "subslide"
      }
     },
     "source": [
      "#Python es:"
     ]
    },
    {
     "cell_type": "markdown",
     "metadata": {
      "slideshow": {
       "slide_type": "fragment"
      }
     },
     "source": [
      "* Un lenguaje de programaci\u00f3n"
     ]
    },
    {
     "cell_type": "markdown",
     "metadata": {
      "slideshow": {
       "slide_type": "fragment"
      }
     },
     "source": [
      "* Interpretado!"
     ]
    },
    {
     "cell_type": "markdown",
     "metadata": {
      "slideshow": {
       "slide_type": "fragment"
      }
     },
     "source": [
      "* De alto nivel"
     ]
    },
    {
     "cell_type": "markdown",
     "metadata": {
      "slideshow": {
       "slide_type": "fragment"
      }
     },
     "source": [
      "* Multiparadigma"
     ]
    },
    {
     "cell_type": "markdown",
     "metadata": {
      "slideshow": {
       "slide_type": "fragment"
      }
     },
     "source": [
      "* La soluci\u00f3n al 9X% de tus problemas"
     ]
    },
    {
     "cell_type": "markdown",
     "metadata": {
      "slideshow": {
       "slide_type": "subslide"
      }
     },
     "source": [
      "#Python *NO* es:"
     ]
    },
    {
     "cell_type": "markdown",
     "metadata": {
      "slideshow": {
       "slide_type": "fragment"
      }
     },
     "source": [
      "* Lorem fistrum jarl a gramenawer"
     ]
    },
    {
     "cell_type": "markdown",
     "metadata": {
      "slideshow": {
       "slide_type": "subslide"
      }
     },
     "source": [
      "###Y una aclaraci\u00f3n: Los comandos van aqu\u00ed:"
     ]
    },
    {
     "cell_type": "code",
     "collapsed": false,
     "input": [
      "3+2"
     ],
     "language": "python",
     "metadata": {
      "slideshow": {
       "slide_type": "fragment"
      }
     },
     "outputs": [
      {
       "metadata": {},
       "output_type": "pyout",
       "prompt_number": 31,
       "text": [
        "5"
       ]
      }
     ],
     "prompt_number": 31
    },
    {
     "cell_type": "markdown",
     "metadata": {
      "slideshow": {
       "slide_type": "fragment"
      }
     },
     "source": [
      "<center>![](./images/python-console.png)</center>"
     ]
    },
    {
     "cell_type": "markdown",
     "metadata": {
      "slideshow": {
       "slide_type": "subslide"
      }
     },
     "source": [
      "###O aqu\u00ed:\n",
      "\n",
      "<center>![](./images/editor.png)\n",
      "![](./images/lanzar.png)</center>"
     ]
    },
    {
     "cell_type": "markdown",
     "metadata": {
      "slideshow": {
       "slide_type": "subslide"
      }
     },
     "source": [
      "###Bonus: "
     ]
    },
    {
     "cell_type": "code",
     "collapsed": false,
     "input": [
      "# Todo lo que va despu\u00e9s de la almohadilla es ignorado por el int\u00e9rprete\n",
      "# \n",
      "# Esto no es c\u00f3digo!"
     ],
     "language": "python",
     "metadata": {
      "slideshow": {
       "slide_type": "fragment"
      }
     },
     "outputs": [],
     "prompt_number": 1
    },
    {
     "cell_type": "code",
     "collapsed": false,
     "input": [
      "def funcion():\n",
      "  \"\"\"\n",
      "  Esto se llama 'docstring', es tu mejor amiga.\n",
      "  \"\"\"\n",
      "  pass"
     ],
     "language": "python",
     "metadata": {
      "slideshow": {
       "slide_type": "fragment"
      }
     },
     "outputs": [],
     "prompt_number": 9
    },
    {
     "cell_type": "code",
     "collapsed": false,
     "input": [
      "help(funcion)"
     ],
     "language": "python",
     "metadata": {
      "slideshow": {
       "slide_type": "fragment"
      }
     },
     "outputs": [
      {
       "output_type": "stream",
       "stream": "stdout",
       "text": [
        "Help on function funcion in module __main__:\n",
        "\n",
        "funcion()\n",
        "    Esto se llama 'docstring', es tu mejor amiga.\n",
        "\n"
       ]
      }
     ],
     "prompt_number": 10
    },
    {
     "cell_type": "markdown",
     "metadata": {
      "slideshow": {
       "slide_type": "fragment"
      }
     },
     "source": [
      "Con esto podemos generar documentaci\u00f3n autom\u00e1ticamente!"
     ]
    },
    {
     "cell_type": "markdown",
     "metadata": {
      "slideshow": {
       "slide_type": "subslide"
      }
     },
     "source": [
      "###Otras charlas:\n",
      "<center>![](./images/camera-complex.jpg)</center>"
     ]
    },
    {
     "cell_type": "markdown",
     "metadata": {
      "slideshow": {
       "slide_type": "subslide"
      }
     },
     "source": [
      "###Esta charla:\n",
      "<center>![](./images/camera-simple.jpg)</center>"
     ]
    },
    {
     "cell_type": "markdown",
     "metadata": {
      "slideshow": {
       "slide_type": "subslide"
      }
     },
     "source": [
      "###Consiguiendo Python:\n",
      "\n",
      "[https://www.python.org/downloads/]()"
     ]
    },
    {
     "cell_type": "markdown",
     "metadata": {
      "slideshow": {
       "slide_type": "subslide"
      }
     },
     "source": [
      "###Python2 vs Python3\n",
      "\n",
      "\u00bfSois nuevos? -> Python3  \n",
      "\u00bfNo sab\u00e9is la diferencia? -? Python3"
     ]
    },
    {
     "cell_type": "markdown",
     "metadata": {
      "slideshow": {
       "slide_type": "slide"
      }
     },
     "source": [
      "#Programaci\u00f3n 101\n",
      "<center>![http://jimdavies.blogspot.com.es/2006/06/my-joke-oreilly-book.html](./images/oreilly-killbots.jpeg)</center>"
     ]
    },
    {
     "cell_type": "markdown",
     "metadata": {
      "slideshow": {
       "slide_type": "subslide"
      }
     },
     "source": [
      "###\u00bfQu\u00e9 es un programa?"
     ]
    },
    {
     "cell_type": "markdown",
     "metadata": {
      "slideshow": {
       "slide_type": "fragment"
      }
     },
     "source": [
      "Un conjunto de instrucciones que procesan y devuelven datos"
     ]
    },
    {
     "cell_type": "markdown",
     "metadata": {
      "slideshow": {
       "slide_type": "fragment"
      }
     },
     "source": [
      "Equiparable a una funci\u00f3n matem\u00e1tica"
     ]
    },
    {
     "cell_type": "markdown",
     "metadata": {
      "slideshow": {
       "slide_type": "subslide"
      }
     },
     "source": [
      "###Problema: \u00bfC\u00f3mo recibimos datos?"
     ]
    },
    {
     "cell_type": "markdown",
     "metadata": {
      "slideshow": {
       "slide_type": "fragment"
      }
     },
     "source": [
      "raw_input() devuelve una l\u00ednea de stdinput (Generalmente la consola)"
     ]
    },
    {
     "cell_type": "code",
     "collapsed": false,
     "input": [
      "raw_input(\"Escribe algo! \")"
     ],
     "language": "python",
     "metadata": {
      "slideshow": {
       "slide_type": "fragment"
      }
     },
     "outputs": [
      {
       "name": "stdout",
       "output_type": "stream",
       "stream": "stdout",
       "text": [
        "Escribe algo! Algo\n"
       ]
      },
      {
       "metadata": {},
       "output_type": "pyout",
       "prompt_number": 4,
       "text": [
        "'Algo'"
       ]
      }
     ],
     "prompt_number": 4
    },
    {
     "cell_type": "code",
     "collapsed": false,
     "input": [
      "# raw_input devuelve texto. Si necesitamos un n\u00famero tenemos que convertirlo:\n",
      "#\n",
      "int(raw_input(\"\u00bfCu\u00e1l es el nuevo n\u00famero de emergencias? \")) #esto es un n\u00famero!"
     ],
     "language": "python",
     "metadata": {
      "slideshow": {
       "slide_type": "fragment"
      }
     },
     "outputs": [
      {
       "name": "stdout",
       "output_type": "stream",
       "stream": "stdout",
       "text": [
        "\u00bfCu\u00e1l es el nuevo n\u00famero de emergencias? 01189998819991197253\n"
       ]
      },
      {
       "metadata": {},
       "output_type": "pyout",
       "prompt_number": 5,
       "text": [
        "1189998819991197253"
       ]
      }
     ],
     "prompt_number": 5
    },
    {
     "cell_type": "markdown",
     "metadata": {
      "slideshow": {
       "slide_type": "subslide"
      }
     },
     "source": [
      "###Problema: \u00bfC\u00f3mo devolvemos datos?"
     ]
    },
    {
     "cell_type": "markdown",
     "metadata": {
      "slideshow": {
       "slide_type": "fragment"
      }
     },
     "source": [
      "print devuelve una cadena de texto por stdout (Normalmente, consola)"
     ]
    },
    {
     "cell_type": "code",
     "collapsed": false,
     "input": [
      "print \"PATXIIIIIIIII!!!11!uno!\""
     ],
     "language": "python",
     "metadata": {
      "slideshow": {
       "slide_type": "fragment"
      }
     },
     "outputs": [
      {
       "output_type": "stream",
       "stream": "stdout",
       "text": [
        "PATXIIIIIIIII!!!11!uno!\n"
       ]
      }
     ],
     "prompt_number": 2
    },
    {
     "cell_type": "markdown",
     "metadata": {
      "slideshow": {
       "slide_type": "subslide"
      }
     },
     "source": [
      "###Bonus: Podemos formatear el texto!"
     ]
    },
    {
     "cell_type": "code",
     "collapsed": false,
     "input": [
      "# Podemos utilizar %i, %s, etc como 'comodines'\n",
      "print \"me quedan %i %s\"  %(17, \"Latas de Burn\")"
     ],
     "language": "python",
     "metadata": {
      "slideshow": {
       "slide_type": "fragment"
      }
     },
     "outputs": [
      {
       "output_type": "stream",
       "stream": "stdout",
       "text": [
        "me quedan 17 Latas de Burn\n"
       ]
      }
     ],
     "prompt_number": 2
    },
    {
     "cell_type": "code",
     "collapsed": false,
     "input": [
      "# Tambi\u00e9n podemos tabular y meter saltos de l\u00ednea\n",
      "print \"Item \\t\\t\\tCantidad \\n%s \\t%i\" %(\"Bolas de rat\u00f3n\", 2)"
     ],
     "language": "python",
     "metadata": {
      "slideshow": {
       "slide_type": "fragment"
      }
     },
     "outputs": [
      {
       "output_type": "stream",
       "stream": "stdout",
       "text": [
        "Item \t\t\tCantidad \n",
        "Bolas de rat\u00f3n \t2\n"
       ]
      }
     ],
     "prompt_number": 1
    },
    {
     "cell_type": "markdown",
     "metadata": {
      "slideshow": {
       "slide_type": "subslide"
      }
     },
     "source": [
      "###\u00a1Otro problema! \u00bfC\u00f3mo almacenamos datos?"
     ]
    },
    {
     "cell_type": "markdown",
     "metadata": {
      "slideshow": {
       "slide_type": "fragment"
      }
     },
     "source": [
      "\u00a1En variables, por supuesto!"
     ]
    },
    {
     "cell_type": "markdown",
     "metadata": {
      "slideshow": {
       "slide_type": "fragment"
      }
     },
     "source": [
      "* Son contenedores. Como cajas de zapatos"
     ]
    },
    {
     "cell_type": "markdown",
     "metadata": {
      "slideshow": {
       "slide_type": "fragment"
      }
     },
     "source": [
      "* Pueden almacenar cualquier cosa"
     ]
    },
    {
     "cell_type": "markdown",
     "metadata": {
      "slideshow": {
       "slide_type": "fragment"
      }
     },
     "source": [
      "* No hay que declararlas! \\\\(^o^)/"
     ]
    },
    {
     "cell_type": "markdown",
     "metadata": {
      "slideshow": {
       "slide_type": "subslide"
      }
     },
     "source": [
      "###\u00bfQu\u00e9 pueden tener las variables? I"
     ]
    },
    {
     "cell_type": "code",
     "collapsed": false,
     "input": [
      "#N\u00fameros\n",
      "a=42\n",
      "b=13.37\n",
      "print a, b\n",
      "\n"
     ],
     "language": "python",
     "metadata": {
      "slideshow": {
       "slide_type": "fragment"
      }
     },
     "outputs": [
      {
       "output_type": "stream",
       "stream": "stdout",
       "text": [
        "42 13.37\n"
       ]
      }
     ],
     "prompt_number": 3
    },
    {
     "cell_type": "code",
     "collapsed": false,
     "input": [
      "#Cadenas de texto\n",
      "puesto=\"BJ-64\"\n",
      "print puesto"
     ],
     "language": "python",
     "metadata": {
      "slideshow": {
       "slide_type": "fragment"
      }
     },
     "outputs": [
      {
       "output_type": "stream",
       "stream": "stdout",
       "text": [
        "BJ-64\n"
       ]
      }
     ],
     "prompt_number": 7
    },
    {
     "cell_type": "code",
     "collapsed": false,
     "input": [
      "#Booleanos\n",
      "a=True\n",
      "b=False\n",
      "print a,b"
     ],
     "language": "python",
     "metadata": {
      "slideshow": {
       "slide_type": "fragment"
      }
     },
     "outputs": [
      {
       "output_type": "stream",
       "stream": "stdout",
       "text": [
        "True False\n"
       ]
      }
     ],
     "prompt_number": 1
    },
    {
     "cell_type": "markdown",
     "metadata": {
      "slideshow": {
       "slide_type": "subslide"
      }
     },
     "source": [
      "###\u00bfQu\u00e9 pueden tener las variables? II"
     ]
    },
    {
     "cell_type": "code",
     "collapsed": false,
     "input": [
      "#Listas\n",
      "lista=[8372,\"Destornillador\",True,[\"Lista\",\"con\",\"cosas\"]]\n",
      "print lista\n",
      "print lista[3]\n",
      "print lista[3][2]"
     ],
     "language": "python",
     "metadata": {
      "slideshow": {
       "slide_type": "fragment"
      }
     },
     "outputs": [
      {
       "output_type": "stream",
       "stream": "stdout",
       "text": [
        "[8372, 'Destornillador', True, ['Lista', 'con', 'cosas']]\n",
        "['Lista', 'con', 'cosas']\n",
        "cosas\n"
       ]
      }
     ],
     "prompt_number": 6
    },
    {
     "cell_type": "code",
     "collapsed": false,
     "input": [
      "#Diccionarios (Como listas, pero por etiqueta en lugar de \u00edndice)\n",
      "competiciones={\"escena\":5, \"soft-libre\":3, \"otras-act\":999}\n",
      "print competiciones\n",
      "print competiciones[\"escena\"]"
     ],
     "language": "python",
     "metadata": {
      "slideshow": {
       "slide_type": "fragment"
      }
     },
     "outputs": [
      {
       "output_type": "stream",
       "stream": "stdout",
       "text": [
        "{'soft-libre': 3, 'escena': 5, 'otras-act': 999}\n",
        "5\n"
       ]
      }
     ],
     "prompt_number": 12
    },
    {
     "cell_type": "markdown",
     "metadata": {
      "slideshow": {
       "slide_type": "subslide"
      }
     },
     "source": [
      "###\u00bfQu\u00e9 pueden tener las variables? III"
     ]
    },
    {
     "cell_type": "code",
     "collapsed": false,
     "input": [
      "#Tuplas\n",
      "tupla=1,3\n",
      "print tupla\n",
      "print tupla+(5,7)"
     ],
     "language": "python",
     "metadata": {
      "slideshow": {
       "slide_type": "fragment"
      }
     },
     "outputs": [
      {
       "output_type": "stream",
       "stream": "stdout",
       "text": [
        "(1, 3)\n",
        "(1, 3, 5, 7)\n"
       ]
      }
     ],
     "prompt_number": 24
    },
    {
     "cell_type": "code",
     "collapsed": false,
     "input": [
      "#Sets\n",
      "unset={1,2,3,4}\n",
      "otroset={3,4,5,6}\n",
      "print unset,otroset\n",
      "print otroset-unset"
     ],
     "language": "python",
     "metadata": {
      "slideshow": {
       "slide_type": "fragment"
      }
     },
     "outputs": [
      {
       "output_type": "stream",
       "stream": "stdout",
       "text": [
        "set([1, 2, 3, 4]) set([3, 4, 5, 6])\n",
        "set([5, 6])\n"
       ]
      }
     ],
     "prompt_number": 25
    },
    {
     "cell_type": "markdown",
     "metadata": {
      "slideshow": {
       "slide_type": "subslide"
      }
     },
     "source": [
      "###Antes de escribir... I"
     ]
    },
    {
     "cell_type": "markdown",
     "metadata": {
      "slideshow": {
       "slide_type": "fragment"
      }
     },
     "source": [
      "Ten cuidado con los nombres!"
     ]
    },
    {
     "cell_type": "code",
     "collapsed": false,
     "input": [
      "str(1)"
     ],
     "language": "python",
     "metadata": {
      "slideshow": {
       "slide_type": "fragment"
      }
     },
     "outputs": [
      {
       "metadata": {},
       "output_type": "pyout",
       "prompt_number": 10,
       "text": [
        "'1'"
       ]
      }
     ],
     "prompt_number": 10
    },
    {
     "cell_type": "code",
     "collapsed": false,
     "input": [
      "str=\"Ahora soy una variable!\"\n",
      "str(1)"
     ],
     "language": "python",
     "metadata": {
      "slideshow": {
       "slide_type": "fragment"
      }
     },
     "outputs": [
      {
       "ename": "TypeError",
       "evalue": "'str' object is not callable",
       "output_type": "pyerr",
       "traceback": [
        "\u001b[1;31m---------------------------------------------------------------------------\u001b[0m\n\u001b[1;31mTypeError\u001b[0m                                 Traceback (most recent call last)",
        "\u001b[1;32m<ipython-input-11-89c24af9be08>\u001b[0m in \u001b[0;36m<module>\u001b[1;34m()\u001b[0m\n\u001b[0;32m      1\u001b[0m \u001b[0mstr\u001b[0m\u001b[1;33m=\u001b[0m\u001b[1;34m\"Ahora soy una variable!\"\u001b[0m\u001b[1;33m\u001b[0m\u001b[0m\n\u001b[1;32m----> 2\u001b[1;33m \u001b[0mstr\u001b[0m\u001b[1;33m(\u001b[0m\u001b[1;36m1\u001b[0m\u001b[1;33m)\u001b[0m\u001b[1;33m\u001b[0m\u001b[0m\n\u001b[0m",
        "\u001b[1;31mTypeError\u001b[0m: 'str' object is not callable"
       ]
      }
     ],
     "prompt_number": 11
    },
    {
     "cell_type": "markdown",
     "metadata": {
      "slideshow": {
       "slide_type": "subslide"
      }
     },
     "source": [
      "###Antes de escribir... II"
     ]
    },
    {
     "cell_type": "markdown",
     "metadata": {
      "slideshow": {
       "slide_type": "fragment"
      }
     },
     "source": [
      "Las variables son REFERENCIAS!"
     ]
    },
    {
     "cell_type": "code",
     "collapsed": false,
     "input": [
      "a=b=0\n",
      "a=1"
     ],
     "language": "python",
     "metadata": {
      "slideshow": {
       "slide_type": "fragment"
      }
     },
     "outputs": [],
     "prompt_number": 14
    },
    {
     "cell_type": "code",
     "collapsed": false,
     "input": [
      "print a,b"
     ],
     "language": "python",
     "metadata": {
      "slideshow": {
       "slide_type": "fragment"
      }
     },
     "outputs": [
      {
       "output_type": "stream",
       "stream": "stdout",
       "text": [
        "1 0\n"
       ]
      }
     ],
     "prompt_number": 15
    },
    {
     "cell_type": "code",
     "collapsed": false,
     "input": [
      "a=b=[]\n",
      "a.append(\"elemento\")"
     ],
     "language": "python",
     "metadata": {
      "slideshow": {
       "slide_type": "fragment"
      }
     },
     "outputs": [],
     "prompt_number": 16
    },
    {
     "cell_type": "code",
     "collapsed": false,
     "input": [
      "print a,b"
     ],
     "language": "python",
     "metadata": {
      "slideshow": {
       "slide_type": "fragment"
      }
     },
     "outputs": [
      {
       "output_type": "stream",
       "stream": "stdout",
       "text": [
        "['elemento'] ['elemento']\n"
       ]
      }
     ],
     "prompt_number": 17
    },
    {
     "cell_type": "markdown",
     "metadata": {
      "slideshow": {
       "slide_type": "subslide"
      }
     },
     "source": [
      "###Antes de escribir... III"
     ]
    },
    {
     "cell_type": "markdown",
     "metadata": {
      "slideshow": {
       "slide_type": "fragment"
      }
     },
     "source": [
      "Usad la cabeza!"
     ]
    },
    {
     "cell_type": "code",
     "collapsed": false,
     "input": [
      "# Esto os va a hacer la vida miserable\n",
      "#\n",
      "n=\"Aitor\"                 # \u00bfQu\u00e9 es n? \u00bfTendr\u00e1 sentido dentro de 3 semanas?\n",
      "vrblplld=\"Tilla\"          # No ten\u00e9is por qu\u00e9 usar lenguaje sms\n",
      "id=33                     # \u00a1'id' es una palabra reservada! Tened cuidado\n",
      "strColorDeOjos=\"Arcoiris\" # \u00af\\_(\u30c4)_/\u00af"
     ],
     "language": "python",
     "metadata": {
      "slideshow": {
       "slide_type": "fragment"
      }
     },
     "outputs": [],
     "prompt_number": 16
    },
    {
     "cell_type": "code",
     "collapsed": false,
     "input": [
      "# Esto har\u00e1 el c\u00f3digo m\u00e1s legible \n",
      "# Pensad en que vais a pasar mucho m\u00e1s tiempo leyendo c\u00f3digo que escribi\u00e9ndolo\n",
      "#\n",
      "nombre=\"Carmelo\"          # \"nombre\" es un nombre evidente y simple\n",
      "apellido=\"Cot\u00f3n\"          # No os estruj\u00e9is la cabeza. Lo m\u00e1s obvio es mejor\n",
      "id_=33                    # Pod\u00e9is evitar problemas con '_'\n",
      "color_de_ojos=\"rosa\"      # Tambi\u00e9n pod\u00e9is usar '_' para separar palabras \n",
      "                          # O escribirlo junto"
     ],
     "language": "python",
     "metadata": {
      "slideshow": {
       "slide_type": "fragment"
      }
     },
     "outputs": [],
     "prompt_number": 36
    },
    {
     "cell_type": "markdown",
     "metadata": {
      "slideshow": {
       "slide_type": "subslide"
      }
     },
     "source": [
      "###\u00bfQu\u00e9 podemos hacer con variables?"
     ]
    },
    {
     "cell_type": "markdown",
     "metadata": {
      "slideshow": {
       "slide_type": "fragment"
      }
     },
     "source": [
      "Operaciones matem\u00e1ticas"
     ]
    },
    {
     "cell_type": "code",
     "collapsed": false,
     "input": [
      "a=6\n",
      "b=4\n",
      "print a+b, a-b, a/b, a%b, a*b, a**b"
     ],
     "language": "python",
     "metadata": {
      "slideshow": {
       "slide_type": "fragment"
      }
     },
     "outputs": [
      {
       "output_type": "stream",
       "stream": "stdout",
       "text": [
        "10 2 1 2 24 1296\n"
       ]
      }
     ],
     "prompt_number": 27
    },
    {
     "cell_type": "markdown",
     "metadata": {
      "slideshow": {
       "slide_type": "fragment"
      }
     },
     "source": [
      "Y operaciones l\u00f3gicas"
     ]
    },
    {
     "cell_type": "code",
     "collapsed": false,
     "input": [
      "a=False\n",
      "b=True\n",
      "print \"a and b:\",a&b, \"| a or b:\", a|b, \"| a xor b:\", a^b, \"| not b:\", not b\n",
      "print \"a equal to b:\", a==b, \"| a not equal to b:\", a!=b\n",
      "print a>b, a<b #, etc etc etc"
     ],
     "language": "python",
     "metadata": {
      "slideshow": {
       "slide_type": "fragment"
      }
     },
     "outputs": [
      {
       "output_type": "stream",
       "stream": "stdout",
       "text": [
        "a and b: False | a or b: True | a xor b: True | not b: False\n",
        "a equal to b: False | a not equal to b: True\n",
        "False True\n"
       ]
      }
     ],
     "prompt_number": 24
    },
    {
     "cell_type": "markdown",
     "metadata": {
      "slideshow": {
       "slide_type": "fragment"
      }
     },
     "source": [
      "Adem\u00e1s de las operaciones de asignaci\u00f3n"
     ]
    },
    {
     "cell_type": "markdown",
     "metadata": {
      "slideshow": {
       "slide_type": "fragment"
      }
     },
     "source": [
      "Cualquier cosa* puede usarse como expresi\u00f3n l\u00f3gica"
     ]
    },
    {
     "cell_type": "markdown",
     "metadata": {
      "slideshow": {
       "slide_type": "subslide"
      }
     },
     "source": [
      "###A prop\u00f3sito de las operaciones de asignaci\u00f3n..."
     ]
    },
    {
     "cell_type": "code",
     "collapsed": false,
     "input": [
      "# Podemos intercambiar dos variables\n",
      "a=1\n",
      "b=2\n",
      "a,b=b,a\n",
      "print a,b"
     ],
     "language": "python",
     "metadata": {
      "slideshow": {
       "slide_type": "fragment"
      }
     },
     "outputs": [
      {
       "output_type": "stream",
       "stream": "stdout",
       "text": [
        "2 1\n"
       ]
      }
     ],
     "prompt_number": 46
    },
    {
     "cell_type": "markdown",
     "metadata": {
      "slideshow": {
       "slide_type": "subslide"
      }
     },
     "source": [
      "###Ojo con las expresiones l\u00f3gicas!"
     ]
    },
    {
     "cell_type": "markdown",
     "metadata": {
      "slideshow": {
       "slide_type": "fragment"
      }
     },
     "source": [
      "Como regla general, cualquier cosa que no sea 0 o False eval\u00faa como verdadero"
     ]
    },
    {
     "cell_type": "markdown",
     "metadata": {
      "slideshow": {
       "slide_type": "fragment"
      }
     },
     "source": [
      "\"False\" => Verdadero"
     ]
    },
    {
     "cell_type": "markdown",
     "metadata": {
      "slideshow": {
       "slide_type": "fragment"
      }
     },
     "source": [
      "20141208 => Verdadero"
     ]
    },
    {
     "cell_type": "markdown",
     "metadata": {
      "slideshow": {
       "slide_type": "fragment"
      }
     },
     "source": [
      "[\"Lista\", \"con\", \"cosas\"] => Verdadero"
     ]
    },
    {
     "cell_type": "markdown",
     "metadata": {
      "slideshow": {
       "slide_type": "fragment"
      }
     },
     "source": [
      "[0] => Verdadero"
     ]
    },
    {
     "cell_type": "markdown",
     "metadata": {
      "slideshow": {
       "slide_type": "subslide"
      }
     },
     "source": [
      "###Cosas que eval\u00faan a falso:"
     ]
    },
    {
     "cell_type": "markdown",
     "metadata": {
      "slideshow": {
       "slide_type": "fragment"
      }
     },
     "source": [
      "False"
     ]
    },
    {
     "cell_type": "code",
     "collapsed": false,
     "input": [
      "#A no ser que lo cambi\u00e9is ;)\n",
      "False=1\n",
      "False==True"
     ],
     "language": "python",
     "metadata": {
      "slideshow": {
       "slide_type": "fragment"
      }
     },
     "outputs": [
      {
       "metadata": {},
       "output_type": "pyout",
       "prompt_number": 150,
       "text": [
        "True"
       ]
      }
     ],
     "prompt_number": 150
    },
    {
     "cell_type": "markdown",
     "metadata": {
      "slideshow": {
       "slide_type": "fragment"
      }
     },
     "source": [
      "0"
     ]
    },
    {
     "cell_type": "markdown",
     "metadata": {
      "slideshow": {
       "slide_type": "fragment"
      }
     },
     "source": [
      "Listas, diccionarios y cadenas vac\u00edas (\"\", [], {})"
     ]
    },
    {
     "cell_type": "markdown",
     "metadata": {
      "slideshow": {
       "slide_type": "fragment"
      }
     },
     "source": [
      "Expresi\u00f3n l\u00f3gica falsa, como 1==0 \u00f3 1>10"
     ]
    },
    {
     "cell_type": "markdown",
     "metadata": {
      "slideshow": {
       "slide_type": "subslide"
      }
     },
     "source": [
      "###Expresiones l\u00f3gicas? Para qu\u00e9?"
     ]
    },
    {
     "cell_type": "markdown",
     "metadata": {
      "slideshow": {
       "slide_type": "fragment"
      }
     },
     "source": [
      "Nos sirven para realizar distintas acciones dependiendo del estado del programa"
     ]
    },
    {
     "cell_type": "markdown",
     "metadata": {
      "slideshow": {
       "slide_type": "fragment"
      }
     },
     "source": [
      "Las utilizamos en expresiones *condicionales* para hacer algo si se cumplen ciertas condiciones"
     ]
    },
    {
     "cell_type": "markdown",
     "metadata": {
      "slideshow": {
       "slide_type": "fragment"
      }
     },
     "source": [
      "Ej: invertir un n\u00famero si es menor que 0 (Valor absoluto)"
     ]
    },
    {
     "cell_type": "markdown",
     "metadata": {
      "slideshow": {
       "slide_type": "fragment"
      }
     },
     "source": [
      "Ej2: No realizar un c\u00e1lculo si el divisor es 0"
     ]
    },
    {
     "cell_type": "markdown",
     "metadata": {
      "slideshow": {
       "slide_type": "subslide"
      }
     },
     "source": [
      "###Control de fluzo I: IF"
     ]
    },
    {
     "cell_type": "markdown",
     "metadata": {
      "slideshow": {
       "slide_type": "fragment"
      }
     },
     "source": [
      "if (condici\u00f3n): acci\u00f3n  \n",
      "elif (condici\u00f3n): acci\u00f3n  \n",
      "else: acci\u00f3n"
     ]
    },
    {
     "cell_type": "markdown",
     "metadata": {
      "slideshow": {
       "slide_type": "fragment"
      }
     },
     "source": [
      "Ejemplo: sumar 1 si un n\u00famero es menor que 0, restar 1 si es mayor y sumar 100 si es 0"
     ]
    },
    {
     "cell_type": "code",
     "collapsed": false,
     "input": [
      "numero=int(raw_input(\"Dame un n\u00famero! \"))\n",
      "if numero<0: numero+=1\n",
      "elif numero>0: numero-=1\n",
      "else: \n",
      "  numero+=100\n",
      "print numero"
     ],
     "language": "python",
     "metadata": {
      "slideshow": {
       "slide_type": "fragment"
      }
     },
     "outputs": [
      {
       "name": "stdout",
       "output_type": "stream",
       "stream": "stdout",
       "text": [
        "Dame un n\u00famero! 900\n"
       ]
      },
      {
       "output_type": "stream",
       "stream": "stdout",
       "text": [
        "899\n"
       ]
      }
     ],
     "prompt_number": 2
    },
    {
     "cell_type": "markdown",
     "metadata": {
      "slideshow": {
       "slide_type": "fragment"
      }
     },
     "source": [
      "El python no hay llaves (yay!) ni par\u00e9ntesis (yay!) en las sentencias condicionales.  \n",
      "Todo se estructura tabulando el texto"
     ]
    },
    {
     "cell_type": "markdown",
     "metadata": {
      "slideshow": {
       "slide_type": "subslide"
      }
     },
     "source": [
      "###Control de Flujo II: WHILE"
     ]
    },
    {
     "cell_type": "markdown",
     "metadata": {
      "slideshow": {
       "slide_type": "fragment"
      }
     },
     "source": [
      "while (condici\u00f3n): acci\u00f3n"
     ]
    },
    {
     "cell_type": "markdown",
     "metadata": {
      "slideshow": {
       "slide_type": "fragment"
      }
     },
     "source": [
      "Ejemplo: Sumar 1 a un n\u00famero mientras sea menor que otro n\u00famero"
     ]
    },
    {
     "cell_type": "code",
     "collapsed": false,
     "input": [
      "numero=int(raw_input(\"Dame otro n\u00famero! \"))\n",
      "objetivo=int(raw_input(\"Dame otro m\u00e1s \"))\n",
      "while numero<objetivo: numero+=1\n",
      "print numero"
     ],
     "language": "python",
     "metadata": {
      "slideshow": {
       "slide_type": "fragment"
      }
     },
     "outputs": [
      {
       "name": "stdout",
       "output_type": "stream",
       "stream": "stdout",
       "text": [
        "Dame otro n\u00famero! 2\n"
       ]
      },
      {
       "name": "stdout",
       "output_type": "stream",
       "stream": "stdout",
       "text": [
        "Dame otro m\u00e1s 100\n"
       ]
      },
      {
       "output_type": "stream",
       "stream": "stdout",
       "text": [
        "100\n"
       ]
      }
     ],
     "prompt_number": 4
    },
    {
     "cell_type": "markdown",
     "metadata": {
      "slideshow": {
       "slide_type": "fragment"
      }
     },
     "source": [
      "Ojo con los bucles infinitos! Usad 'break' para salir de un bucle"
     ]
    },
    {
     "cell_type": "markdown",
     "metadata": {
      "slideshow": {
       "slide_type": "subslide"
      }
     },
     "source": [
      "###Control de flujo III: FOR"
     ]
    },
    {
     "cell_type": "markdown",
     "metadata": {
      "slideshow": {
       "slide_type": "fragment"
      }
     },
     "source": [
      "*NO* es el for t\u00edpico. Es un iterador! (Equivalente a for-each)"
     ]
    },
    {
     "cell_type": "markdown",
     "metadata": {
      "slideshow": {
       "slide_type": "fragment"
      }
     },
     "source": [
      "Itera sobre un iterable"
     ]
    },
    {
     "cell_type": "code",
     "collapsed": false,
     "input": [
      "#Uso t\u00edpico: hacer algo 5 veces:\n",
      "for i in range(5): print \"Iteraci\u00f3n\",i"
     ],
     "language": "python",
     "metadata": {
      "slideshow": {
       "slide_type": "fragment"
      }
     },
     "outputs": [
      {
       "output_type": "stream",
       "stream": "stdout",
       "text": [
        "Iteraci\u00f3n 0\n",
        "Iteraci\u00f3n 1\n",
        "Iteraci\u00f3n 2\n",
        "Iteraci\u00f3n 3\n",
        "Iteraci\u00f3n 4\n"
       ]
      }
     ],
     "prompt_number": 2
    },
    {
     "cell_type": "markdown",
     "metadata": {
      "slideshow": {
       "slide_type": "fragment"
      }
     },
     "source": [
      "En este caso, itera sobre una lista de n\u00fameros creada por la funci\u00f3n 'range'"
     ]
    },
    {
     "cell_type": "markdown",
     "metadata": {
      "slideshow": {
       "slide_type": "fragment"
      }
     },
     "source": [
      "En Python2 la lista se crea y se almacena en memoria (Usad xrange)"
     ]
    },
    {
     "cell_type": "markdown",
     "metadata": {
      "slideshow": {
       "slide_type": "subslide"
      }
     },
     "source": [
      "###Control de flujo III.2: FOR"
     ]
    },
    {
     "cell_type": "markdown",
     "metadata": {
      "slideshow": {
       "slide_type": "fragment"
      }
     },
     "source": [
      "la funci\u00f3n for puede iterar sobre cualquier elemento iterable:"
     ]
    },
    {
     "cell_type": "code",
     "collapsed": false,
     "input": [
      "for i in [0,1,2,3,4]: print i,"
     ],
     "language": "python",
     "metadata": {
      "slideshow": {
       "slide_type": "fragment"
      }
     },
     "outputs": [
      {
       "output_type": "stream",
       "stream": "stdout",
       "text": [
        "0 1 2 3 4\n"
       ]
      }
     ],
     "prompt_number": 29
    },
    {
     "cell_type": "code",
     "collapsed": false,
     "input": [
      "for i in \"Cadena de texto normal\": print i+\",\","
     ],
     "language": "python",
     "metadata": {
      "slideshow": {
       "slide_type": "fragment"
      }
     },
     "outputs": [
      {
       "output_type": "stream",
       "stream": "stdout",
       "text": [
        "C, a, d, e, n, a,  , d, e,  , t, e, x, t, o,  , n, o, r, m, a, l,\n"
       ]
      }
     ],
     "prompt_number": 2
    },
    {
     "cell_type": "code",
     "collapsed": false,
     "input": [
      "for i in [\"Patatas\", [0,1,2,[]], {\"Gominolas\":900,\"Chocolate\":500}]: print i"
     ],
     "language": "python",
     "metadata": {
      "slideshow": {
       "slide_type": "fragment"
      }
     },
     "outputs": [
      {
       "output_type": "stream",
       "stream": "stdout",
       "text": [
        "Patatas\n",
        "[0, 1, 2, []]\n",
        "{'Gominolas': 900, 'Chocolate': 500}\n"
       ]
      }
     ],
     "prompt_number": 2
    },
    {
     "cell_type": "code",
     "collapsed": false,
     "input": [
      "for i in {\"escena\":5, \"hardware\": 3, \"soft-libre\": 4}: print i,"
     ],
     "language": "python",
     "metadata": {
      "slideshow": {
       "slide_type": "fragment"
      }
     },
     "outputs": [
      {
       "output_type": "stream",
       "stream": "stdout",
       "text": [
        "hardware soft-libre escena\n"
       ]
      }
     ],
     "prompt_number": 9
    },
    {
     "cell_type": "markdown",
     "metadata": {
      "slideshow": {
       "slide_type": "subslide"
      }
     },
     "source": [
      "###Control de flujo III.2(II): Wait, what?"
     ]
    },
    {
     "cell_type": "markdown",
     "metadata": {
      "slideshow": {
       "slide_type": "fragment"
      }
     },
     "source": [
      "\u00bfQu\u00e9 ha pasado con ese diccionario?"
     ]
    },
    {
     "cell_type": "markdown",
     "metadata": {
      "slideshow": {
       "slide_type": "fragment"
      }
     },
     "source": [
      "Los diccionarios tienen dos elementos: keys (Etiquetas) y values (Contenido). Iterando como en el ejemplo anterior s\u00f3lo iteramos sobre las etiquetas."
     ]
    },
    {
     "cell_type": "markdown",
     "metadata": {
      "slideshow": {
       "slide_type": "fragment"
      }
     },
     "source": [
      "No problemo! tenemos una funci\u00f3n que genera un iterable:"
     ]
    },
    {
     "cell_type": "code",
     "collapsed": false,
     "input": [
      "for etiqueta,contenido in {\"escena\":5, \"hardware\": 3, \"soft-libre\": 4}.iteritems(): \n",
      "    print etiqueta,contenido"
     ],
     "language": "python",
     "metadata": {
      "slideshow": {
       "slide_type": "fragment"
      }
     },
     "outputs": [
      {
       "output_type": "stream",
       "stream": "stdout",
       "text": [
        "hardware 3\n",
        "soft-libre 4\n",
        "escena 5\n"
       ]
      }
     ],
     "prompt_number": 14
    },
    {
     "cell_type": "markdown",
     "metadata": {
      "slideshow": {
       "slide_type": "subslide"
      }
     },
     "source": [
      "###Control de flujo III.XIV"
     ]
    },
    {
     "cell_type": "code",
     "collapsed": false,
     "input": [
      "# Tambi\u00e9n podemos asignar a una variables s\u00f3lo si se dan ciertas condiciones\n",
      "b=int(raw_input(\"\u00a1Dame un n\u00famero!\"))\n",
      "a=1 if b>0 else -1 if b<0 else 0\n",
      "print a"
     ],
     "language": "python",
     "metadata": {
      "slideshow": {
       "slide_type": "fragment"
      }
     },
     "outputs": [
      {
       "name": "stdout",
       "output_type": "stream",
       "stream": "stdout",
       "text": [
        "\u00a1Dame un n\u00famero!6\n"
       ]
      },
      {
       "output_type": "stream",
       "stream": "stdout",
       "text": [
        "1\n"
       ]
      }
     ],
     "prompt_number": 48
    },
    {
     "cell_type": "markdown",
     "metadata": {
      "slideshow": {
       "slide_type": "subslide"
      }
     },
     "source": [
      "###Control de flujo IV: Una nueva esperanza"
     ]
    },
    {
     "cell_type": "markdown",
     "metadata": {
      "slideshow": {
       "slide_type": "fragment"
      }
     },
     "source": [
      "\u00bfQu\u00e9 pasa si queremos ejecutar c\u00f3digo muchas veces fuera de un while?"
     ]
    },
    {
     "cell_type": "markdown",
     "metadata": {
      "slideshow": {
       "slide_type": "fragment"
      }
     },
     "source": [
      "\u00bfA que estar\u00eda bien poder ejecutar fragmentos de c\u00f3digo cuando nos diera la gana?"
     ]
    },
    {
     "cell_type": "markdown",
     "metadata": {
      "slideshow": {
       "slide_type": "fragment"
      }
     },
     "source": [
      "Las funciones nos permiten definir un trozo de c\u00f3digo y usarlo con diferentes par\u00e1metros"
     ]
    },
    {
     "cell_type": "code",
     "collapsed": false,
     "input": [
      "def ayuda_reservas():\n",
      "    \"\"\"\n",
      "    Esta es la documentaci\u00f3n de la funci\u00f3n. \n",
      "    Esta funci\u00f3n es la ayuda para el sistema de reservas de la euskal.\n",
      "    \"\"\"\n",
      "    \n",
      "    print \"Quema el F5 insensato!\"\n",
      "\n",
      "ayuda_reservas()"
     ],
     "language": "python",
     "metadata": {
      "slideshow": {
       "slide_type": "fragment"
      }
     },
     "outputs": [
      {
       "output_type": "stream",
       "stream": "stdout",
       "text": [
        "Quema el F5 insensato!\n"
       ]
      }
     ],
     "prompt_number": 38
    },
    {
     "cell_type": "markdown",
     "metadata": {
      "slideshow": {
       "slide_type": "subslide"
      }
     },
     "source": [
      "###Control de flujo IV(II): La secuela"
     ]
    },
    {
     "cell_type": "markdown",
     "metadata": {
      "slideshow": {
       "slide_type": "fragment"
      }
     },
     "source": [
      "Usando `return`, podemos tratar funciones como si fueran su resultado"
     ]
    },
    {
     "cell_type": "code",
     "collapsed": false,
     "input": [
      "def ayuda_reservas():\n",
      "    return \"Quema el F5 insensato!\"\n",
      "\n",
      "print ayuda_reservas()"
     ],
     "language": "python",
     "metadata": {
      "slideshow": {
       "slide_type": "fragment"
      }
     },
     "outputs": [
      {
       "output_type": "stream",
       "stream": "stdout",
       "text": [
        "Quema el F5 insensato!\n"
       ]
      }
     ],
     "prompt_number": 39
    },
    {
     "cell_type": "markdown",
     "metadata": {
      "slideshow": {
       "slide_type": "fragment"
      }
     },
     "source": [
      "Tambi\u00e9n podemos definir un par\u00e1metro en las funciones"
     ]
    },
    {
     "cell_type": "code",
     "collapsed": false,
     "input": [
      "def incrementar(numero):\n",
      "    return numero+1\n",
      "\n",
      "print incrementar(5)"
     ],
     "language": "python",
     "metadata": {
      "slideshow": {
       "slide_type": "fragment"
      }
     },
     "outputs": [
      {
       "output_type": "stream",
       "stream": "stdout",
       "text": [
        "6\n"
       ]
      }
     ],
     "prompt_number": 43
    },
    {
     "cell_type": "markdown",
     "metadata": {
      "slideshow": {
       "slide_type": "subslide"
      }
     },
     "source": [
      "###Control de flujo IV(III): Los extras"
     ]
    },
    {
     "cell_type": "code",
     "collapsed": false,
     "input": [
      "# Tambi\u00e9n podemos definir m\u00e1s de un par\u00e1metro!\n",
      "def cienpies(primero,segundo,tercero):\n",
      "    return primero+segundo+tercero\n",
      "\n",
      "print cienpies(\"Humano\",\"Humano\",\"Humano\")"
     ],
     "language": "python",
     "metadata": {
      "slideshow": {
       "slide_type": "fragment"
      }
     },
     "outputs": [
      {
       "output_type": "stream",
       "stream": "stdout",
       "text": [
        "HumanoHumanoHumano\n"
       ]
      }
     ],
     "prompt_number": 50
    },
    {
     "cell_type": "code",
     "collapsed": false,
     "input": [
      "# Y un n\u00famero indeterminado de par\u00e1metros. Porque python mola :D\n",
      "def sumatorio(*args):\n",
      "    return sum(args)\n",
      "\n",
      "print sumatorio(1,3,5,4,2,7,8,9,9,9,9,9,9,3)"
     ],
     "language": "python",
     "metadata": {
      "slideshow": {
       "slide_type": "fragment"
      }
     },
     "outputs": [
      {
       "output_type": "stream",
       "stream": "stdout",
       "text": [
        "87\n"
       ]
      }
     ],
     "prompt_number": 49
    },
    {
     "cell_type": "markdown",
     "metadata": {
      "slideshow": {
       "slide_type": "subslide"
      }
     },
     "source": [
      "#Ya sois ninjas\n",
      "<center>![](./images/computer-ninja.jpg)</center>"
     ]
    },
    {
     "cell_type": "markdown",
     "metadata": {
      "slideshow": {
       "slide_type": "slide"
      }
     },
     "source": [
      "#Programaci\u00f3n 101 y pico  \n",
      "<center>![](./images/neo-python.jpg)</center>"
     ]
    },
    {
     "cell_type": "markdown",
     "metadata": {
      "slideshow": {
       "slide_type": "subslide"
      }
     },
     "source": [
      "###Repaso:\n",
      "\n",
      "\u00bfSabemos (O sabr\u00edamos buscar ayuda sobre)..."
     ]
    },
    {
     "cell_type": "markdown",
     "metadata": {
      "slideshow": {
       "slide_type": "fragment"
      }
     },
     "source": [
      "* Recibir y enviar datos?"
     ]
    },
    {
     "cell_type": "markdown",
     "metadata": {
      "slideshow": {
       "slide_type": "fragment"
      }
     },
     "source": [
      "* Almacenar datos en variables?"
     ]
    },
    {
     "cell_type": "markdown",
     "metadata": {
      "slideshow": {
       "slide_type": "fragment"
      }
     },
     "source": [
      "* Operar con variables?"
     ]
    },
    {
     "cell_type": "markdown",
     "metadata": {
      "slideshow": {
       "slide_type": "fragment"
      }
     },
     "source": [
      "* Trabajar con condicionales?"
     ]
    },
    {
     "cell_type": "markdown",
     "metadata": {
      "slideshow": {
       "slide_type": "fragment"
      }
     },
     "source": [
      "* Trabajar con bucles?"
     ]
    },
    {
     "cell_type": "markdown",
     "metadata": {
      "slideshow": {
       "slide_type": "fragment"
      }
     },
     "source": [
      "* Crear e invocar funciones?"
     ]
    },
    {
     "cell_type": "markdown",
     "metadata": {
      "slideshow": {
       "slide_type": "subslide"
      }
     },
     "source": [
      "###Vamos a hacer magia. \u00a1Con listas!"
     ]
    },
    {
     "cell_type": "markdown",
     "metadata": {
      "slideshow": {
       "slide_type": "fragment"
      }
     },
     "source": [
      "La comprensi\u00f3n de listas permite crear y procesar listas en una sola l\u00ednea\n",
      "\n",
      "Estructura: `[<elemento> for <elemento> in <iterable> if <condicion>]`"
     ]
    },
    {
     "cell_type": "code",
     "collapsed": false,
     "input": [
      "# Vuestro nuevo mejor amigo\n",
      "# ej: Crear una lista con n\u00fameros pares positivos menores que 20\n",
      "#\n",
      "lista=[i for i in range(20) if i%2==0]\n",
      "print lista"
     ],
     "language": "python",
     "metadata": {
      "slideshow": {
       "slide_type": "fragment"
      }
     },
     "outputs": [
      {
       "output_type": "stream",
       "stream": "stdout",
       "text": [
        "[0, 2, 4, 6, 8, 10, 12, 14, 16, 18]\n"
       ]
      }
     ],
     "prompt_number": 46
    },
    {
     "cell_type": "code",
     "collapsed": false,
     "input": [
      "# Mola, \u00bfEh? Podemos usar esto para procesar listas que ya existen.\n",
      "# ej: Crear una lista con los n\u00fameros de la anterior que contengan '4'\n",
      "#\n",
      "listacon4s=[i for i in lista if \"4\" in str(i)]\n",
      "print listacon4s"
     ],
     "language": "python",
     "metadata": {
      "slideshow": {
       "slide_type": "fragment"
      }
     },
     "outputs": [
      {
       "output_type": "stream",
       "stream": "stdout",
       "text": [
        "[4, 14]\n"
       ]
      }
     ],
     "prompt_number": 48
    },
    {
     "cell_type": "markdown",
     "metadata": {
      "slideshow": {
       "slide_type": "subslide"
      }
     },
     "source": [
      "###\u00a1Y con diccionarios!"
     ]
    },
    {
     "cell_type": "code",
     "collapsed": false,
     "input": [
      "# Es como el de la lista, excepto por dos cosas:\n",
      "# Necesitamos dos elementos (keys, valores) y usamos llaves\n",
      "# ej: crear diccionario con los n\u00fameros divisibles entre 5 menores que 100\n",
      "#\n",
      "diccionario={\"Numero %i\"%key:valor for key,valor in enumerate(range(100))  if valor%5==0}\n",
      "print diccionario"
     ],
     "language": "python",
     "metadata": {
      "slideshow": {
       "slide_type": "fragment"
      }
     },
     "outputs": [
      {
       "output_type": "stream",
       "stream": "stdout",
       "text": [
        "{'Numero 75': 75, 'Numero 55': 55, 'Numero 40': 40, 'Numero 65': 65, 'Numero 30': 30, 'Numero 80': 80, 'Numero 90': 90, 'Numero 15': 15, 'Numero 85': 85, 'Numero 25': 25, 'Numero 50': 50, 'Numero 35': 35, 'Numero 0': 0, 'Numero 45': 45, 'Numero 10': 10, 'Numero 60': 60, 'Numero 5': 5, 'Numero 20': 20, 'Numero 70': 70, 'Numero 95': 95}\n"
       ]
      }
     ],
     "prompt_number": 7
    },
    {
     "cell_type": "code",
     "collapsed": false,
     "input": [
      "# Ahora podemos sacar los elementos pares del diccionario anterior!\n",
      "# Recordad la funcion .iteritems() para diccionarios\n",
      "#\n",
      "diccionariopar={key:valor for key,valor in diccionario.iteritems() if valor%2==0}\n",
      "print diccionariopar"
     ],
     "language": "python",
     "metadata": {
      "slideshow": {
       "slide_type": "fragment"
      }
     },
     "outputs": [
      {
       "output_type": "stream",
       "stream": "stdout",
       "text": [
        "{'Numero 60': 60, 'Numero 70': 70, 'Numero 30': 30, 'Numero 80': 80, 'Numero 90': 90, 'Numero 40': 40, 'Numero 50': 50, 'Numero 0': 0, 'Numero 10': 10, 'Numero 20': 20}\n"
       ]
      }
     ],
     "prompt_number": 56
    },
    {
     "cell_type": "markdown",
     "metadata": {
      "slideshow": {
       "slide_type": "subslide"
      }
     },
     "source": [
      "###\u00a1Y CON TUPLAS!"
     ]
    },
    {
     "cell_type": "code",
     "collapsed": false,
     "input": [
      "# Vamos a crear una tupla con las etiquetas del diccionario anterior que tienen un 7\n",
      "#\n",
      "tupla=tuple(etiqueta for etiqueta in diccionario if \"7\" in etiqueta)\n",
      "print tupla"
     ],
     "language": "python",
     "metadata": {
      "slideshow": {
       "slide_type": "fragment"
      }
     },
     "outputs": [
      {
       "output_type": "stream",
       "stream": "stdout",
       "text": [
        "('Numero 75', 'Numero 70')\n"
       ]
      }
     ],
     "prompt_number": 152
    },
    {
     "cell_type": "markdown",
     "metadata": {
      "slideshow": {
       "slide_type": "subslide"
      }
     },
     "source": [
      "###\u00a1\u00a1Y HASTA SETS!!"
     ]
    },
    {
     "cell_type": "code",
     "collapsed": false,
     "input": [
      "# ej: crear un set con los n\u00fameros de diccionario par\n",
      "#\n",
      "setpar={valor for a,valor in diccionariopar.iteritems()}\n",
      "print setpar"
     ],
     "language": "python",
     "metadata": {
      "slideshow": {
       "slide_type": "fragment"
      }
     },
     "outputs": [
      {
       "output_type": "stream",
       "stream": "stdout",
       "text": [
        "set([0, 70, 40, 10, 80, 50, 20, 90, 60, 30])\n"
       ]
      }
     ],
     "prompt_number": 153
    },
    {
     "cell_type": "code",
     "collapsed": false,
     "input": [
      "# Los sets no son conjuntos ordenados. Importa el contenido\n",
      "# ej: crear un subset con los n\u00fameros menores de 50\n",
      "#\n",
      "setmenores={i for i in setpar if i<50}\n",
      "print setmenores\n"
     ],
     "language": "python",
     "metadata": {
      "slideshow": {
       "slide_type": "fragment"
      }
     },
     "outputs": [
      {
       "output_type": "stream",
       "stream": "stdout",
       "text": [
        "set([0, 40, 10, 20, 30])\n"
       ]
      }
     ],
     "prompt_number": 65
    },
    {
     "cell_type": "code",
     "collapsed": false,
     "input": [
      "print setmenores.issubset(setpar),\n",
      "print setmenores <= setpar"
     ],
     "language": "python",
     "metadata": {
      "slideshow": {
       "slide_type": "fragment"
      }
     },
     "outputs": [
      {
       "output_type": "stream",
       "stream": "stdout",
       "text": [
        "True True\n"
       ]
      }
     ],
     "prompt_number": 70
    },
    {
     "cell_type": "markdown",
     "metadata": {
      "slideshow": {
       "slide_type": "subslide"
      }
     },
     "source": [
      "<center>![](./images/dog-wizard.jpeg)</center>"
     ]
    },
    {
     "cell_type": "markdown",
     "metadata": {
      "slideshow": {
       "slide_type": "subslide"
      }
     },
     "source": [
      "###\u00bfY si os dijera que pod\u00e9is hacer lo mismo... Con funciones?"
     ]
    },
    {
     "cell_type": "markdown",
     "metadata": {
      "slideshow": {
       "slide_type": "fragment"
      }
     },
     "source": [
      "<center>![](./images/yo-dawg.jpeg)</center>"
     ]
    },
    {
     "cell_type": "markdown",
     "metadata": {
      "slideshow": {
       "slide_type": "subslide"
      }
     },
     "source": [
      "###Expresiones Lambda"
     ]
    },
    {
     "cell_type": "markdown",
     "metadata": {
      "slideshow": {
       "slide_type": "fragment"
      }
     },
     "source": [
      "Funciones simples, definidas en una sola l\u00ednea y usadas para tareas simples  \n",
      "  \n",
      "Pros:"
     ]
    },
    {
     "cell_type": "markdown",
     "metadata": {
      "slideshow": {
       "slide_type": "fragment"
      }
     },
     "source": [
      "* Cortas y simples\n",
      "* Entran donde los `def` no pueden\n",
      "* M\u00e1s o menos potentes\n",
      "* Capacidad para generar recursi\u00f3n"
     ]
    },
    {
     "cell_type": "markdown",
     "metadata": {
      "slideshow": {
       "slide_type": "fragment"
      }
     },
     "source": [
      "Contras: "
     ]
    },
    {
     "cell_type": "markdown",
     "metadata": {
      "slideshow": {
       "slide_type": "fragment"
      }
     },
     "source": [
      "* No soportan docstrings\n",
      "* Pueden generar confusi\u00f3n\n",
      "* Capacidad para generar recursi\u00f3n"
     ]
    },
    {
     "cell_type": "markdown",
     "metadata": {
      "slideshow": {
       "slide_type": "subslide"
      }
     },
     "source": [
      "###Sintaxis y ejemplos"
     ]
    },
    {
     "cell_type": "markdown",
     "metadata": {
      "slideshow": {
       "slide_type": "fragment"
      }
     },
     "source": [
      "lambda `<argumentos>`: `<resultado>`"
     ]
    },
    {
     "cell_type": "code",
     "collapsed": false,
     "input": [
      "# ej: funci\u00f3n lambda que suma dos n\u00fameros\n",
      "# \n",
      "alfredo=lambda a,b: a+b\n",
      "alfredo(3,2)"
     ],
     "language": "python",
     "metadata": {
      "slideshow": {
       "slide_type": "fragment"
      }
     },
     "outputs": [
      {
       "metadata": {},
       "output_type": "pyout",
       "prompt_number": 98,
       "text": [
        "5"
       ]
      }
     ],
     "prompt_number": 98
    },
    {
     "cell_type": "code",
     "collapsed": false,
     "input": [
      "# ej: funci\u00f3n lambda que a\u00f1ade texto\n",
      "#\n",
      "madre=lambda texto: texto+\", y punto.\"\n",
      "madre(\"Porque lo digo yo\")"
     ],
     "language": "python",
     "metadata": {
      "slideshow": {
       "slide_type": "fragment"
      }
     },
     "outputs": [
      {
       "metadata": {},
       "output_type": "pyout",
       "prompt_number": 77,
       "text": [
        "'Porque lo digo yo, y punto.'"
       ]
      }
     ],
     "prompt_number": 77
    },
    {
     "cell_type": "markdown",
     "metadata": {
      "slideshow": {
       "slide_type": "subslide"
      }
     },
     "source": [
      "###La recursividad: Esa gran amiga ~~de los profesores de universidad~~"
     ]
    },
    {
     "cell_type": "markdown",
     "metadata": {
      "slideshow": {
       "slide_type": "fragment"
      }
     },
     "source": [
      "Las funciones lambda se pueden (Y suelen) llamar a s\u00ed mismas, resultando en funciones recursivas"
     ]
    },
    {
     "cell_type": "code",
     "collapsed": false,
     "input": [
      "# ej: podemos calcular un factorial de manera recursiva\n",
      "# \n",
      "ffactorial=lambda x: x*ffactorial(x-1) if x>2 else x\n",
      "ffactorial(10)"
     ],
     "language": "python",
     "metadata": {
      "slideshow": {
       "slide_type": "fragment"
      }
     },
     "outputs": [
      {
       "metadata": {},
       "output_type": "pyout",
       "prompt_number": 96,
       "text": [
        "3628800"
       ]
      }
     ],
     "prompt_number": 96
    },
    {
     "cell_type": "code",
     "collapsed": false,
     "input": [
      "# Aunque mormalmente no hace falta\n",
      "#\n",
      "import math\n",
      "math.factorial(10)"
     ],
     "language": "python",
     "metadata": {
      "slideshow": {
       "slide_type": "fragment"
      }
     },
     "outputs": [
      {
       "metadata": {},
       "output_type": "pyout",
       "prompt_number": 97,
       "text": [
        "3628800"
       ]
      }
     ],
     "prompt_number": 97
    },
    {
     "cell_type": "markdown",
     "metadata": {
      "slideshow": {
       "slide_type": "subslide"
      }
     },
     "source": [
      "<center>![](./images/whoa.jpg)<center>"
     ]
    },
    {
     "cell_type": "markdown",
     "metadata": {
      "slideshow": {
       "slide_type": "subslide"
      }
     },
     "source": [
      "###M\u00e1s magia con listas (I)"
     ]
    },
    {
     "cell_type": "code",
     "collapsed": false,
     "input": [
      "lista=[0,1,2,3,4,5,6,7,8,9]\n",
      "\n",
      "# Podemos acceder a una posici\u00f3n en la lista. F\u00e1cil\n",
      "lista[4]"
     ],
     "language": "python",
     "metadata": {
      "slideshow": {
       "slide_type": "fragment"
      }
     },
     "outputs": [
      {
       "metadata": {},
       "output_type": "pyout",
       "prompt_number": 27,
       "text": [
        "4"
       ]
      }
     ],
     "prompt_number": 27
    },
    {
     "cell_type": "code",
     "collapsed": false,
     "input": [
      "# Pero tambi\u00e9n podemos recorrer la lista al rev\u00e9s!\n",
      "lista[-2]"
     ],
     "language": "python",
     "metadata": {
      "slideshow": {
       "slide_type": "fragment"
      }
     },
     "outputs": [
      {
       "metadata": {},
       "output_type": "pyout",
       "prompt_number": 142,
       "text": [
        "8"
       ]
      }
     ],
     "prompt_number": 142
    },
    {
     "cell_type": "markdown",
     "metadata": {
      "slideshow": {
       "slide_type": "subslide"
      }
     },
     "source": [
      "###M\u00e1s magia con listas (II)"
     ]
    },
    {
     "cell_type": "code",
     "collapsed": false,
     "input": [
      "# Podemos excluir los n \u00faltimos elementos\n",
      "lista[:-3]"
     ],
     "language": "python",
     "metadata": {
      "slideshow": {
       "slide_type": "fragment"
      }
     },
     "outputs": [
      {
       "metadata": {},
       "output_type": "pyout",
       "prompt_number": 143,
       "text": [
        "[0, 1, 2, 3, 4, 5, 6]"
       ]
      }
     ],
     "prompt_number": 143
    },
    {
     "cell_type": "code",
     "collapsed": false,
     "input": [
      "# Y coger s\u00f3lo los n primeros\n",
      "lista[:4]"
     ],
     "language": "python",
     "metadata": {
      "slideshow": {
       "slide_type": "fragment"
      }
     },
     "outputs": [
      {
       "metadata": {},
       "output_type": "pyout",
       "prompt_number": 144,
       "text": [
        "[0, 1, 2, 3]"
       ]
      }
     ],
     "prompt_number": 144
    },
    {
     "cell_type": "markdown",
     "metadata": {
      "slideshow": {
       "slide_type": "subslide"
      }
     },
     "source": [
      "###M\u00e1s magia con listas (III)"
     ]
    },
    {
     "cell_type": "code",
     "collapsed": false,
     "input": [
      "# Podemos coger elementos de 3 en 3\n",
      "lista[::3]"
     ],
     "language": "python",
     "metadata": {
      "slideshow": {
       "slide_type": "fragment"
      }
     },
     "outputs": [
      {
       "metadata": {},
       "output_type": "pyout",
       "prompt_number": 145,
       "text": [
        "[0, 3, 6, 9]"
       ]
      }
     ],
     "prompt_number": 145
    },
    {
     "cell_type": "code",
     "collapsed": false,
     "input": [
      "# Y cogerlos de 2 en 2 al rev\u00e9s\n",
      "lista[::-2]"
     ],
     "language": "python",
     "metadata": {
      "slideshow": {
       "slide_type": "fragment"
      }
     },
     "outputs": [
      {
       "metadata": {},
       "output_type": "pyout",
       "prompt_number": 146,
       "text": [
        "[9, 7, 5, 3, 1]"
       ]
      }
     ],
     "prompt_number": 146
    },
    {
     "cell_type": "markdown",
     "metadata": {
      "slideshow": {
       "slide_type": "subslide"
      }
     },
     "source": [
      "###M\u00e1s magia con listas (IV)"
     ]
    },
    {
     "cell_type": "code",
     "collapsed": false,
     "input": [
      "# Y podemos combinar todo lo anterior!\n",
      "# Por ejemplo, para coger los elementos entre el 3 y el 7 de dos en dos\n",
      "# \u00a1Al rev\u00e9s!\n",
      "lista[7:2:-2]"
     ],
     "language": "python",
     "metadata": {
      "slideshow": {
       "slide_type": "fragment"
      }
     },
     "outputs": [
      {
       "metadata": {},
       "output_type": "pyout",
       "prompt_number": 30,
       "text": [
        "[7, 5, 3]"
       ]
      }
     ],
     "prompt_number": 30
    },
    {
     "cell_type": "markdown",
     "metadata": {
      "slideshow": {
       "slide_type": "fragment"
      }
     },
     "source": [
      "<center>![](./images/unlimited-power.gif)</center>"
     ]
    },
    {
     "cell_type": "markdown",
     "metadata": {
      "slideshow": {
       "slide_type": "subslide"
      }
     },
     "source": [
      "###Y tambi\u00e9n con candenas de texto!"
     ]
    },
    {
     "cell_type": "code",
     "collapsed": false,
     "input": [
      "cadena=\"Hola, soy una cadena de texto!\"\n",
      "\n",
      "#Podemos convertirla en una lista de palabras\n",
      "cadena.split()"
     ],
     "language": "python",
     "metadata": {
      "slideshow": {
       "slide_type": "fragment"
      }
     },
     "outputs": [
      {
       "metadata": {},
       "output_type": "pyout",
       "prompt_number": 22,
       "text": [
        "['Hola,', 'soy', 'una', 'cadena', 'de', 'texto!']"
       ]
      }
     ],
     "prompt_number": 22
    },
    {
     "cell_type": "code",
     "collapsed": false,
     "input": [
      "#Podemos sustituir elementos\n",
      "cadena.replace(\"o\",\"0\")"
     ],
     "language": "python",
     "metadata": {
      "slideshow": {
       "slide_type": "fragment"
      }
     },
     "outputs": [
      {
       "metadata": {},
       "output_type": "pyout",
       "prompt_number": 53,
       "text": [
        "'H0la, s0y una cadena de text0!'"
       ]
      }
     ],
     "prompt_number": 53
    },
    {
     "cell_type": "code",
     "collapsed": false,
     "input": [
      "#Podemoss pasar a modo grito\n",
      "cadena.upper()"
     ],
     "language": "python",
     "metadata": {
      "slideshow": {
       "slide_type": "fragment"
      }
     },
     "outputs": [
      {
       "metadata": {},
       "output_type": "pyout",
       "prompt_number": 24,
       "text": [
        "'HOLA, SOY UNA CADENA DE TEXTO!'"
       ]
      }
     ],
     "prompt_number": 24
    },
    {
     "cell_type": "markdown",
     "metadata": {
      "slideshow": {
       "slide_type": "subslide"
      }
     },
     "source": [
      "###Y tambi\u00e9n con cadenas de texto! (II)"
     ]
    },
    {
     "cell_type": "code",
     "collapsed": false,
     "input": [
      "#Podemos usar los \u00edndices de las listas!\n",
      "palindromo=\"anita la gorda lagartona no traga la droga latina\".replace(\" \",\"\")\n",
      "if palindromo==palindromo[::-1]: print \"Es un pal\u00edndromo!\"\n",
      "else: print \"Nope\""
     ],
     "language": "python",
     "metadata": {
      "slideshow": {
       "slide_type": "fragment"
      }
     },
     "outputs": [
      {
       "output_type": "stream",
       "stream": "stdout",
       "text": [
        "Es un pal\u00edndromo!\n"
       ]
      }
     ],
     "prompt_number": 32
    },
    {
     "cell_type": "code",
     "collapsed": false,
     "input": [
      "#Podemos saber si empiezan o acaban en algo\n",
      "print cadena.startswith(\"BLA!\")\n",
      "print cadena.endswith(\"texto!\")"
     ],
     "language": "python",
     "metadata": {
      "slideshow": {
       "slide_type": "fragment"
      }
     },
     "outputs": [
      {
       "output_type": "stream",
       "stream": "stdout",
       "text": [
        "False\n",
        "True\n"
       ]
      }
     ],
     "prompt_number": 27
    },
    {
     "cell_type": "code",
     "collapsed": false,
     "input": [
      "#Y tambi\u00e9n podemos utilizar una cadena de texto para unir iterables!\n",
      "listatexto=[str(i) for i in range(10)]\n",
      "print listatexto\n",
      "\"\".join(listatexto)"
     ],
     "language": "python",
     "metadata": {
      "slideshow": {
       "slide_type": "fragment"
      }
     },
     "outputs": [
      {
       "output_type": "stream",
       "stream": "stdout",
       "text": [
        "['0', '1', '2', '3', '4', '5', '6', '7', '8', '9']\n"
       ]
      },
      {
       "metadata": {},
       "output_type": "pyout",
       "prompt_number": 34,
       "text": [
        "'0123456789'"
       ]
      }
     ],
     "prompt_number": 34
    },
    {
     "cell_type": "markdown",
     "metadata": {
      "slideshow": {
       "slide_type": "subslide"
      }
     },
     "source": [
      "#Ya sois maestros ninja\n",
      "<center>![](./images/ninja_chainmail.jpg)</center>"
     ]
    },
    {
     "cell_type": "markdown",
     "metadata": {
      "slideshow": {
       "slide_type": "slide"
      }
     },
     "source": [
      "#Programaci\u00f3n 101 y una burrada\n",
      "\n",
      "<center>![](./images/hackers-wtf.gif)</center>"
     ]
    },
    {
     "cell_type": "markdown",
     "metadata": {
      "slideshow": {
       "slide_type": "subslide"
      }
     },
     "source": [
      "###M\u00e9todo superavanzado I: Importar librer\u00edas"
     ]
    },
    {
     "cell_type": "code",
     "collapsed": false,
     "input": [
      "# Las librer\u00edas son recopilatorios de c\u00f3digo con funciones que ya est\u00e1n implementadas\n",
      "# Podemos usar esas funciones en nuestro c\u00f3digo importando la librer\u00eda\n",
      "#\n",
      "import math   # Librer\u00eda con operaciones matem\u00e1ticas\n",
      "import os     # Librer\u00eda para interactuar con el sistema operativo\n",
      "import sys    # Librer\u00eda de sistema\n",
      "import random # Librer\u00eda para generar n\u00fameros aleatorios"
     ],
     "language": "python",
     "metadata": {
      "slideshow": {
       "slide_type": "fragment"
      }
     },
     "outputs": [],
     "prompt_number": 174
    },
    {
     "cell_type": "markdown",
     "metadata": {
      "slideshow": {
       "slide_type": "fragment"
      }
     },
     "source": [
      "Hay muchas librer\u00edas. MUCHAS. Todas las anteriores son librer\u00edas estandar (Vienen por defecto con python)"
     ]
    },
    {
     "cell_type": "markdown",
     "metadata": {
      "slideshow": {
       "slide_type": "fragment"
      }
     },
     "source": [
      "Tambi\u00e9n hay librer\u00edas con utilidades que necesitan instalaci\u00f3n (Externas). Por ejemplo:"
     ]
    },
    {
     "cell_type": "markdown",
     "metadata": {
      "slideshow": {
       "slide_type": "fragment"
      }
     },
     "source": [
      "* requests (Sirve para hacer peticiones a p\u00e1ginas web y servidores)"
     ]
    },
    {
     "cell_type": "markdown",
     "metadata": {
      "slideshow": {
       "slide_type": "fragment"
      }
     },
     "source": [
      "* NLTK (Procesa texto, di\u00e1logos y lenguaje)"
     ]
    },
    {
     "cell_type": "markdown",
     "metadata": {
      "slideshow": {
       "slide_type": "fragment"
      }
     },
     "source": [
      "* Pandas (Procesa gran cantidad de datos)"
     ]
    },
    {
     "cell_type": "markdown",
     "metadata": {
      "slideshow": {
       "slide_type": "fragment"
      }
     },
     "source": [
      "* scikit-learn (Implementa todos los motores de aprendizaje m\u00e1quina e IA)"
     ]
    },
    {
     "cell_type": "markdown",
     "metadata": {
      "slideshow": {
       "slide_type": "fragment"
      }
     },
     "source": [
      "* matplotlib (Dibuja gr\u00e1ficos, diagramas y representaciones gr\u00e1ficas de datos)"
     ]
    },
    {
     "cell_type": "markdown",
     "metadata": {
      "slideshow": {
       "slide_type": "subslide"
      }
     },
     "source": [
      "###Ejemplos de librer\u00edas: Math"
     ]
    },
    {
     "cell_type": "code",
     "collapsed": false,
     "input": [
      "import math\n",
      "#La librer\u00eda math tiene constantes y funciones matem\u00e1ticas\n",
      "math.pi"
     ],
     "language": "python",
     "metadata": {
      "slideshow": {
       "slide_type": "fragment"
      }
     },
     "outputs": [
      {
       "metadata": {},
       "output_type": "pyout",
       "prompt_number": 36,
       "text": [
        "3.141592653589793"
       ]
      }
     ],
     "prompt_number": 36
    },
    {
     "cell_type": "code",
     "collapsed": false,
     "input": [
      "# Factorial? S\u00ed, claro\n",
      "math.factorial(5)"
     ],
     "language": "python",
     "metadata": {
      "slideshow": {
       "slide_type": "fragment"
      }
     },
     "outputs": [
      {
       "metadata": {},
       "output_type": "pyout",
       "prompt_number": 178,
       "text": [
        "120"
       ]
      }
     ],
     "prompt_number": 178
    },
    {
     "cell_type": "code",
     "collapsed": false,
     "input": [
      "# e elevado a un n\u00famero? Yep\n",
      "math.exp(10)"
     ],
     "language": "python",
     "metadata": {
      "slideshow": {
       "slide_type": "fragment"
      }
     },
     "outputs": [
      {
       "metadata": {},
       "output_type": "pyout",
       "prompt_number": 179,
       "text": [
        "22026.465794806718"
       ]
      }
     ],
     "prompt_number": 179
    },
    {
     "cell_type": "code",
     "collapsed": false,
     "input": [
      "# Senos y cosenos? S\u00ed, pero en radianes ;)\n",
      "math.sin(math.pi/2)"
     ],
     "language": "python",
     "metadata": {
      "slideshow": {
       "slide_type": "fragment"
      }
     },
     "outputs": [
      {
       "metadata": {},
       "output_type": "pyout",
       "prompt_number": 182,
       "text": [
        "1.0"
       ]
      }
     ],
     "prompt_number": 182
    },
    {
     "cell_type": "markdown",
     "metadata": {
      "slideshow": {
       "slide_type": "subslide"
      }
     },
     "source": [
      "###Ejemplos de librer\u00edas: Random"
     ]
    },
    {
     "cell_type": "code",
     "collapsed": false,
     "input": [
      "import random"
     ],
     "language": "python",
     "metadata": {
      "slideshow": {
       "slide_type": "fragment"
      }
     },
     "outputs": [],
     "prompt_number": 2
    },
    {
     "cell_type": "code",
     "collapsed": false,
     "input": [
      "# N\u00famero aleatorio entre 1 y 100\n",
      "random.randint(1,100)"
     ],
     "language": "python",
     "metadata": {
      "slideshow": {
       "slide_type": "fragment"
      }
     },
     "outputs": [
      {
       "metadata": {},
       "output_type": "pyout",
       "prompt_number": 187,
       "text": [
        "71"
       ]
      }
     ],
     "prompt_number": 187
    },
    {
     "cell_type": "code",
     "collapsed": false,
     "input": [
      "# Selecci\u00f3n aleatoria de elementos\n",
      "random.choice([\"Mercurio\",\"Venus\",\"Tierra\",\"Marte\",\"Jupiter\",\"Saturno\",\"Urano\",\"Neptuno\",\"Pluton\"])"
     ],
     "language": "python",
     "metadata": {
      "slideshow": {
       "slide_type": "fragment"
      }
     },
     "outputs": [
      {
       "metadata": {},
       "output_type": "pyout",
       "prompt_number": 35,
       "text": [
        "'Pluton'"
       ]
      }
     ],
     "prompt_number": 35
    },
    {
     "cell_type": "code",
     "collapsed": false,
     "input": [
      "# Desordenar listas\n",
      "listaordenada=range(10)\n",
      "print listaordenada\n",
      "random.shuffle(listaordenada)\n",
      "print listaordenada"
     ],
     "language": "python",
     "metadata": {
      "slideshow": {
       "slide_type": "fragment"
      }
     },
     "outputs": [
      {
       "output_type": "stream",
       "stream": "stdout",
       "text": [
        "[0, 1, 2, 3, 4, 5, 6, 7, 8, 9]\n",
        "[6, 0, 7, 3, 5, 9, 8, 1, 4, 2]\n"
       ]
      }
     ],
     "prompt_number": 5
    },
    {
     "cell_type": "markdown",
     "metadata": {
      "slideshow": {
       "slide_type": "subslide"
      }
     },
     "source": [
      "###Ejemplos de librer\u00edas: OS"
     ]
    },
    {
     "cell_type": "markdown",
     "metadata": {
      "slideshow": {
       "slide_type": "fragment"
      }
     },
     "source": [
      "Os permite interactuar con el sistema operativo. Tened cuidado!"
     ]
    },
    {
     "cell_type": "code",
     "collapsed": false,
     "input": [
      "import os\n",
      "\n",
      "#Saber el directorio en el que est\u00e1 el programa\n",
      "os.getcwd()"
     ],
     "language": "python",
     "metadata": {
      "slideshow": {
       "slide_type": "fragment"
      }
     },
     "outputs": [
      {
       "metadata": {},
       "output_type": "pyout",
       "prompt_number": 196,
       "text": [
        "'/home/achifaifa/git/slides/EE23'"
       ]
      }
     ],
     "prompt_number": 196
    },
    {
     "cell_type": "code",
     "collapsed": false,
     "input": [
      "#Esto devuelve el nombre de usuario\n",
      "os.getlogin()"
     ],
     "language": "python",
     "metadata": {
      "slideshow": {
       "slide_type": "fragment"
      }
     },
     "outputs": [
      {
       "metadata": {},
       "output_type": "pyout",
       "prompt_number": 197,
       "text": [
        "'achifaifa'"
       ]
      }
     ],
     "prompt_number": 197
    },
    {
     "cell_type": "code",
     "collapsed": false,
     "input": [
      "#Devuelve la lista de elementos en un directorio\n",
      "os.listdir(\"/home/achifaifa/git/kirino/\")"
     ],
     "language": "python",
     "metadata": {
      "slideshow": {
       "slide_type": "fragment"
      }
     },
     "outputs": [
      {
       "metadata": {},
       "output_type": "pyout",
       "prompt_number": 201,
       "text": [
        "['.gitignore',\n",
        " 'readme.md',\n",
        " 'docs',\n",
        " 'logs',\n",
        " 'player',\n",
        " 'info',\n",
        " '.git',\n",
        " 'tests',\n",
        " 'source',\n",
        " 'data']"
       ]
      }
     ],
     "prompt_number": 201
    },
    {
     "cell_type": "markdown",
     "metadata": {
      "slideshow": {
       "slide_type": "subslide"
      }
     },
     "source": [
      "###Ejemplos de librer\u00edas: SYS"
     ]
    },
    {
     "cell_type": "code",
     "collapsed": false,
     "input": [
      "#Permite realizar llamadas al sistema\n",
      "import sys\n",
      "\n",
      "# argv devuelve la lista de par\u00e1metros usados al llamar al programa (Muy \u00fatil!)\n",
      "sys.argv"
     ],
     "language": "python",
     "metadata": {
      "slideshow": {
       "slide_type": "fragment"
      }
     },
     "outputs": [
      {
       "metadata": {},
       "output_type": "pyout",
       "prompt_number": 5,
       "text": [
        "['-c',\n",
        " '-f',\n",
        " '/home/achifaifa/.ipython/profile_default/security/kernel-f3fdfaa6-f0e3-4b6f-814d-d97fde481b18.json',\n",
        " \"--IPKernelApp.parent_appname='ipython-notebook'\",\n",
        " '--profile-dir',\n",
        " '/home/achifaifa/.ipython/profile_default',\n",
        " '--parent=1']"
       ]
      }
     ],
     "prompt_number": 5
    },
    {
     "cell_type": "code",
     "collapsed": false,
     "input": [
      "# Entero m\u00e1s largo soportado\n",
      "sys.maxint"
     ],
     "language": "python",
     "metadata": {
      "slideshow": {
       "slide_type": "fragment"
      }
     },
     "outputs": [
      {
       "metadata": {},
       "output_type": "pyout",
       "prompt_number": 4,
       "text": [
        "9223372036854775807"
       ]
      }
     ],
     "prompt_number": 4
    },
    {
     "cell_type": "markdown",
     "metadata": {
      "slideshow": {
       "slide_type": "subslide"
      }
     },
     "source": [
      "###M\u00e9todo superavanzado II: Acceder a archivos"
     ]
    },
    {
     "cell_type": "markdown",
     "metadata": {
      "slideshow": {
       "slide_type": "fragment"
      }
     },
     "source": [
      "Podemos abrir y cerrar archivos con `open()` y `close()`"
     ]
    },
    {
     "cell_type": "markdown",
     "metadata": {
      "slideshow": {
       "slide_type": "fragment"
      }
     },
     "source": [
      "Sin embargo, usamos `<with open(ruta, modo) as nombre>`. Esto abre el archivo y lo cierra autom\u00e1ticamente cuando acabamos de procesarlo."
     ]
    },
    {
     "cell_type": "code",
     "collapsed": false,
     "input": [
      "# Ejemplo: abrir un archivo en nuestro directorio\n",
      "# r: read, w: write, a: append. '+' opcional para crearlo si no existe\n",
      "with open(\"/home/achifaifa/archivo\",\"r\") as archivoconcosas:\n",
      "    print archivoconcosas.readlines()[0].strip()\n",
      "    "
     ],
     "language": "python",
     "metadata": {
      "slideshow": {
       "slide_type": "fragment"
      }
     },
     "outputs": [
      {
       "output_type": "stream",
       "stream": "stdout",
       "text": [
        "blah blah blah blah\n"
       ]
      }
     ],
     "prompt_number": 21
    },
    {
     "cell_type": "markdown",
     "metadata": {
      "slideshow": {
       "slide_type": "fragment"
      }
     },
     "source": [
      "Eso es todo! una vez abrimos un archivo, `readlines()` devuelve una lista con las l\u00edneas del archivo"
     ]
    },
    {
     "cell_type": "markdown",
     "metadata": {
      "slideshow": {
       "slide_type": "fragment"
      }
     },
     "source": [
      "Aseguraos de usar `strip()`: elimina espacios en blanco y saltos de l\u00ednea.  \n",
      "`rstrip()` los elimina de la derecha, y `lstrip()` de la izquierda"
     ]
    },
    {
     "cell_type": "markdown",
     "metadata": {
      "slideshow": {
       "slide_type": "subslide"
      }
     },
     "source": [
      "###Procesando archivos"
     ]
    },
    {
     "cell_type": "markdown",
     "metadata": {
      "slideshow": {
       "slide_type": "fragment"
      }
     },
     "source": [
      "Una vez abierto un archivo, podemos tratarlo l\u00ednea por l\u00ednea.  \n",
      "Por ejemplo: Podemos devolver s\u00f3lo las l\u00edneas con 4 palabras:"
     ]
    },
    {
     "cell_type": "code",
     "collapsed": false,
     "input": [
      "with open(\"/home/achifaifa/archivo\",\"r\") as archivo:\n",
      "    for line in archivo:\n",
      "        if len(line.split())==4: print line.strip()"
     ],
     "language": "python",
     "metadata": {
      "slideshow": {
       "slide_type": "fragment"
      }
     },
     "outputs": [
      {
       "output_type": "stream",
       "stream": "stdout",
       "text": [
        "blah blah blah blah\n"
       ]
      }
     ],
     "prompt_number": 35
    },
    {
     "cell_type": "code",
     "collapsed": false,
     "input": [
      "# O devolver las l\u00edneas con m\u00e1s de 10 letras\n",
      "with open(\"/home/achifaifa/archivo\",\"r\") as archivo:\n",
      "    for line in archivo:\n",
      "        if len(line.strip().replace(\" \",\"\"))>10: print line.strip()"
     ],
     "language": "python",
     "metadata": {
      "slideshow": {
       "slide_type": "fragment"
      }
     },
     "outputs": [
      {
       "output_type": "stream",
       "stream": "stdout",
       "text": [
        "blah blah blah blah\n",
        "blahblahblah\n"
       ]
      }
     ],
     "prompt_number": 36
    },
    {
     "cell_type": "markdown",
     "metadata": {
      "slideshow": {
       "slide_type": "subslide"
      }
     },
     "source": [
      "###Creando archivos"
     ]
    },
    {
     "cell_type": "markdown",
     "metadata": {
      "slideshow": {
       "slide_type": "fragment"
      }
     },
     "source": [
      "\u00bfY si necesitamos crear un archivo desde 0 para, por ejemplo, hacer pruebas?"
     ]
    },
    {
     "cell_type": "code",
     "collapsed": false,
     "input": [
      "#Vamos a probar!\n",
      "\n",
      "with open(\"/home/achifaifa/pruebas\",\"w+\") as archivopruebas:\n",
      "    for i in xrange(100): archivopruebas.write(\"nombre%02i - apellido%02i - %i\\n\"%(i,i,random.randint(900000000,999999999)))"
     ],
     "language": "python",
     "metadata": {
      "slideshow": {
       "slide_type": "fragment"
      }
     },
     "outputs": [],
     "prompt_number": 45
    },
    {
     "cell_type": "markdown",
     "metadata": {
      "slideshow": {
       "slide_type": "fragment"
      }
     },
     "source": [
      "Y ya est\u00e1! Esto genera un archivo en ~/ con 100 l\u00edneas de datos con los que podemos probar otras cosas"
     ]
    },
    {
     "cell_type": "markdown",
     "metadata": {
      "slideshow": {
       "slide_type": "subslide"
      }
     },
     "source": [
      "###M\u00e9todo superavanzado III: APIs"
     ]
    },
    {
     "cell_type": "markdown",
     "metadata": {
      "slideshow": {
       "slide_type": "fragment"
      }
     },
     "source": [
      "Algunos programas y servicios ofrecen maneras de interactuar con ellos usando nuestros programas."
     ]
    },
    {
     "cell_type": "markdown",
     "metadata": {
      "slideshow": {
       "slide_type": "fragment"
      }
     },
     "source": [
      "GitHub, Spotify, Twitter, Facebook, etc etc etc."
     ]
    },
    {
     "cell_type": "markdown",
     "metadata": {
      "slideshow": {
       "slide_type": "fragment"
      }
     },
     "source": [
      "Llamar a la API (Usando una URL) => Recibir y procesar respuesta"
     ]
    },
    {
     "cell_type": "markdown",
     "metadata": {
      "slideshow": {
       "slide_type": "fragment"
      }
     },
     "source": [
      "Podemos consultar la documentaci\u00f3n para comprobar los datos, funciones y opciones disponibles"
     ]
    },
    {
     "cell_type": "markdown",
     "metadata": {
      "slideshow": {
       "slide_type": "subslide"
      }
     },
     "source": [
      "###M\u00e9todo superavanzado III.2: Usando una API"
     ]
    },
    {
     "cell_type": "code",
     "collapsed": false,
     "input": [
      "import json,subprocess,urllib2\n",
      "artist, song=raw_input(\"group? \",),raw_input(\"title? \",)\n",
      "jsonshit=json.loads(urllib2.urlopen(\"http://developer.echonest.com/api/v4/song/search?bucket=id:spotify&bucket=tracks&results=100&api_key=MZFEPELDSKFX4WAMA&artist=%s&title=%s\"%(artist,song)).read())\n",
      "print jsonshit[\"response\"][\"songs\"][0][\"artist_name\"],jsonshit[\"response\"][\"songs\"][0][\"title\"]\n",
      "processeddata=json.loads(urllib2.urlopen(\"https://api.spotify.com/v1/tracks/\"+jsonshit[\"response\"][\"songs\"][0][\"tracks\"][0][\"foreign_id\"].split(':')[2]).read())\n",
      "subprocess.call([\"vlc\", processeddata[\"preview_url\"]])"
     ],
     "language": "python",
     "metadata": {
      "slideshow": {
       "slide_type": "fragment"
      }
     },
     "outputs": []
    },
    {
     "cell_type": "markdown",
     "metadata": {
      "slideshow": {
       "slide_type": "fragment"
      }
     },
     "source": [
      "TL;DR:\n",
      " * Abrimos una web con una URL (Petici\u00f3n a la API)\n",
      " * Parseamos el contenido de la web (Objeto JSON)\n",
      " * Procesamos la respuesta"
     ]
    },
    {
     "cell_type": "markdown",
     "metadata": {
      "slideshow": {
       "slide_type": "subslide"
      }
     },
     "source": [
      "#Ya sois megamaestros ninja\n",
      "\n",
      "![](./images/ninja-guitar.jpeg)"
     ]
    },
    {
     "cell_type": "markdown",
     "metadata": {
      "slideshow": {
       "slide_type": "subslide"
      }
     },
     "source": [
      "###\u00bfY ahora?"
     ]
    },
    {
     "cell_type": "markdown",
     "metadata": {
      "slideshow": {
       "slide_type": "fragment"
      }
     },
     "source": [
      "Si a\u00fan quer\u00e9is aprender m\u00e1s:"
     ]
    },
    {
     "cell_type": "markdown",
     "metadata": {
      "slideshow": {
       "slide_type": "fragment"
      }
     },
     "source": [
      "* Generadores"
     ]
    },
    {
     "cell_type": "markdown",
     "metadata": {
      "slideshow": {
       "slide_type": "fragment"
      }
     },
     "source": [
      "* Clases y objetos"
     ]
    },
    {
     "cell_type": "markdown",
     "metadata": {
      "slideshow": {
       "slide_type": "fragment"
      }
     },
     "source": [
      "* M\u00e9todos m\u00e1gicos"
     ]
    },
    {
     "cell_type": "markdown",
     "metadata": {
      "slideshow": {
       "slide_type": "fragment"
      }
     },
     "source": [
      "* Decoradores"
     ]
    },
    {
     "cell_type": "markdown",
     "metadata": {
      "slideshow": {
       "slide_type": "fragment"
      }
     },
     "source": [
      "* Metaprogramaci\u00f3n"
     ]
    },
    {
     "cell_type": "markdown",
     "metadata": {
      "slideshow": {
       "slide_type": "fragment"
      }
     },
     "source": [
      "* Programaci\u00f3n funcional"
     ]
    },
    {
     "cell_type": "markdown",
     "metadata": {
      "slideshow": {
       "slide_type": "slide"
      }
     },
     "source": [
      "#\u00a1Ense\u00f1adme lo que sab\u00e9is!\n",
      "\n",
      "<center>![](./images/ninja-duel.jpg)\n",
      "*\"Te reviento pavo\" \u2014 Sun Tzu*</center>"
     ]
    },
    {
     "cell_type": "markdown",
     "metadata": {
      "slideshow": {
       "slide_type": "subslide"
      }
     },
     "source": [
      "###Caso 1: \"T\u00fa que sabes de estas cosas...\""
     ]
    },
    {
     "cell_type": "markdown",
     "metadata": {
      "slideshow": {
       "slide_type": "fragment"
      }
     },
     "source": [
      "Os entregan un archivo con 10 nombres, apellidos y n\u00fameros de tel\u00e9fono."
     ]
    },
    {
     "cell_type": "markdown",
     "metadata": {
      "slideshow": {
       "slide_type": "fragment"
      }
     },
     "source": [
      "Ten\u00e9is que devolver un archivo con los datos de Alaveses.\n",
      "\u00bfC\u00f3mo lo hac\u00e9is sin python?"
     ]
    },
    {
     "cell_type": "markdown",
     "metadata": {
      "slideshow": {
       "slide_type": "fragment"
      }
     },
     "source": [
      "Bien. S\u00f3lo hay un problema...\n",
      "![](./images/telefonos.png)"
     ]
    },
    {
     "cell_type": "code",
     "collapsed": false,
     "input": [
      "# Abrimos los dos archivos\n",
      "with open (\"./demos/01-telefonos/telefonos\",\"r\") as artelefonos:\n",
      "    with open (\"./demos/01-telefonos/telefonos_vit\",\"w+\") as telefonos_out:\n",
      "        #Sabemos que la estructura dele archivo es nombre - apellido - tel\u00e9fono\n",
      "        # Si el tel\u00e9fono empieza por 945, copiamos la l\u00ednea al ottro archivo\n",
      "        for line in artelefonos: \n",
      "            if line.split(\" - \")[-1].startswith(\"945\"): telefonos_out.write(line)\n",
      "            \n",
      "#4 l\u00edneas, 0 problemas, 100% awesome\n",
      "        "
     ],
     "language": "python",
     "metadata": {
      "slideshow": {
       "slide_type": "fragment"
      }
     },
     "outputs": [],
     "prompt_number": 18
    },
    {
     "cell_type": "markdown",
     "metadata": {
      "slideshow": {
       "slide_type": "subslide"
      }
     },
     "source": [
      "![](./images/ninja-gun.gif)"
     ]
    },
    {
     "cell_type": "markdown",
     "metadata": {
      "slideshow": {
       "slide_type": "subslide"
      }
     },
     "source": [
      "###Caso 2: `Episodio_1[Hola][Dame_tus_dies][hey_man][84957209485].avi`"
     ]
    },
    {
     "cell_type": "markdown",
     "metadata": {
      "slideshow": {
       "slide_type": "fragment"
      }
     },
     "source": [
      "Os baj\u00e1is las 10 temporadas de una serie cortes\u00eda de Jack Sparrow."
     ]
    },
    {
     "cell_type": "markdown",
     "metadata": {
      "slideshow": {
       "slide_type": "fragment"
      }
     },
     "source": [
      "Todos los episodios (500) est\u00e1n en la misma carpeta, los archivos tienen muchas etiquetas y los espacios son guiones bajos.  \n",
      "Quer\u00e9is ordenarlos por carpetas, cambiar los guiones bajos por espacios y quitarles las etiquetas.   \n",
      "\u00bfC\u00f3mo lo hac\u00e9is sin python?"
     ]
    },
    {
     "cell_type": "code",
     "collapsed": false,
     "input": [
      "import os, subprocess\n",
      "#Primero creamos carpetas para las 10 temporadas\n",
      "for i in range(10): subprocess.call([\"mkdir\",\"Season %02i\"%(i+1)])\n",
      "for i in os.listdir(os.curdir):\n",
      "  if i.endswith(\".avi\"):\n",
      "    #Cambiamos de nombre al archivo (Y a la variable i)\n",
      "    os.rename(i,\" \".join(i.split(\"_\")[:4])+\".avi\")\n",
      "    i=\" \".join(i.split(\"_\")[:4])+\".avi\"\n",
      "    #Movemos el archivo\n",
      "    os.rename(i,\"Season %02i/%s\"%(int(i.split()[-1].split(\"x\")[0]),i)"
     ],
     "language": "python",
     "metadata": {
      "slideshow": {
       "slide_type": "fragment"
      }
     },
     "outputs": [],
     "prompt_number": 22
    },
    {
     "cell_type": "markdown",
     "metadata": {
      "slideshow": {
       "slide_type": "subslide"
      }
     },
     "source": [
      "<center>![](./images/ninja-power.gif)<center>"
     ]
    },
    {
     "cell_type": "markdown",
     "metadata": {
      "slideshow": {
       "slide_type": "subslide"
      }
     },
     "source": [
      "###Caso 3: FTPereza"
     ]
    },
    {
     "cell_type": "markdown",
     "metadata": {
      "slideshow": {
       "slide_type": "subslide"
      }
     },
     "source": [
      "Ten\u00e9is que descargar archivos de un servidor FTP"
     ]
    },
    {
     "cell_type": "markdown",
     "metadata": {
      "slideshow": {
       "slide_type": "fragment"
      }
     },
     "source": [
      "No ten\u00e9is acceso via FTP, s\u00f3lo via web. Y hay [MUCHOS](http://api.bitcoincharts.com/v1/csv/) archivos (200 y pico).  \n",
      "![](./images/csv-ftp-1.png)\n",
      "\u00bfC\u00f3mo lo hac\u00e9is sin python?"
     ]
    },
    {
     "cell_type": "markdown",
     "metadata": {
      "slideshow": {
       "slide_type": "fragment"
      }
     },
     "source": [
      "\u00bfEl c\u00f3digo fuente ayuda? ;)\n",
      "\n",
      "![](./images/csv-ftp.png)"
     ]
    },
    {
     "cell_type": "code",
     "collapsed": false,
     "input": [
      "import urllib2\n",
      "url='http://api.bitcoincharts.com/v1/csv/'\n",
      "urls=[url+i.split('\"')[1] for i in urllib2.urlopen(url).read().split('\\n') if i.startswith(\"<a href=\")]\n",
      "for i in urls: subprocess.call(['wget',i])"
     ],
     "language": "python",
     "metadata": {
      "slideshow": {
       "slide_type": "fragment"
      }
     },
     "outputs": [],
     "prompt_number": 3
    },
    {
     "cell_type": "markdown",
     "metadata": {
      "slideshow": {
       "slide_type": "subslide"
      }
     },
     "source": [
      "![](./images/ninja-uncover.gif)"
     ]
    },
    {
     "cell_type": "markdown",
     "metadata": {
      "slideshow": {
       "slide_type": "slide"
      }
     },
     "source": [
      "###Dudas? Preguntas?"
     ]
    },
    {
     "cell_type": "markdown",
     "metadata": {
      "slideshow": {
       "slide_type": "fragment"
      }
     },
     "source": [
      "Hablad ahora (O luego, da igual)"
     ]
    },
    {
     "cell_type": "markdown",
     "metadata": {
      "slideshow": {
       "slide_type": "fragment"
      }
     },
     "source": [
      "Gracias por venir. Nos vemos en la Euskal!"
     ]
    },
    {
     "cell_type": "markdown",
     "metadata": {
      "slideshow": {
       "slide_type": "fragment"
      }
     },
     "source": [
      "[@Achifaifa](https://twitter.com/achifaifa) - [achi.se]() - achi[a]hush.ai\n",
      "\n",
      "Diapositivas en [code.achi.se/slides]()"
     ]
    }
   ],
   "metadata": {}
  }
 ]
}