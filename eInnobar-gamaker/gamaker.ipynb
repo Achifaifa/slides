{
 "cells": [
  {
   "cell_type": "markdown",
   "metadata": {
    "slideshow": {
     "slide_type": "slide"
    }
   },
   "source": [
    "![](./img/logo-gamaker.png)"
   ]
  },
  {
   "cell_type": "markdown",
   "metadata": {
    "slideshow": {
     "slide_type": "subslide"
    }
   },
   "source": [
    "### Ubicación\n",
    "\n",
    "C:\\ Bueno Monreal 16, Bajo I  \n",
    "01001 Vitoria\n",
    "\n",
    "+42° 51' 05\" N; -02° 40' 14\" W \n",
    "\n",
    "![](./img/map.png)"
   ]
  },
  {
   "cell_type": "markdown",
   "metadata": {},
   "source": [
    "### Contacto y servicios\n",
    "\n",
    "* Lista de correo ([http://lista.gamaker.org]())\n",
    "* Wiki ([http://wiki.gamaker.org]())\n",
    "* IRC (#Gamaker @ freenode)\n",
    "* Twitter ([@Gamaker_](https://twitter.com/gamaker_))\n",
    "* Github ([Gamaker](https://github.com/gamaker))\n",
    "* [Más datos](http://wiki.gamaker.org/index.php?title=Contacto)"
   ]
  }
 ],
 "metadata": {
  "celltoolbar": "Slideshow",
  "kernelspec": {
   "display_name": "Python 2",
   "language": "python",
   "name": "python2"
  },
  "language_info": {
   "codemirror_mode": {
    "name": "ipython",
    "version": 2
   },
   "file_extension": ".py",
   "mimetype": "text/x-python",
   "name": "python",
   "nbconvert_exporter": "python",
   "pygments_lexer": "ipython2",
   "version": "2.7.10"
  }
 },
 "nbformat": 4,
 "nbformat_minor": 0
}
