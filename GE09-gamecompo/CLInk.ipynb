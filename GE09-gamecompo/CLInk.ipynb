{
 "metadata": {
  "celltoolbar": "Slideshow",
  "name": "",
  "signature": "sha256:9796439db652c26f2a7ce52e8ecd2bc44436036bc1c025d5e79b0a7de6a7fd1b"
 },
 "nbformat": 3,
 "nbformat_minor": 0,
 "worksheets": [
  {
   "cells": [
    {
     "cell_type": "markdown",
     "metadata": {
      "slideshow": {
       "slide_type": "slide"
      }
     },
     "source": [
      "#CLInk\n",
      "###Cuando Uplink se queda corto\n",
      "\n",
      "####Yuri Numerov\n",
      "####[@Achifaifa](https://twitter.com/achifaifa) / [achi@hush.ai](mailto:achi@hush.ai)\n",
      "\n",
      "GE08, 2015-03-13"
     ]
    },
    {
     "cell_type": "markdown",
     "metadata": {
      "slideshow": {
       "slide_type": "slide"
      }
     },
     "source": [
      "###Retrospectiva: 'hacking' en videojuegos(I)\n",
      "####Uplink (Introversion Software, 2001)\n",
      "\n",
      "![](./images/uplink.jpg)"
     ]
    },
    {
     "cell_type": "markdown",
     "metadata": {
      "slideshow": {
       "slide_type": "subslide"
      }
     },
     "source": [
      "###Retrospectiva: 'hacking' en videojuegos(II)\n",
      "####Hacker evolution (Exosyphen Studios, 2010)\n",
      "\n",
      "![](./images/hackerevol.jpg)"
     ]
    },
    {
     "cell_type": "markdown",
     "metadata": {
      "slideshow": {
       "slide_type": "subslide"
      }
     },
     "source": [
      "###Retrospectiva: 'hacking' en videojuegos(III)\n",
      "####Hacknet (Orann, 2012)\n",
      "\n",
      "![](./images/hacknet.png)"
     ]
    },
    {
     "cell_type": "markdown",
     "metadata": {
      "slideshow": {
       "slide_type": "slide"
      }
     },
     "source": [
      "###El problema (I): Existe un \"\u00c1rbol de herencia\""
     ]
    },
    {
     "cell_type": "markdown",
     "metadata": {
      "slideshow": {
       "slide_type": "fragment"
      }
     },
     "source": [
      "* La mayor\u00eda de juegos 'descienden' de Uplink"
     ]
    },
    {
     "cell_type": "markdown",
     "metadata": {
      "slideshow": {
       "slide_type": "fragment"
      }
     },
     "source": [
      "* Que a su vez est\u00e1 inspirado por 'hackers' (1995)"
     ]
    },
    {
     "cell_type": "markdown",
     "metadata": {
      "slideshow": {
       "slide_type": "fragment"
      }
     },
     "source": [
      "* Que recoge elementos de \"Neuromancer\" (William Gibson, 1984; Interplay, 1989)"
     ]
    },
    {
     "cell_type": "markdown",
     "metadata": {
      "slideshow": {
       "slide_type": "fragment"
      }
     },
     "source": [
      "TL;DR: La mayor\u00eda de elementos en juegos y pel\u00edculas est\u00e1n basadas en ciencia ficci\u00f3n de los 80"
     ]
    },
    {
     "cell_type": "markdown",
     "metadata": {
      "slideshow": {
       "slide_type": "fragment"
      }
     },
     "source": [
      "Esto no es malo siempre que se hable de ficci\u00f3n"
     ]
    },
    {
     "cell_type": "markdown",
     "metadata": {
      "slideshow": {
       "slide_type": "subslide"
      }
     },
     "source": [
      "###El problema (II): El 'hacking' es, visualmente, un rollo\n",
      "\n",
      "[Hackers, the real movie (Mark Ellzey, 2013)](https://vimeo.com/87009985)\n",
      "\n",
      "[\u00bfPor qu\u00e9 es el Hacking en Hollywood tan horrible? (Gizmodo, 2014)](http://gizmodo.com/why-hollywood-hacking-is-so-hilariously-horrible-1524469666)"
     ]
    },
    {
     "cell_type": "markdown",
     "metadata": {
      "slideshow": {
       "slide_type": "subslide"
      }
     },
     "source": [
      "###El problema (III): La realidad es complicada"
     ]
    },
    {
     "cell_type": "markdown",
     "metadata": {
      "slideshow": {
       "slide_type": "fragment"
      }
     },
     "source": [
      "Es dif\u00edcil explicar a tu abuela c\u00f3mo usar pgp..."
     ]
    },
    {
     "cell_type": "markdown",
     "metadata": {
      "slideshow": {
       "slide_type": "fragment"
      }
     },
     "source": [
      "... pero en ficci\u00f3n siempre puedes desactivar una bomba aporreando el teclado en excel.\n",
      "\n",
      "![](./images/atomicbomb.jpg)"
     ]
    },
    {
     "cell_type": "markdown",
     "metadata": {
      "slideshow": {
       "slide_type": "slide"
      }
     },
     "source": [
      "###El reto: Un simulador realista *y* entrettenido"
     ]
    },
    {
     "cell_type": "markdown",
     "metadata": {
      "slideshow": {
       "slide_type": "subslide"
      }
     },
     "source": [
      "###Condiciones:"
     ]
    },
    {
     "cell_type": "markdown",
     "metadata": {
      "slideshow": {
       "slide_type": "fragment"
      }
     },
     "source": [
      "* M\u00ednimamente realista (Utilizar funciones reales en situaciones reales)"
     ]
    },
    {
     "cell_type": "markdown",
     "metadata": {
      "slideshow": {
       "slide_type": "fragment"
      }
     },
     "source": [
      "* Evitar idas de olla dram\u00e1ticas (Nada de interfaces en basic para localizar IPs)"
     ]
    },
    {
     "cell_type": "markdown",
     "metadata": {
      "slideshow": {
       "slide_type": "fragment"
      }
     },
     "source": [
      "* 100% CLI. Nada de mapas del mundo, gr\u00e1ficas u ondas random"
     ]
    },
    {
     "cell_type": "markdown",
     "metadata": {
      "slideshow": {
       "slide_type": "fragment"
      }
     },
     "source": [
      "* Historia"
     ]
    },
    {
     "cell_type": "markdown",
     "metadata": {
      "slideshow": {
       "slide_type": "fragment"
      }
     },
     "source": [
      "* M\u00ednimamente entretenido"
     ]
    },
    {
     "cell_type": "markdown",
     "metadata": {
      "slideshow": {
       "slide_type": "subslide"
      }
     },
     "source": [
      "###Mec\u00e1nica:"
     ]
    },
    {
     "cell_type": "markdown",
     "metadata": {
      "slideshow": {
       "slide_type": "fragment"
      }
     },
     "source": [
      "* Interactuaci\u00f3n con entorno via CLI"
     ]
    },
    {
     "cell_type": "markdown",
     "metadata": {
      "slideshow": {
       "slide_type": "fragment"
      }
     },
     "source": [
      "* Usando herramientas reales"
     ]
    },
    {
     "cell_type": "markdown",
     "metadata": {
      "slideshow": {
       "slide_type": "fragment"
      }
     },
     "source": [
      "* RTFM + Dolores de cabeza"
     ]
    },
    {
     "cell_type": "markdown",
     "metadata": {
      "slideshow": {
       "slide_type": "slide"
      }
     },
     "source": [
      "###Concept (ASCII) art\n",
      "\n",
      "![](./images/clinkmain.png)"
     ]
    },
    {
     "cell_type": "markdown",
     "metadata": {
      "slideshow": {
       "slide_type": "subslide"
      }
     },
     "source": [
      "###Concept (ASCII) art II: Introducci\u00f3n\n",
      "\n",
      "![](./images/mailexample.png)"
     ]
    },
    {
     "cell_type": "markdown",
     "metadata": {
      "slideshow": {
       "slide_type": "subslide"
      }
     },
     "source": [
      "###Concept (ASCII) art III: Mnap\n",
      "\n",
      "![](./images/mnap.png)"
     ]
    },
    {
     "cell_type": "code",
     "collapsed": false,
     "input": [],
     "language": "python",
     "metadata": {
      "slideshow": {
       "slide_type": "subslide"
      }
     },
     "outputs": []
    },
    {
     "cell_type": "markdown",
     "metadata": {
      "slideshow": {
       "slide_type": "slide"
      }
     },
     "source": [
      "  \n",
      "\n",
      "  ##Q&A \n",
      "    \n",
      "    \n",
      "    \n",
      "   \u2013Yuri Numerov ([@achifaifa](https://twitter.com/achifaifa))  \n",
      "   \u2013Diapositivas en [github.com/achifaifa/slides]()"
     ]
    }
   ],
   "metadata": {}
  }
 ]
}