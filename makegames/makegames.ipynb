{
 "cells": [
  {
   "cell_type": "markdown",
   "metadata": {
    "slideshow": {
     "slide_type": "slide"
    }
   },
   "source": [
    "# How to (actually) make games with python\n",
    "## Slides at [code.achi.se/slides](https://github.com/achifaifa/slides)\n",
    "\n",
    "### Yuri Numerov (Achifaifa)\n",
    "### FOSDEM'16\n",
    "#### 2016-01-30\n",
    "\n",
    "### [achi.se](http://achi.se) / [@Achifaifa](https://twitter.com/achifaifa) / [achi (a) hush.ai](http://argh.wargh)"
   ]
  },
  {
   "cell_type": "markdown",
   "metadata": {
    "slideshow": {
     "slide_type": "slide"
    }
   },
   "source": [
    "## About me"
   ]
  },
  {
   "cell_type": "markdown",
   "metadata": {
    "slideshow": {
     "slide_type": "fragment"
    }
   },
   "source": [
    "* ¯\\\\_(ツ)_/¯"
   ]
  },
  {
   "cell_type": "markdown",
   "metadata": {
    "slideshow": {
     "slide_type": "slide"
    }
   },
   "source": [
    "### My issue with `\"\"gamedev\"\"` talks"
   ]
  },
  {
   "cell_type": "markdown",
   "metadata": {
    "slideshow": {
     "slide_type": "fragment"
    }
   },
   "source": [
    "* Mostly people selling frameworks"
   ]
  },
  {
   "cell_type": "markdown",
   "metadata": {
    "slideshow": {
     "slide_type": "fragment"
    }
   },
   "source": [
    "* No game talks without pygame! :<"
   ]
  },
  {
   "cell_type": "markdown",
   "metadata": {
    "slideshow": {
     "slide_type": "fragment"
    }
   },
   "source": [
    "* Very rarely about actually making games"
   ]
  },
  {
   "cell_type": "markdown",
   "metadata": {
    "slideshow": {
     "slide_type": "slide"
    }
   },
   "source": [
    "### So, let's fix that!"
   ]
  },
  {
   "cell_type": "markdown",
   "metadata": {
    "slideshow": {
     "slide_type": "fragment"
    }
   },
   "source": [
    "We'll be making not one, but two games (TWO!)"
   ]
  },
  {
   "cell_type": "markdown",
   "metadata": {
    "slideshow": {
     "slide_type": "subslide"
    }
   },
   "source": [
    "### Rules:"
   ]
  },
  {
   "cell_type": "markdown",
   "metadata": {
    "slideshow": {
     "slide_type": "fragment"
    }
   },
   "source": [
    "* No pygame"
   ]
  },
  {
   "cell_type": "markdown",
   "metadata": {
    "slideshow": {
     "slide_type": "fragment"
    }
   },
   "source": [
    "* No custom frameworks"
   ]
  },
  {
   "cell_type": "markdown",
   "metadata": {
    "slideshow": {
     "slide_type": "fragment"
    }
   },
   "source": [
    "* No dependencies"
   ]
  },
  {
   "cell_type": "markdown",
   "metadata": {
    "slideshow": {
     "slide_type": "fragment"
    }
   },
   "source": [
    "* Just whatever you have in the standard library!"
   ]
  },
  {
   "cell_type": "markdown",
   "metadata": {
    "collapsed": true,
    "slideshow": {
     "slide_type": "slide"
    }
   },
   "source": [
    "### But first, some basics"
   ]
  },
  {
   "cell_type": "markdown",
   "metadata": {
    "slideshow": {
     "slide_type": "fragment"
    }
   },
   "source": [
    "#### Q: What is a game?"
   ]
  },
  {
   "cell_type": "markdown",
   "metadata": {
    "slideshow": {
     "slide_type": "fragment"
    }
   },
   "source": [
    "#### A: A world (with rules) we can manipulate (With or without winning/losing conditions)"
   ]
  },
  {
   "cell_type": "markdown",
   "metadata": {
    "slideshow": {
     "slide_type": "fragment"
    }
   },
   "source": [
    "#### Q: What is the goal of a game?"
   ]
  },
  {
   "cell_type": "markdown",
   "metadata": {
    "slideshow": {
     "slide_type": "fragment"
    }
   },
   "source": [
    "#### A:  ¯\\\\_(ツ)_/¯"
   ]
  },
  {
   "cell_type": "markdown",
   "metadata": {
    "slideshow": {
     "slide_type": "slide"
    }
   },
   "source": [
    "### Round 1\n",
    "\n",
    "Clue: The only winning move is not to play"
   ]
  },
  {
   "cell_type": "markdown",
   "metadata": {
    "collapsed": true,
    "slideshow": {
     "slide_type": "fragment"
    }
   },
   "source": [
    "![](./img/ttt.png)"
   ]
  },
  {
   "cell_type": "markdown",
   "metadata": {
    "slideshow": {
     "slide_type": "subslide"
    }
   },
   "source": [
    "### What are the rules of the game?"
   ]
  },
  {
   "cell_type": "markdown",
   "metadata": {
    "slideshow": {
     "slide_type": "fragment"
    }
   },
   "source": [
    "* Played in a 3*3 grid"
   ]
  },
  {
   "cell_type": "markdown",
   "metadata": {
    "slideshow": {
     "slide_type": "fragment"
    }
   },
   "source": [
    "* Two players"
   ]
  },
  {
   "cell_type": "markdown",
   "metadata": {
    "slideshow": {
     "slide_type": "fragment"
    }
   },
   "source": [
    "* Each player draws a symbol in an empty position of the grid"
   ]
  },
  {
   "cell_type": "markdown",
   "metadata": {
    "slideshow": {
     "slide_type": "fragment"
    }
   },
   "source": [
    "* First player to get three symbols in a row wins"
   ]
  },
  {
   "cell_type": "markdown",
   "metadata": {
    "collapsed": true,
    "slideshow": {
     "slide_type": "subslide"
    }
   },
   "source": [
    "### First, we import some stuff"
   ]
  },
  {
   "cell_type": "code",
   "execution_count": 7,
   "metadata": {
    "collapsed": true,
    "slideshow": {
     "slide_type": "fragment"
    }
   },
   "outputs": [],
   "source": [
    "#! usr/bin/env python\n",
    "     \n",
    "from os import system as DO"
   ]
  },
  {
   "cell_type": "markdown",
   "metadata": {
    "slideshow": {
     "slide_type": "subslide"
    }
   },
   "source": [
    "### Then we initialize the world and the players"
   ]
  },
  {
   "cell_type": "code",
   "execution_count": 1,
   "metadata": {
    "collapsed": true,
    "slideshow": {
     "slide_type": "fragment"
    }
   },
   "outputs": [],
   "source": [
    "board=[[\" \" for i in range(3)] for i in range(3)]\n",
    "players=[\"X\",\"O\"]"
   ]
  },
  {
   "cell_type": "markdown",
   "metadata": {
    "slideshow": {
     "slide_type": "fragment"
    }
   },
   "source": [
    "Remember, the in-game players are the tools you give the actual player to interact with the world"
   ]
  },
  {
   "cell_type": "markdown",
   "metadata": {
    "slideshow": {
     "slide_type": "subslide"
    }
   },
   "source": [
    "### And we enter the main loop"
   ]
  },
  {
   "cell_type": "markdown",
   "metadata": {
    "slideshow": {
     "slide_type": "fragment"
    }
   },
   "source": [
    "Normally an infinite loop, but we can use a `for` here :)"
   ]
  },
  {
   "cell_type": "code",
   "execution_count": 2,
   "metadata": {
    "collapsed": true,
    "slideshow": {
     "slide_type": "fragment"
    }
   },
   "outputs": [],
   "source": [
    "for i in range(9):\n",
    "    pass"
   ]
  },
  {
   "cell_type": "markdown",
   "metadata": {
    "slideshow": {
     "slide_type": "subslide"
    }
   },
   "source": [
    "### Think about what you do in the loop:\n",
    "That's a turn, a cycle, or the minimum number of actions you need to repeat to play"
   ]
  },
  {
   "cell_type": "markdown",
   "metadata": {
    "slideshow": {
     "slide_type": "fragment"
    }
   },
   "source": [
    "* Clear the screen (Begin the cycle)"
   ]
  },
  {
   "cell_type": "code",
   "execution_count": 14,
   "metadata": {
    "collapsed": false,
    "slideshow": {
     "slide_type": "fragment"
    }
   },
   "outputs": [],
   "source": [
    "DO('clear')"
   ]
  },
  {
   "cell_type": "markdown",
   "metadata": {
    "slideshow": {
     "slide_type": "fragment"
    }
   },
   "source": [
    "* Print the board (Let the player/s know the status of the game)"
   ]
  },
  {
   "cell_type": "code",
   "execution_count": 13,
   "metadata": {
    "collapsed": false,
    "slideshow": {
     "slide_type": "fragment"
    }
   },
   "outputs": [],
   "source": [
    "print \"\\n-----\\n\".join([\"|\".join(j) for j in board])"
   ]
  },
  {
   "cell_type": "markdown",
   "metadata": {
    "slideshow": {
     "slide_type": "fragment"
    }
   },
   "source": [
    "* Ask for a move to a player (Get player feedback)"
   ]
  },
  {
   "cell_type": "code",
   "execution_count": 15,
   "metadata": {
    "collapsed": false,
    "slideshow": {
     "slide_type": "fragment"
    }
   },
   "outputs": [],
   "source": [
    "x,y=[int(k)-1 for k in raw_input(\"Player %s >\"%players[i%2]).split(',')]"
   ]
  },
  {
   "cell_type": "markdown",
   "metadata": {
    "slideshow": {
     "slide_type": "fragment"
    }
   },
   "source": [
    "* Fill the cell (Modify the world based on that feedback and the rules of the game)"
   ]
  },
  {
   "cell_type": "code",
   "execution_count": 16,
   "metadata": {
    "collapsed": true,
    "slideshow": {
     "slide_type": "fragment"
    }
   },
   "outputs": [],
   "source": [
    "board[y][x]=players[i%2] if board[y][x]==\" \" else board[y][x]"
   ]
  },
  {
   "cell_type": "markdown",
   "metadata": {
    "slideshow": {
     "slide_type": "fragment"
    }
   },
   "source": [
    "* Check if anyone has won (If the status of the world matches a winning/losing conditions)"
   ]
  },
  {
   "cell_type": "code",
   "execution_count": 2,
   "metadata": {
    "collapsed": true,
    "slideshow": {
     "slide_type": "fragment"
    }
   },
   "outputs": [],
   "source": [
    "# Boring! The player can do that"
   ]
  },
  {
   "cell_type": "markdown",
   "metadata": {
    "slideshow": {
     "slide_type": "subslide"
    }
   },
   "source": [
    "### And that's it!"
   ]
  },
  {
   "cell_type": "code",
   "execution_count": null,
   "metadata": {
    "collapsed": false,
    "slideshow": {
     "slide_type": "fragment"
    }
   },
   "outputs": [],
   "source": [
    "#! usr/bin/env python\n",
    "\n",
    "from os import system as DO\n",
    "\n",
    "board=[[\" \" for i in range(3)] for i in range(3)]\n",
    "players=[\"X\",\"O\"]\n",
    "\n",
    "for i in range(9):\n",
    "    DO('clear')\n",
    "    print \"\\n-----\\n\".join([\"|\".join(j) for j in board])\n",
    "    x,y=[int(k)-1 for k in raw_input(\"Player %s >\"%players[i%2]).split(',')]\n",
    "    board[y][x]=players[i%2] if board[y][x]==\" \" else board[y][x]"
   ]
  },
  {
   "cell_type": "markdown",
   "metadata": {
    "collapsed": true,
    "slideshow": {
     "slide_type": "subslide"
    }
   },
   "source": [
    "###                                                      Demo?\n",
    "# 🔥😱🔧"
   ]
  },
  {
   "cell_type": "markdown",
   "metadata": {
    "slideshow": {
     "slide_type": "subslide"
    }
   },
   "source": [
    "### What did we learn?"
   ]
  },
  {
   "cell_type": "markdown",
   "metadata": {
    "slideshow": {
     "slide_type": "fragment"
    }
   },
   "source": [
    "* Need to define rules, parameters and conditions"
   ]
  },
  {
   "cell_type": "markdown",
   "metadata": {
    "slideshow": {
     "slide_type": "fragment"
    }
   },
   "source": [
    "* Preferably before we start coding"
   ]
  },
  {
   "cell_type": "markdown",
   "metadata": {
    "slideshow": {
     "slide_type": "fragment"
    }
   },
   "source": [
    "* Need to create a world, a human-readable representation of the world and a (consistent) way to interact with it"
   ]
  },
  {
   "cell_type": "markdown",
   "metadata": {
    "slideshow": {
     "slide_type": "fragment"
    }
   },
   "source": [
    "* Need to think about the loop\n",
    "\n",
    " * Give feedback to player\n",
    " * Receive his choice of interaction with the world\n",
    " * Process the interaction\n",
    " * Check the world compare against conditions"
   ]
  },
  {
   "cell_type": "markdown",
   "metadata": {
    "slideshow": {
     "slide_type": "fragment"
    }
   },
   "source": [
    "* In all games, lots of code will be there just to prevent the player from breaking things"
   ]
  },
  {
   "cell_type": "markdown",
   "metadata": {
    "slideshow": {
     "slide_type": "slide"
    }
   },
   "source": [
    "### Round 2\n",
    "Let's make something slightly more complex"
   ]
  },
  {
   "cell_type": "markdown",
   "metadata": {
    "slideshow": {
     "slide_type": "fragment"
    }
   },
   "source": [
    "[tetrees image]"
   ]
  },
  {
   "cell_type": "markdown",
   "metadata": {
    "slideshow": {
     "slide_type": "subslide"
    }
   },
   "source": [
    "### The challenges (I)"
   ]
  },
  {
   "cell_type": "markdown",
   "metadata": {
    "slideshow": {
     "slide_type": "fragment"
    }
   },
   "source": [
    "* The principles are the same"
   ]
  },
  {
   "cell_type": "markdown",
   "metadata": {
    "slideshow": {
     "slide_type": "fragment"
    }
   },
   "source": [
    "* World changes even without user interaction"
   ]
  },
  {
   "cell_type": "markdown",
   "metadata": {
    "slideshow": {
     "slide_type": "fragment"
    }
   },
   "source": [
    "* Need to capture non-blocking input"
   ]
  },
  {
   "cell_type": "markdown",
   "metadata": {
    "slideshow": {
     "slide_type": "subslide"
    }
   },
   "source": [
    "### StackOverflow copypaste that works:"
   ]
  },
  {
   "cell_type": "code",
   "execution_count": 3,
   "metadata": {
    "collapsed": true,
    "slideshow": {
     "slide_type": "fragment"
    }
   },
   "outputs": [],
   "source": [
    "def pressed():\n",
    "\n",
    "  def isData():\n",
    "    return select.select([sys.stdin], [], [], 0.01)==([sys.stdin], [], [])\n",
    "\n",
    "  c=\"\"\n",
    "  old_settings=termios.tcgetattr(sys.stdin)\n",
    "  try:\n",
    "    tty.setcbreak(sys.stdin.fileno())\n",
    "    if isData():\n",
    "      c=sys.stdin.read(1)\n",
    "  finally:\n",
    "    termios.tcsetattr(sys.stdin, termios.TCSADRAIN, old_settings)\n",
    "    return c"
   ]
  },
  {
   "cell_type": "markdown",
   "metadata": {
    "slideshow": {
     "slide_type": "subslide"
    }
   },
   "source": [
    "### The challenges (II)"
   ]
  },
  {
   "cell_type": "markdown",
   "metadata": {
    "slideshow": {
     "slide_type": "fragment"
    }
   },
   "source": [
    "* The speed must be independent from user interaction"
   ]
  },
  {
   "cell_type": "markdown",
   "metadata": {
    "slideshow": {
     "slide_type": "fragment"
    }
   },
   "source": [
    "* Also it has to be independent from computer speed or main loop cycles"
   ]
  },
  {
   "cell_type": "markdown",
   "metadata": {
    "slideshow": {
     "slide_type": "fragment"
    }
   },
   "source": [
    "* Need to update at a constant rate"
   ]
  },
  {
   "cell_type": "markdown",
   "metadata": {
    "slideshow": {
     "slide_type": "subslide"
    }
   },
   "source": [
    "### The solution"
   ]
  },
  {
   "cell_type": "markdown",
   "metadata": {
    "slideshow": {
     "slide_type": "fragment"
    }
   },
   "source": [
    "* We capture the input whenever the player presses a key"
   ]
  },
  {
   "cell_type": "markdown",
   "metadata": {
    "slideshow": {
     "slide_type": "fragment"
    }
   },
   "source": [
    "* We store it somewhere"
   ]
  },
  {
   "cell_type": "markdown",
   "metadata": {
    "slideshow": {
     "slide_type": "fragment"
    }
   },
   "source": [
    "* And only update the screen based on a real time counter"
   ]
  },
  {
   "cell_type": "code",
   "execution_count": 22,
   "metadata": {
    "collapsed": true,
    "slideshow": {
     "slide_type": "fragment"
    }
   },
   "outputs": [],
   "source": [
    "def loopmanage():\n",
    "\n",
    "  timem[\"timepool\"]=0 if timem[\"timepool\"]*1000>=300 else timem[\"timepool\"]+time.time()-timem[\"previoustime\"]\n",
    "  timem[\"previoustime\"]=time.time()\n",
    "  return not timem[\"timepool\"]"
   ]
  },
  {
   "cell_type": "markdown",
   "metadata": {
    "collapsed": true,
    "slideshow": {
     "slide_type": "subslide"
    }
   },
   "source": [
    "### Now, rinse and repeat :)"
   ]
  },
  {
   "cell_type": "markdown",
   "metadata": {
    "slideshow": {
     "slide_type": "subslide"
    }
   },
   "source": [
    "### We import what we need..."
   ]
  },
  {
   "cell_type": "code",
   "execution_count": 2,
   "metadata": {
    "collapsed": true,
    "slideshow": {
     "slide_type": "fragment"
    }
   },
   "outputs": [],
   "source": [
    "#! /usr/bin/env python\n",
    "\n",
    "import copy, os, random, select, sys, termios, time, tty"
   ]
  },
  {
   "cell_type": "markdown",
   "metadata": {
    "slideshow": {
     "slide_type": "subslide"
    }
   },
   "source": [
    "### Define our world..."
   ]
  },
  {
   "cell_type": "code",
   "execution_count": 4,
   "metadata": {
    "collapsed": true,
    "slideshow": {
     "slide_type": "fragment"
    }
   },
   "outputs": [],
   "source": [
    "world=[[\".\" for i in range(10)] for i in range(22)]\n",
    "pieces=[[\"#\",\"#\",\"#\",\"#\"],\n",
    "        [[\"#\",\"#\",\".\"],[\".\",\"#\",\"#\"]],\n",
    "        [[\".\",\"#\",\"#\"],[\"#\",\"#\",\".\"]],\n",
    "        [[\"#\",\".\",\".\"],[\"#\",\"#\",\"#\"]],\n",
    "        [[\".\",\".\",\"#\"],[\"#\",\"#\",\"#\"]],\n",
    "        [[\".\",\"#\",\".\"],[\"#\",\"#\",\"#\"]],\n",
    "        [[\"#\",\"#\"],[\"#\",\"#\"]]]"
   ]
  },
  {
   "cell_type": "markdown",
   "metadata": {
    "collapsed": true,
    "slideshow": {
     "slide_type": "subslide"
    }
   },
   "source": [
    "### Then the tools the player has to interact with it...\n",
    "(And some extras)"
   ]
  },
  {
   "cell_type": "code",
   "execution_count": 5,
   "metadata": {
    "collapsed": false,
    "slideshow": {
     "slide_type": "fragment"
    }
   },
   "outputs": [],
   "source": [
    "keys=[\"c\", \"z\", \"v\", \"x\", \"q\"]\n",
    "timem={\"timepool\":0,\"previoustime\":0}\n",
    "curpiece={\"piece\":copy.copy(random.choice(pieces)), \"coords\":[0,3]}\n",
    "score={1:0, 2:0, 3:0, 4:0, \"drops\":0}"
   ]
  },
  {
   "cell_type": "markdown",
   "metadata": {
    "collapsed": true,
    "slideshow": {
     "slide_type": "subslide"
    }
   },
   "source": [
    "### And create the loop"
   ]
  },
  {
   "cell_type": "code",
   "execution_count": 10,
   "metadata": {
    "collapsed": false,
    "slideshow": {
     "slide_type": "fragment"
    }
   },
   "outputs": [],
   "source": [
    "def mainloop():\n",
    "\n",
    "  tempkey=pressed()\n",
    "  try: lastkey=tempkey if tempkey in keys else lastkey\n",
    "  except: lastkey=\"\"\n",
    "  if lastkey==\"q\": gameover()\n",
    "\n",
    "  if loopmanage() or lastkey:\n",
    "\n",
    "    movepiece(lastkey)\n",
    "    output()\n",
    "\n",
    "if __name__==\"__main__\":\n",
    "  while 1:\n",
    "    mainloop()"
   ]
  },
  {
   "cell_type": "markdown",
   "metadata": {
    "slideshow": {
     "slide_type": "subslide"
    }
   },
   "source": [
    "### And once in the loop, we move the piece..."
   ]
  },
  {
   "cell_type": "code",
   "execution_count": 13,
   "metadata": {
    "collapsed": true,
    "slideshow": {
     "slide_type": "fragment"
    }
   },
   "outputs": [],
   "source": [
    "def movepiece(direction):\n",
    "\n",
    "  if direction==keys[0] or not timem[\"timepool\"]: \n",
    "    if curpiece[\"coords\"][0]+len(curpiece[\"piece\"])>=22 or collision(\"down\"):\n",
    "      merge()\n",
    "    else:\n",
    "      curpiece[\"coords\"][0]+=1\n",
    "      if direction==keys[0]: score[\"drops\"]+=1\n",
    "\n",
    "  if direction==keys[1] and curpiece[\"coords\"][1]-1>=0 and not collision(\"left\"): \n",
    "    curpiece[\"coords\"][1]-=1\n",
    "\n",
    "  if direction==keys[2] and curpiece[\"coords\"][1]+1+len(curpiece[\"piece\"][0])<=10 and not collision(\"right\"): \n",
    "    curpiece[\"coords\"][1]+=1\n",
    "\n",
    "  if direction==keys[3]: curpiece[\"piece\"]=rotate()"
   ]
  },
  {
   "cell_type": "markdown",
   "metadata": {
    "slideshow": {
     "slide_type": "subslide"
    }
   },
   "source": [
    "### (Detecting collisions) (Boring part)"
   ]
  },
  {
   "cell_type": "code",
   "execution_count": 14,
   "metadata": {
    "collapsed": true,
    "slideshow": {
     "slide_type": "fragment"
    }
   },
   "outputs": [],
   "source": [
    "def collision(direction):\n",
    "\n",
    "  piece=curpiece[\"piece\"]\n",
    "  coords=curpiece[\"coords\"]\n",
    "\n",
    "  if direction==\"down\":\n",
    "    for numi, i in enumerate(piece[-1]):\n",
    "      try:\n",
    "        if i==\"#\" and world[coords[0]+len(piece)][coords[1]+numi]==\"#\": return 1\n",
    "        if piece[-2][numi]==\"#\" and world[coords[0]+len(piece)-1][coords[1]+numi]==\"#\": return 1\n",
    "        if piece[-3][numi]==\"#\" and world[coords[0]+len(piece)-2][coords[1]+numi]==\"#\": return 1\n",
    "      except IndexError: pass\n",
    "\n",
    "  elif direction==\"left\":\n",
    "    for numi, i in enumerate(piece):\n",
    "      try:\n",
    "        if i[0]==\"#\" and world[coords[0]+numi][coords[1]-1]==\"#\": return 1\n",
    "        if i[1]==\"#\" and world[coords[0]+numi][coords[1]]==\"#\": return 1\n",
    "        if i[2]==\"#\" and world[coords[0]+numi][coords[1]+1]==\"#\": return 1\n",
    "      except IndexError: pass\n",
    "\n",
    "  elif direction==\"right\":\n",
    "    for numi, i in enumerate(piece):\n",
    "      try:\n",
    "        if i[-1]==\"#\" and world[coords[0]+numi][coords[1]+len(piece[0])]==\"#\": return 1\n",
    "        if i[-2]==\"#\" and world[coords[0]+numi][coords[1]+len(piece[0])-1]==\"#\": return 1\n",
    "        if i[-3]==\"#\" and world[coords[0]+numi][coords[1]+len(piece[0])-2]==\"#\": return 1\n",
    "      except IndexError: pass\n",
    "\n",
    "  return 0"
   ]
  },
  {
   "cell_type": "markdown",
   "metadata": {
    "slideshow": {
     "slide_type": "subslide"
    }
   },
   "source": [
    "### ...And merging the piece with the world once it can't go further..."
   ]
  },
  {
   "cell_type": "code",
   "execution_count": 24,
   "metadata": {
    "collapsed": true,
    "slideshow": {
     "slide_type": "fragment"
    }
   },
   "outputs": [],
   "source": [
    "def merge():\n",
    "\n",
    "  global world    #Shhhh...\n",
    "  global curpiece #No pain now\n",
    "\n",
    "  for numi, i in enumerate(curpiece[\"piece\"]):\n",
    "    for numj, j in enumerate(i):\n",
    "      if j==\"#\":\n",
    "        world[numi+curpiece[\"coords\"][0]][numj+curpiece[\"coords\"][1]]=\"#\"\n",
    "  curpiece={\"piece\":copy.copy(random.choice(pieces)), \"coords\":[0,3]}\n",
    "  if collision(\"down\"): gameover()\n",
    "\n",
    "  processlines()"
   ]
  },
  {
   "cell_type": "markdown",
   "metadata": {
    "slideshow": {
     "slide_type": "subslide"
    }
   },
   "source": [
    "### ...Processing the world to remove lines later."
   ]
  },
  {
   "cell_type": "code",
   "execution_count": 16,
   "metadata": {
    "collapsed": true,
    "slideshow": {
     "slide_type": "fragment"
    }
   },
   "outputs": [],
   "source": [
    "def processlines():\n",
    "\n",
    "  global world\n",
    "\n",
    "  world=[i for i in world if not all(j==\"#\" for j in i)]\n",
    "  removed=22-len(world)\n",
    "  world=[[\".\" for i in range(10)] for i in range(removed)]+world\n",
    "  if removed: score[removed]+=1"
   ]
  },
  {
   "cell_type": "markdown",
   "metadata": {
    "slideshow": {
     "slide_type": "subslide"
    }
   },
   "source": [
    "### Oh, and rotating the piece when the proper key is pressed"
   ]
  },
  {
   "cell_type": "code",
   "execution_count": 17,
   "metadata": {
    "collapsed": true,
    "slideshow": {
     "slide_type": "fragment"
    }
   },
   "outputs": [],
   "source": [
    "def rotate():\n",
    "\n",
    "  temp=[[] for i in curpiece[\"piece\"][0]]\n",
    "  for i in curpiece[\"piece\"]:\n",
    "    for numj,j in enumerate(i):\n",
    "      temp[numj].append(j)\n",
    "  temp=[i[::-1] for i in temp]\n",
    "  return temp"
   ]
  },
  {
   "cell_type": "markdown",
   "metadata": {
    "slideshow": {
     "slide_type": "subslide"
    }
   },
   "source": [
    "### And ending the game if the new piece is already in contact with something"
   ]
  },
  {
   "cell_type": "code",
   "execution_count": 18,
   "metadata": {
    "collapsed": true,
    "slideshow": {
     "slide_type": "fragment"
    }
   },
   "outputs": [],
   "source": [
    "def gameover():\n",
    "\n",
    "  os.system('clear')\n",
    "  print \"GAME OVER\"\n",
    "  print \"\\n1: %ix10: %i\"%(score[1],score[1]*10)\n",
    "  print \"2: %ix50: %i\"%(score[2],score[2]*50)\n",
    "  print \"3: %ix500: %i\"%(score[3],score[3]*500)\n",
    "  print \"tetreeses: %ix1337: %i\"%(score[4],score[4]*1337)\n",
    "  print \"drops: %i\"%(score[\"drops\"])\n",
    "  print \"\\nTotal Score: %i\"%(score[\"drops\"]+score[1]*10+score[2]*50+score[3]*500+score[4]*1337)\n",
    "  exit()"
   ]
  },
  {
   "cell_type": "markdown",
   "metadata": {
    "slideshow": {
     "slide_type": "subslide"
    }
   },
   "source": [
    "### And after that, we show the player the new status of the world"
   ]
  },
  {
   "cell_type": "code",
   "execution_count": 21,
   "metadata": {
    "collapsed": true,
    "slideshow": {
     "slide_type": "fragment"
    }
   },
   "outputs": [],
   "source": [
    "def output():\n",
    "\n",
    "  os.system('clear')\n",
    "  tempworld=copy.deepcopy(world)\n",
    "\n",
    "  for numi, i in enumerate(curpiece[\"piece\"]):\n",
    "    for numj, j in enumerate(i):\n",
    "      if j==\"#\":\n",
    "        tempworld[numi+curpiece[\"coords\"][0]][numj+curpiece[\"coords\"][1]]=j \n",
    "\n",
    "  for i in tempworld: print \" \".join(i)\n",
    "  print \"score: %i\"%(score[\"drops\"]*2+score[1]*10+score[2]*50+score[3]*500+score[4]*1337)"
   ]
  },
  {
   "cell_type": "markdown",
   "metadata": {
    "slideshow": {
     "slide_type": "subslide"
    }
   },
   "source": [
    "### ...And repeat until the game is over or the player quits"
   ]
  },
  {
   "cell_type": "markdown",
   "metadata": {
    "slideshow": {
     "slide_type": "subslide"
    }
   },
   "source": [
    "# Demo?\n",
    "\n",
    "# 🔥🔥🔥😱 \n",
    "# 🔧🔥😱😱\n",
    "# 🔧🔧🔧😱\n"
   ]
  },
  {
   "cell_type": "markdown",
   "metadata": {
    "slideshow": {
     "slide_type": "slide"
    }
   },
   "source": [
    "### Extras (Workshop/Dojo/etc)"
   ]
  },
  {
   "cell_type": "markdown",
   "metadata": {
    "slideshow": {
     "slide_type": "subslide"
    }
   },
   "source": [
    "### Do not limit yourself to cloning games. Add your own rules!"
   ]
  },
  {
   "cell_type": "markdown",
   "metadata": {
    "slideshow": {
     "slide_type": "fragment"
    }
   },
   "source": [
    "* Implement levels and speed/score increases"
   ]
  },
  {
   "cell_type": "markdown",
   "metadata": {
    "slideshow": {
     "slide_type": "fragment"
    }
   },
   "source": [
    "* Make it multiplayer! (Each player -> 1 piece)"
   ]
  },
  {
   "cell_type": "markdown",
   "metadata": {
    "slideshow": {
     "slide_type": "fragment"
    }
   },
   "source": [
    "* Add a second plane. Make it 3D!"
   ]
  },
  {
   "cell_type": "markdown",
   "metadata": {
    "slideshow": {
     "slide_type": "fragment"
    }
   },
   "source": [
    "\n",
    "* Add weird pieces with special skills"
   ]
  },
  {
   "cell_type": "markdown",
   "metadata": {
    "slideshow": {
     "slide_type": "fragment"
    }
   },
   "source": [
    "* Create a new game mode"
   ]
  },
  {
   "cell_type": "markdown",
   "metadata": {
    "slideshow": {
     "slide_type": "fragment"
    }
   },
   "source": [
    "* Give extra points for removing all the lines"
   ]
  },
  {
   "cell_type": "markdown",
   "metadata": {
    "slideshow": {
     "slide_type": "fragment"
    }
   },
   "source": [
    "* Add power-ups and special moves"
   ]
  },
  {
   "cell_type": "markdown",
   "metadata": {
    "slideshow": {
     "slide_type": "subslide"
    }
   },
   "source": [
    "### Other games you can play with"
   ]
  },
  {
   "cell_type": "markdown",
   "metadata": {
    "slideshow": {
     "slide_type": "fragment"
    }
   },
   "source": [
    "* Moon lander"
   ]
  },
  {
   "cell_type": "markdown",
   "metadata": {
    "slideshow": {
     "slide_type": "fragment"
    }
   },
   "source": [
    "* Space Invaders"
   ]
  },
  {
   "cell_type": "markdown",
   "metadata": {
    "slideshow": {
     "slide_type": "fragment"
    }
   },
   "source": [
    "* Mario bros"
   ]
  },
  {
   "cell_type": "markdown",
   "metadata": {
    "slideshow": {
     "slide_type": "fragment"
    }
   },
   "source": [
    "* Asteroids"
   ]
  },
  {
   "cell_type": "markdown",
   "metadata": {
    "slideshow": {
     "slide_type": "fragment"
    }
   },
   "source": [
    "* Snake"
   ]
  },
  {
   "cell_type": "markdown",
   "metadata": {
    "slideshow": {
     "slide_type": "fragment"
    }
   },
   "source": [
    "* Any board game you like"
   ]
  },
  {
   "cell_type": "markdown",
   "metadata": {
    "slideshow": {
     "slide_type": "fragment"
    }
   },
   "source": [
    "* Other console games (Nethack, Gearhead, DF)"
   ]
  },
  {
   "cell_type": "markdown",
   "metadata": {
    "slideshow": {
     "slide_type": "fragment"
    }
   },
   "source": [
    "* Rythm games"
   ]
  },
  {
   "cell_type": "markdown",
   "metadata": {
    "slideshow": {
     "slide_type": "slide"
    }
   },
   "source": [
    "# How to (actually) make games with python\n",
    "\n",
    "# Hope you learned something! :D (Q/A)\n",
    "\n",
    "### Yuri Numerov (Achifaifa)\n",
    "### FOSDEM'16\n",
    "\n",
    "### [achi.se](http://achi.se) / [@Achifaifa](https://twitter.com/achifaifa) / [achi (a) hush.ai](http://argh.wargh)"
   ]
  }
 ],
 "metadata": {
  "celltoolbar": "Slideshow",
  "kernelspec": {
   "display_name": "Python 2",
   "language": "python",
   "name": "python2"
  },
  "language_info": {
   "codemirror_mode": {
    "name": "ipython",
    "version": 2
   },
   "file_extension": ".py",
   "mimetype": "text/x-python",
   "name": "python",
   "nbconvert_exporter": "python",
   "pygments_lexer": "ipython2",
   "version": "2.7.11"
  }
 },
 "nbformat": 4,
 "nbformat_minor": 0
}
