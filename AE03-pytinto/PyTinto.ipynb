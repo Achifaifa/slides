{
 "cells": [
  {
   "cell_type": "markdown",
   "metadata": {
    "slideshow": {
     "slide_type": "slide"
    }
   },
   "source": [
    "# El milagro de PyTinto\n",
    "\n",
    "### Dando uso a tus conocimientos de programación\n",
    "\n",
    "![](./img/poster.png)\n",
    "\n",
    "#### Yuri Numerov ([@Achifaifa](https://twitter.com/achifaifa), [achi (a) hush (.) ai ](http://bla))\n",
    "\n",
    "Diapositivas/Código en [code.achi.se/slides]()"
   ]
  },
  {
   "cell_type": "markdown",
   "metadata": {
    "slideshow": {
     "slide_type": "slide"
    }
   },
   "source": [
    "### Spam pre-charla\n",
    "\n",
    "*logo gamaker*"
   ]
  },
  {
   "cell_type": "markdown",
   "metadata": {
    "slideshow": {
     "slide_type": "slide"
    }
   },
   "source": [
    "### Sobre mí"
   ]
  },
  {
   "cell_type": "markdown",
   "metadata": {
    "slideshow": {
     "slide_type": "subslide"
    }
   },
   "source": [
    "¯\\\\_(ツ)_/¯"
   ]
  },
  {
   "cell_type": "markdown",
   "metadata": {
    "slideshow": {
     "slide_type": "slide"
    }
   },
   "source": [
    "### ¿Y esta charla?"
   ]
  },
  {
   "cell_type": "markdown",
   "metadata": {
    "slideshow": {
     "slide_type": "fragment"
    }
   },
   "source": [
    "* Hay un *pequeño* salto entre la 'programación básica' y la programación a secas"
   ]
  },
  {
   "cell_type": "markdown",
   "metadata": {
    "slideshow": {
     "slide_type": "fragment"
    }
   },
   "source": [
    "* Al empezar es difícil saber cómo utilizar un lenguaje de programación para *algo*"
   ]
  },
  {
   "cell_type": "markdown",
   "metadata": {
    "slideshow": {
     "slide_type": "fragment"
    }
   },
   "source": [
    "* La gente se frustra y lo deja porque no saben qué hacer con ello"
   ]
  },
  {
   "cell_type": "markdown",
   "metadata": {
    "slideshow": {
     "slide_type": "fragment"
    }
   },
   "source": [
    "Vamos a intentar hacer ese salto más facil!"
   ]
  },
  {
   "cell_type": "markdown",
   "metadata": {
    "slideshow": {
     "slide_type": "slide"
    }
   },
   "source": [
    "### Programa típico de ejemplo"
   ]
  },
  {
   "cell_type": "markdown",
   "metadata": {
    "slideshow": {
     "slide_type": "fragment"
    }
   },
   "source": [
    "*Escribe un programa que devuelva \"Fizz\" si un número es divisible entre 3, \"Buzz\" si es divisible entre 5, y \"FizzBuzz\" si es divisible entre 3 y 5 para los primeros 20 números enteros*"
   ]
  },
  {
   "cell_type": "code",
   "execution_count": 44,
   "metadata": {
    "collapsed": false,
    "slideshow": {
     "slide_type": "fragment"
    }
   },
   "outputs": [
    {
     "name": "stdout",
     "output_type": "stream",
     "text": [
      "1\n",
      "2\n",
      "Fizz\n",
      "4\n",
      "Buzz\n",
      "Fizz\n",
      "7\n",
      "8\n",
      "Fizz\n",
      "Buzz\n",
      "11\n",
      "Fizz\n",
      "13\n",
      "14\n",
      "FizzBuzz\n",
      "16\n",
      "17\n",
      "Fizz\n",
      "19\n",
      "Buzz\n"
     ]
    }
   ],
   "source": [
    "for i in range(1,21):\n",
    "    if i%3==0 and i%5==0: print \"FizzBuzz\"\n",
    "    elif i%3==0: print \"Fizz\"\n",
    "    elif i%5==0: print \"Buzz\"\n",
    "    else: print i"
   ]
  },
  {
   "cell_type": "code",
   "execution_count": 45,
   "metadata": {
    "collapsed": false,
    "slideshow": {
     "slide_type": "fragment"
    }
   },
   "outputs": [
    {
     "name": "stdout",
     "output_type": "stream",
     "text": [
      "1\n",
      "2\n",
      "Fizz\n",
      "4\n",
      "Buzz\n",
      "Fizz\n",
      "7\n",
      "8\n",
      "Fizz\n",
      "Buzz\n",
      "11\n",
      "Fizz\n",
      "13\n",
      "14\n",
      "Fizzbuzz\n",
      "16\n",
      "17\n",
      "Fizz\n",
      "19\n",
      "Buzz\n"
     ]
    }
   ],
   "source": [
    "# Versión alternativa\n",
    "\n",
    "for i in range(1,21):\n",
    "    print \"Fizzbuzz\" if i%3==0 and i%5==0 else \"Fizz\" if i%3==0 else \"Buzz\" if i%5==0 else i"
   ]
  },
  {
   "cell_type": "code",
   "execution_count": 46,
   "metadata": {
    "collapsed": false,
    "slideshow": {
     "slide_type": "fragment"
    }
   },
   "outputs": [
    {
     "name": "stdout",
     "output_type": "stream",
     "text": [
      "1\n",
      "2\n",
      "Fizz\n",
      "4\n",
      "Buzz\n",
      "Fizz\n",
      "7\n",
      "8\n",
      "Fizz\n",
      "Buzz\n",
      "11\n",
      "Fizz\n",
      "13\n",
      "14\n",
      "Fizzbuzz\n",
      "16\n",
      "17\n",
      "Fizz\n",
      "19\n",
      "Buzz\n"
     ]
    }
   ],
   "source": [
    "# Otra manera de hacerlo ;)\n",
    "\n",
    "print \"\\n\".join([\"Fizzbuzz\" if i%3==0 and i%5==0 else \"Fizz\" if i%3==0 else \"Buzz\" if i%5==0 else str(i) for i in range(1,21)])"
   ]
  },
  {
   "cell_type": "markdown",
   "metadata": {
    "slideshow": {
     "slide_type": "subslide"
    }
   },
   "source": [
    "### La pregunta es:"
   ]
  },
  {
   "cell_type": "markdown",
   "metadata": {
    "slideshow": {
     "slide_type": "fragment"
    }
   },
   "source": [
    "# \"*¿Y esto para qué sirve?*\""
   ]
  },
  {
   "cell_type": "markdown",
   "metadata": {
    "slideshow": {
     "slide_type": "fragment"
    }
   },
   "source": [
    "Estos programas son útiles para aprender la lógica y la sintaxis de la programación, pero nada más"
   ]
  },
  {
   "cell_type": "markdown",
   "metadata": {
    "slideshow": {
     "slide_type": "fragment"
    }
   },
   "source": [
    "Vamos a ver algunos ejemplos de programas sencillos y útiles!"
   ]
  },
  {
   "cell_type": "markdown",
   "metadata": {
    "slideshow": {
     "slide_type": "subslide"
    }
   },
   "source": [
    "### Ejemplo 1: La saga de Jack Sparrow"
   ]
  },
  {
   "cell_type": "markdown",
   "metadata": {
    "slideshow": {
     "slide_type": "fragment"
    }
   },
   "source": [
    "Nos hemos bajado una serie de algún sitio. Son 10 temporadas de 50 capítulos. Todas están en la misma carpeta y tienen este aspecto:\n",
    "\n",
    "`Jack_Sparrow_Saga_07x27_[Ripped_by_dude][15288][92707].avi`"
   ]
  },
  {
   "cell_type": "markdown",
   "metadata": {
    "slideshow": {
     "slide_type": "fragment"
    }
   },
   "source": [
    "Queremos ordenar la serie por temporadas y quitar toda la porquería del nombre de archivo"
   ]
  },
  {
   "cell_type": "markdown",
   "metadata": {
    "slideshow": {
     "slide_type": "fragment"
    }
   },
   "source": [
    "#### Pensando al revés"
   ]
  },
  {
   "cell_type": "markdown",
   "metadata": {
    "slideshow": {
     "slide_type": "fragment"
    }
   },
   "source": [
    "A veces, pensar de menos a más (Aquí pongo un `if`, aquí un `for`) no soluciona el problema y nos distrae de lo que quermos hacer"
   ]
  },
  {
   "cell_type": "markdown",
   "metadata": {
    "slideshow": {
     "slide_type": "fragment"
    }
   },
   "source": [
    "¿Y si pensamos al revés?"
   ]
  },
  {
   "cell_type": "markdown",
   "metadata": {
    "slideshow": {
     "slide_type": "fragment"
    }
   },
   "source": [
    "#### Vamos a plantear y dividir el problema"
   ]
  },
  {
   "cell_type": "markdown",
   "metadata": {
    "slideshow": {
     "slide_type": "fragment"
    }
   },
   "source": [
    "1. `Ordenar serie y quitar porquería`"
   ]
  },
  {
   "cell_type": "markdown",
   "metadata": {
    "slideshow": {
     "slide_type": "fragment"
    }
   },
   "source": [
    "1. `Quitar porquería`\n",
    "1. `Ordenar por temporadas`"
   ]
  },
  {
   "cell_type": "markdown",
   "metadata": {
    "slideshow": {
     "slide_type": "fragment"
    }
   },
   "source": [
    "1. `Cambiar guiones bajos por espacios`\n",
    "1. `Quitar información supérflua entre corchetes`\n",
    "1. `Crear una carpeta para cada temporada`\n",
    "1. `Mover cada capítulo a la carpeta correspondiente`"
   ]
  },
  {
   "cell_type": "markdown",
   "metadata": {
    "slideshow": {
     "slide_type": "fragment"
    }
   },
   "source": [
    "#### ¡Ya está! Sólo queda escribir código."
   ]
  },
  {
   "cell_type": "markdown",
   "metadata": {
    "slideshow": {
     "slide_type": "fragment"
    }
   },
   "source": [
    "* Podemos cambiar los guiones y quitar el resto de una tacada"
   ]
  },
  {
   "cell_type": "code",
   "execution_count": 47,
   "metadata": {
    "collapsed": false,
    "slideshow": {
     "slide_type": "fragment"
    }
   },
   "outputs": [
    {
     "name": "stdout",
     "output_type": "stream",
     "text": [
      "Nombre_de_serie_[Potatosubs].avi\n",
      "['Nombre', 'de', 'serie', '[Potatosubs].avi']\n",
      "['Nombre', 'de', 'serie']\n",
      "Nombre de serie\n",
      "Nombre de serie.avi\n"
     ]
    }
   ],
   "source": [
    "cadena=\"Nombre_de_serie_[Potatosubs].avi\"\n",
    "print cadena\n",
    "cadena=cadena.split(\"_\")\n",
    "print cadena\n",
    "cadena=cadena[:3]\n",
    "print cadena\n",
    "cadena=\" \".join(cadena)\n",
    "print cadena\n",
    "cadena=cadena+\".avi\"\n",
    "print cadena"
   ]
  },
  {
   "cell_type": "markdown",
   "metadata": {
    "slideshow": {
     "slide_type": "fragment"
    }
   },
   "source": [
    "* Aunque siempre hay más de una manera!"
   ]
  },
  {
   "cell_type": "code",
   "execution_count": 34,
   "metadata": {
    "collapsed": false,
    "slideshow": {
     "slide_type": "fragment"
    }
   },
   "outputs": [
    {
     "name": "stdout",
     "output_type": "stream",
     "text": [
      "Nombre_de_serie_[Potatosubs].avi\n",
      "Nombre_de_serie.avi\n",
      "Nombre de serie.avi\n"
     ]
    }
   ],
   "source": [
    "cadena=\"Nombre_de_serie_[Potatosubs].avi\"\n",
    "print cadena\n",
    "cadena=cadena[:15]+cadena[-4:]\n",
    "print cadena\n",
    "cadena=cadena.replace(\"_\",\" \")\n",
    "print cadena"
   ]
  },
  {
   "cell_type": "markdown",
   "metadata": {
    "slideshow": {
     "slide_type": "fragment"
    }
   },
   "source": [
    "#### Muy bonito. ¿Y crear carpetas? ¿Y meter los nombres de archivo en variables?"
   ]
  },
  {
   "cell_type": "markdown",
   "metadata": {
    "slideshow": {
     "slide_type": "fragment"
    }
   },
   "source": [
    "No necesitamos implementar eso. El módulo `os` en python tiene muchas utilidades que podemos usar"
   ]
  },
  {
   "cell_type": "code",
   "execution_count": 43,
   "metadata": {
    "collapsed": false,
    "slideshow": {
     "slide_type": "fragment"
    }
   },
   "outputs": [],
   "source": [
    "import os\n",
    "os.chdir(\"/home/achifaifa\") #<- Cambiar de carpeta\n",
    "os.listdir(\"./\")            #<- Listar cosas en la carpeta\n",
    "os.mkdir(\"bla\")             #<- Crear carpeta\n",
    "os.rename(\"bla\", \"test\")    #<- Renombrar/mover carpeta o archivo"
   ]
  },
  {
   "cell_type": "markdown",
   "metadata": {
    "slideshow": {
     "slide_type": "fragment"
    }
   },
   "source": [
    "Una vez conseguida la información con `os.listdir()`, podemos recorrer la lista de archivos con un `for`"
   ]
  },
  {
   "cell_type": "markdown",
   "metadata": {
    "slideshow": {
     "slide_type": "fragment"
    }
   },
   "source": [
    "Primero vamos a crear las carpetas"
   ]
  },
  {
   "cell_type": "code",
   "execution_count": 48,
   "metadata": {
    "collapsed": true,
    "slideshow": {
     "slide_type": "fragment"
    }
   },
   "outputs": [],
   "source": [
    "for i in range(1,11):\n",
    "    os.mkdir(\"Season %02i\"%i)"
   ]
  },
  {
   "cell_type": "markdown",
   "metadata": {
    "slideshow": {
     "slide_type": "subslide"
    }
   },
   "source": [
    "Ya está. No tenemos más que recorrer los números del 1 al 10 y crear una carpeta con ese número"
   ]
  },
  {
   "cell_type": "markdown",
   "metadata": {
    "slideshow": {
     "slide_type": "subslide"
    }
   },
   "source": [
    "Ahora vamos a recorrer la lista de archivos:"
   ]
  },
  {
   "cell_type": "code",
   "execution_count": 59,
   "metadata": {
    "collapsed": false,
    "slideshow": {
     "slide_type": "subslide"
    }
   },
   "outputs": [],
   "source": [
    "for i in os.listdir(\".\"):\n",
    "    if i.endswith(\".avi\"):\n",
    "        pass"
   ]
  },
  {
   "cell_type": "markdown",
   "metadata": {
    "slideshow": {
     "slide_type": "subslide"
    }
   },
   "source": [
    "`os.listdir()` devuelve una lista que podemos recorrer directamente. "
   ]
  },
  {
   "cell_type": "markdown",
   "metadata": {
    "slideshow": {
     "slide_type": "subslide"
    }
   },
   "source": [
    "Para evitar sustos, vamos a trababjar sólo con los archivos que acaben en \"`.avi`\""
   ]
  },
  {
   "cell_type": "markdown",
   "metadata": {
    "slideshow": {
     "slide_type": "subslide"
    }
   },
   "source": [
    "Para cada archivo que queramos modificar, no tenemos más que aplicar lo de antes. Ya tenemos el nombre del archivo en `i`"
   ]
  },
  {
   "cell_type": "code",
   "execution_count": 61,
   "metadata": {
    "collapsed": true,
    "slideshow": {
     "slide_type": "subslide"
    }
   },
   "outputs": [],
   "source": [
    "for i in os.listdir(\".\"): \n",
    "    if i.endswith(\".avi\"):\n",
    "        new=\" \".join(i.split(\"_\")[:4])+\".avi\"  #<- Definimos el nuevo nombre del archivo\n",
    "        season=i.split(\"_\")[3][:2]             #<- Sacamos la temporada del nombre\n",
    "        os.rename(i,\"Season %s/\"%season+new)   #<- Movemos el archivo a la carpeta con nuevo nomre"
   ]
  },
  {
   "cell_type": "markdown",
   "metadata": {
    "slideshow": {
     "slide_type": "subslide"
    }
   },
   "source": [
    "Ya hemos recorrido y modificado todos los archivos, sin usar nada más que un for, un if y funciones disponibles por defecto en el lenguaje"
   ]
  },
  {
   "cell_type": "markdown",
   "metadata": {
    "slideshow": {
     "slide_type": "subslide"
    }
   },
   "source": [
    "#### Vamos a verlo en acción"
   ]
  },
  {
   "cell_type": "markdown",
   "metadata": {
    "slideshow": {
     "slide_type": "subslide"
    }
   },
   "source": [
    "### Ejemplo 2:"
   ]
  },
  {
   "cell_type": "markdown",
   "metadata": {
    "slideshow": {
     "slide_type": "subslide"
    }
   },
   "source": [
    "### Ejemplo 3:"
   ]
  },
  {
   "cell_type": "markdown",
   "metadata": {
    "slideshow": {
     "slide_type": "subslide"
    }
   },
   "source": [
    "### Ejemplo 4:"
   ]
  },
  {
   "cell_type": "markdown",
   "metadata": {
    "slideshow": {
     "slide_type": "subslide"
    }
   },
   "source": [
    "### Conclusiones"
   ]
  },
  {
   "cell_type": "markdown",
   "metadata": {
    "slideshow": {
     "slide_type": "subslide"
    }
   },
   "source": [
    "*despedida*"
   ]
  }
 ],
 "metadata": {
  "celltoolbar": "Slideshow",
  "kernelspec": {
   "display_name": "Python 2",
   "language": "python",
   "name": "python2"
  },
  "language_info": {
   "codemirror_mode": {
    "name": "ipython",
    "version": 2
   },
   "file_extension": ".py",
   "mimetype": "text/x-python",
   "name": "python",
   "nbconvert_exporter": "python",
   "pygments_lexer": "ipython2",
   "version": "2.7.12+"
  }
 },
 "nbformat": 4,
 "nbformat_minor": 0
}
