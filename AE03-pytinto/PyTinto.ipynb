{
 "cells": [
  {
   "cell_type": "markdown",
   "metadata": {
    "slideshow": {
     "slide_type": "slide"
    }
   },
   "source": [
    "# El milagro de PyTinto\n",
    "\n",
    "### Dando uso a tus conocimientos de programación\n",
    "\n",
    "![](./img/poster.png)\n",
    "\n",
    "#### Yuri Numerov ([@Achifaifa](https://twitter.com/achifaifa), [achi (a) hush (.) ai ](http://bla))\n",
    "\n",
    "Diapositivas/Código en [code.achi.se/slides]()"
   ]
  },
  {
   "cell_type": "markdown",
   "metadata": {
    "slideshow": {
     "slide_type": "slide"
    }
   },
   "source": [
    "### Spam pre-charla\n",
    "\n",
    "![](./img/logo-gamaker.png)"
   ]
  },
  {
   "cell_type": "markdown",
   "metadata": {
    "slideshow": {
     "slide_type": "slide"
    }
   },
   "source": [
    "### Sobre mí"
   ]
  },
  {
   "cell_type": "markdown",
   "metadata": {
    "slideshow": {
     "slide_type": "subslide"
    }
   },
   "source": [
    "¯\\\\_(ツ)_/¯"
   ]
  },
  {
   "cell_type": "markdown",
   "metadata": {
    "slideshow": {
     "slide_type": "slide"
    }
   },
   "source": [
    "### ¿Y esta charla?"
   ]
  },
  {
   "cell_type": "markdown",
   "metadata": {
    "slideshow": {
     "slide_type": "fragment"
    }
   },
   "source": [
    "* Hay un *pequeño* salto entre la 'programación básica' y la programación a secas"
   ]
  },
  {
   "cell_type": "markdown",
   "metadata": {
    "slideshow": {
     "slide_type": "fragment"
    }
   },
   "source": [
    "* Al empezar es difícil saber cómo utilizar un lenguaje de programación para *algo*"
   ]
  },
  {
   "cell_type": "markdown",
   "metadata": {
    "slideshow": {
     "slide_type": "fragment"
    }
   },
   "source": [
    "* La gente se frustra y lo deja porque no saben qué hacer con ello"
   ]
  },
  {
   "cell_type": "markdown",
   "metadata": {
    "slideshow": {
     "slide_type": "fragment"
    }
   },
   "source": [
    "Vamos a intentar hacer ese salto más facil!"
   ]
  },
  {
   "cell_type": "markdown",
   "metadata": {
    "slideshow": {
     "slide_type": "slide"
    }
   },
   "source": [
    "### Programa típico de ejemplo"
   ]
  },
  {
   "cell_type": "markdown",
   "metadata": {
    "slideshow": {
     "slide_type": "fragment"
    }
   },
   "source": [
    "*Escribe un programa que devuelva \"Fizz\" si un número es divisible entre 3, \"Buzz\" si es divisible entre 5, y \"FizzBuzz\" si es divisible entre 3 y 5 para los primeros 20 números enteros*"
   ]
  },
  {
   "cell_type": "code",
   "execution_count": 44,
   "metadata": {
    "collapsed": false,
    "slideshow": {
     "slide_type": "fragment"
    }
   },
   "outputs": [
    {
     "name": "stdout",
     "output_type": "stream",
     "text": [
      "1\n",
      "2\n",
      "Fizz\n",
      "4\n",
      "Buzz\n",
      "Fizz\n",
      "7\n",
      "8\n",
      "Fizz\n",
      "Buzz\n",
      "11\n",
      "Fizz\n",
      "13\n",
      "14\n",
      "FizzBuzz\n",
      "16\n",
      "17\n",
      "Fizz\n",
      "19\n",
      "Buzz\n"
     ]
    }
   ],
   "source": [
    "for i in range(1,21):\n",
    "    if i%3==0 and i%5==0: print \"FizzBuzz\"\n",
    "    elif i%3==0: print \"Fizz\"\n",
    "    elif i%5==0: print \"Buzz\"\n",
    "    else: print i"
   ]
  },
  {
   "cell_type": "code",
   "execution_count": 45,
   "metadata": {
    "collapsed": false,
    "slideshow": {
     "slide_type": "subslide"
    }
   },
   "outputs": [
    {
     "name": "stdout",
     "output_type": "stream",
     "text": [
      "1\n",
      "2\n",
      "Fizz\n",
      "4\n",
      "Buzz\n",
      "Fizz\n",
      "7\n",
      "8\n",
      "Fizz\n",
      "Buzz\n",
      "11\n",
      "Fizz\n",
      "13\n",
      "14\n",
      "Fizzbuzz\n",
      "16\n",
      "17\n",
      "Fizz\n",
      "19\n",
      "Buzz\n"
     ]
    }
   ],
   "source": [
    "# Versión alternativa\n",
    "\n",
    "for i in range(1,21):\n",
    "    print \"Fizzbuzz\" if i%3==0 and i%5==0 else \"Fizz\" if i%3==0 else \"Buzz\" if i%5==0 else i"
   ]
  },
  {
   "cell_type": "code",
   "execution_count": 46,
   "metadata": {
    "collapsed": false,
    "slideshow": {
     "slide_type": "subslide"
    }
   },
   "outputs": [
    {
     "name": "stdout",
     "output_type": "stream",
     "text": [
      "1\n",
      "2\n",
      "Fizz\n",
      "4\n",
      "Buzz\n",
      "Fizz\n",
      "7\n",
      "8\n",
      "Fizz\n",
      "Buzz\n",
      "11\n",
      "Fizz\n",
      "13\n",
      "14\n",
      "Fizzbuzz\n",
      "16\n",
      "17\n",
      "Fizz\n",
      "19\n",
      "Buzz\n"
     ]
    }
   ],
   "source": [
    "# Otra manera de hacerlo ;)\n",
    "\n",
    "print \"\\n\".join([\"Fizzbuzz\" if i%3==0 and i%5==0 else \"Fizz\" if i%3==0 else \"Buzz\" if i%5==0 else str(i) for i in range(1,21)])"
   ]
  },
  {
   "cell_type": "markdown",
   "metadata": {
    "slideshow": {
     "slide_type": "subslide"
    }
   },
   "source": [
    "### La pregunta es:"
   ]
  },
  {
   "cell_type": "markdown",
   "metadata": {
    "slideshow": {
     "slide_type": "fragment"
    }
   },
   "source": [
    "# \"*¿Y esto para qué sirve?*\""
   ]
  },
  {
   "cell_type": "markdown",
   "metadata": {
    "slideshow": {
     "slide_type": "fragment"
    }
   },
   "source": [
    "Estos programas son útiles para aprender la lógica y la sintaxis de la programación, pero nada más"
   ]
  },
  {
   "cell_type": "markdown",
   "metadata": {
    "slideshow": {
     "slide_type": "fragment"
    }
   },
   "source": [
    "Vamos a ver algunos ejemplos de programas sencillos y útiles!"
   ]
  },
  {
   "cell_type": "markdown",
   "metadata": {
    "slideshow": {
     "slide_type": "slide"
    }
   },
   "source": [
    "### Ejemplo 1: La saga de Jack Sparrow"
   ]
  },
  {
   "cell_type": "markdown",
   "metadata": {
    "slideshow": {
     "slide_type": "fragment"
    }
   },
   "source": [
    "Nos hemos bajado una serie de algún sitio. Son 10 temporadas de 50 capítulos. Todas están en la misma carpeta y tienen este aspecto:\n",
    "\n",
    "`Jack_Sparrow_Saga_07x27_[Ripped_by_dude][15288][92707].avi`"
   ]
  },
  {
   "cell_type": "markdown",
   "metadata": {
    "slideshow": {
     "slide_type": "fragment"
    }
   },
   "source": [
    "Queremos ordenar la serie por temporadas y quitar toda la porquería del nombre de archivo"
   ]
  },
  {
   "cell_type": "markdown",
   "metadata": {
    "slideshow": {
     "slide_type": "subslide"
    }
   },
   "source": [
    "#### Pensando al revés"
   ]
  },
  {
   "cell_type": "markdown",
   "metadata": {
    "slideshow": {
     "slide_type": "fragment"
    }
   },
   "source": [
    "A veces, pensar de menos a más (Aquí pongo un `if`, aquí un `for`) no soluciona el problema y nos distrae de lo que quermos hacer"
   ]
  },
  {
   "cell_type": "markdown",
   "metadata": {
    "slideshow": {
     "slide_type": "fragment"
    }
   },
   "source": [
    "¿Y si pensamos al revés?"
   ]
  },
  {
   "cell_type": "markdown",
   "metadata": {
    "slideshow": {
     "slide_type": "fragment"
    }
   },
   "source": [
    "#### Vamos a plantear y dividir el problema"
   ]
  },
  {
   "cell_type": "markdown",
   "metadata": {
    "slideshow": {
     "slide_type": "subslide"
    }
   },
   "source": [
    "1. `Ordenar serie y quitar porquería`"
   ]
  },
  {
   "cell_type": "markdown",
   "metadata": {
    "slideshow": {
     "slide_type": "fragment"
    }
   },
   "source": [
    "1. `Quitar porquería`\n",
    "1. `Ordenar por temporadas`"
   ]
  },
  {
   "cell_type": "markdown",
   "metadata": {
    "slideshow": {
     "slide_type": "fragment"
    }
   },
   "source": [
    "1. `Cambiar guiones bajos por espacios`\n",
    "1. `Quitar información supérflua entre corchetes`\n",
    "1. `Crear una carpeta para cada temporada`\n",
    "1. `Mover cada capítulo a la carpeta correspondiente`"
   ]
  },
  {
   "cell_type": "markdown",
   "metadata": {
    "slideshow": {
     "slide_type": "fragment"
    }
   },
   "source": [
    "#### ¡Ya está! Sólo queda escribir código."
   ]
  },
  {
   "cell_type": "markdown",
   "metadata": {
    "slideshow": {
     "slide_type": "subslide"
    }
   },
   "source": [
    "* Podemos cambiar los guiones y quitar el resto de una tacada"
   ]
  },
  {
   "cell_type": "code",
   "execution_count": 47,
   "metadata": {
    "collapsed": false,
    "slideshow": {
     "slide_type": "fragment"
    }
   },
   "outputs": [
    {
     "name": "stdout",
     "output_type": "stream",
     "text": [
      "Nombre_de_serie_[Potatosubs].avi\n",
      "['Nombre', 'de', 'serie', '[Potatosubs].avi']\n",
      "['Nombre', 'de', 'serie']\n",
      "Nombre de serie\n",
      "Nombre de serie.avi\n"
     ]
    }
   ],
   "source": [
    "cadena=\"Nombre_de_serie_[Potatosubs].avi\"\n",
    "print cadena\n",
    "cadena=cadena.split(\"_\")\n",
    "print cadena\n",
    "cadena=cadena[:3]\n",
    "print cadena\n",
    "cadena=\" \".join(cadena)\n",
    "print cadena\n",
    "cadena=cadena+\".avi\"\n",
    "print cadena"
   ]
  },
  {
   "cell_type": "markdown",
   "metadata": {
    "slideshow": {
     "slide_type": "subslide"
    }
   },
   "source": [
    "* Aunque siempre hay más de una manera!"
   ]
  },
  {
   "cell_type": "code",
   "execution_count": 34,
   "metadata": {
    "collapsed": false,
    "slideshow": {
     "slide_type": "fragment"
    }
   },
   "outputs": [
    {
     "name": "stdout",
     "output_type": "stream",
     "text": [
      "Nombre_de_serie_[Potatosubs].avi\n",
      "Nombre_de_serie.avi\n",
      "Nombre de serie.avi\n"
     ]
    }
   ],
   "source": [
    "cadena=\"Nombre_de_serie_[Potatosubs].avi\"\n",
    "print cadena\n",
    "cadena=cadena[:15]+cadena[-4:]\n",
    "print cadena\n",
    "cadena=cadena.replace(\"_\",\" \")\n",
    "print cadena"
   ]
  },
  {
   "cell_type": "markdown",
   "metadata": {
    "slideshow": {
     "slide_type": "subslide"
    }
   },
   "source": [
    "#### Muy bonito. ¿Y crear carpetas? ¿Y meter los nombres de archivo en variables?"
   ]
  },
  {
   "cell_type": "markdown",
   "metadata": {
    "slideshow": {
     "slide_type": "fragment"
    }
   },
   "source": [
    "No necesitamos implementar eso. El módulo `os` en python tiene muchas utilidades que podemos usar"
   ]
  },
  {
   "cell_type": "code",
   "execution_count": 43,
   "metadata": {
    "collapsed": false,
    "slideshow": {
     "slide_type": "fragment"
    }
   },
   "outputs": [],
   "source": [
    "import os\n",
    "os.chdir(\"/home/achifaifa\") #<- Cambiar de carpeta\n",
    "os.listdir(\"./\")            #<- Listar cosas en la carpeta\n",
    "os.mkdir(\"bla\")             #<- Crear carpeta\n",
    "os.rename(\"bla\", \"test\")    #<- Renombrar/mover carpeta o archivo"
   ]
  },
  {
   "cell_type": "markdown",
   "metadata": {
    "slideshow": {
     "slide_type": "fragment"
    }
   },
   "source": [
    "Una vez conseguida la información con `os.listdir()`, podemos recorrer la lista de archivos con un `for`"
   ]
  },
  {
   "cell_type": "markdown",
   "metadata": {
    "slideshow": {
     "slide_type": "subslide"
    }
   },
   "source": [
    "Primero vamos a crear las carpetas"
   ]
  },
  {
   "cell_type": "code",
   "execution_count": 48,
   "metadata": {
    "collapsed": true,
    "slideshow": {
     "slide_type": "fragment"
    }
   },
   "outputs": [],
   "source": [
    "for i in range(1,11):\n",
    "    os.mkdir(\"Season %02i\"%i)"
   ]
  },
  {
   "cell_type": "markdown",
   "metadata": {
    "slideshow": {
     "slide_type": "fragment"
    }
   },
   "source": [
    "Ya está. No tenemos más que recorrer los números del 1 al 10 y crear una carpeta con ese número"
   ]
  },
  {
   "cell_type": "markdown",
   "metadata": {
    "slideshow": {
     "slide_type": "subslide"
    }
   },
   "source": [
    "Ahora vamos a recorrer la lista de archivos:"
   ]
  },
  {
   "cell_type": "code",
   "execution_count": 59,
   "metadata": {
    "collapsed": false,
    "slideshow": {
     "slide_type": "fragment"
    }
   },
   "outputs": [],
   "source": [
    "for i in os.listdir(\".\"):\n",
    "    if i.endswith(\".avi\"):\n",
    "        pass"
   ]
  },
  {
   "cell_type": "markdown",
   "metadata": {
    "slideshow": {
     "slide_type": "fragment"
    }
   },
   "source": [
    "`os.listdir()` devuelve una lista que podemos recorrer directamente. "
   ]
  },
  {
   "cell_type": "markdown",
   "metadata": {
    "slideshow": {
     "slide_type": "fragment"
    }
   },
   "source": [
    "Para evitar sustos, vamos a trababjar sólo con los archivos que acaben en \"`.avi`\""
   ]
  },
  {
   "cell_type": "markdown",
   "metadata": {
    "slideshow": {
     "slide_type": "subslide"
    }
   },
   "source": [
    "Para cada archivo que queramos modificar, no tenemos más que aplicar lo de antes. Ya tenemos el nombre del archivo en `i`"
   ]
  },
  {
   "cell_type": "code",
   "execution_count": 61,
   "metadata": {
    "collapsed": true,
    "slideshow": {
     "slide_type": "fragment"
    }
   },
   "outputs": [],
   "source": [
    "for i in os.listdir(\".\"): \n",
    "    if i.endswith(\".avi\"):\n",
    "        new=\" \".join(i.split(\"_\")[:4])+\".avi\"  #<- Nombre nuevo\n",
    "        season=i.split(\"_\")[3][:2]             #<- Sacar la temporada\n",
    "        os.rename(i,\"Season %s/\"%season+new)   #<- Mover el archivo"
   ]
  },
  {
   "cell_type": "markdown",
   "metadata": {
    "slideshow": {
     "slide_type": "fragment"
    }
   },
   "source": [
    "Ya hemos recorrido y modificado todos los archivos, sin usar nada más que un for, un if y funciones disponibles por defecto en el lenguaje"
   ]
  },
  {
   "cell_type": "markdown",
   "metadata": {
    "slideshow": {
     "slide_type": "subslide"
    }
   },
   "source": [
    "#### Vamos a verlo en acción"
   ]
  },
  {
   "cell_type": "markdown",
   "metadata": {
    "slideshow": {
     "slide_type": "slide"
    }
   },
   "source": [
    "### Ejemplo 2: \"Ya si eso me avisas\""
   ]
  },
  {
   "cell_type": "markdown",
   "metadata": {
    "slideshow": {
     "slide_type": "fragment"
    }
   },
   "source": [
    "Queremos estar atentos a los cambios de una página web. Es importante, pero no son cambios frecuentes y no merece la pena entrar a la página cada 5 minutos. La página no tiene RSS, twitter, API ni ningún servicio similar que podamos usar"
   ]
  },
  {
   "cell_type": "markdown",
   "metadata": {
    "slideshow": {
     "slide_type": "fragment"
    }
   },
   "source": [
    "Queremos algo que detecte los cambios y nos mande un correo para olvidarnos del tema. "
   ]
  },
  {
   "cell_type": "markdown",
   "metadata": {
    "slideshow": {
     "slide_type": "subslide"
    }
   },
   "source": [
    "#### Diferente problema, mismo proceso"
   ]
  },
  {
   "cell_type": "markdown",
   "metadata": {
    "slideshow": {
     "slide_type": "fragment"
    }
   },
   "source": [
    "1. Avisar de los cambios"
   ]
  },
  {
   "cell_type": "markdown",
   "metadata": {
    "slideshow": {
     "slide_type": "fragment"
    }
   },
   "source": [
    "1. Detectar cambios\n",
    "1. Mandar correo"
   ]
  },
  {
   "cell_type": "markdown",
   "metadata": {
    "slideshow": {
     "slide_type": "fragment"
    }
   },
   "source": [
    "1. Recibir código HTML\n",
    "2. Compararlo con código anterior\n",
    "3. Escribir informe si hay diferencias\n",
    "4. Mandar diferencias por correo"
   ]
  },
  {
   "cell_type": "markdown",
   "metadata": {
    "slideshow": {
     "slide_type": "fragment"
    }
   },
   "source": [
    "Hay que saber cuándo un paso es lo suficientemente simple y no necesita ser desmenuzado más ;)"
   ]
  },
  {
   "cell_type": "markdown",
   "metadata": {
    "slideshow": {
     "slide_type": "subslide"
    }
   },
   "source": [
    "#### Ya hay herramientas para hacer casi todas esas cosas. Empecemos por abrir una web"
   ]
  },
  {
   "cell_type": "markdown",
   "metadata": {
    "slideshow": {
     "slide_type": "fragment"
    }
   },
   "source": [
    "Hay muchas librerías disponibles. Para operaciones sencillas, nos basta con **`urllib`**"
   ]
  },
  {
   "cell_type": "markdown",
   "metadata": {
    "slideshow": {
     "slide_type": "fragment"
    }
   },
   "source": [
    "No la tenemos por defecto como `os`, pero podemos instalarla usando **`pip install <nombre>`**"
   ]
  },
  {
   "cell_type": "markdown",
   "metadata": {
    "slideshow": {
     "slide_type": "fragment"
    }
   },
   "source": [
    "Vamos a ver un ejemplo (La web usada aquí es sólo para efectos de demostración y puede no estar disponible)"
   ]
  },
  {
   "cell_type": "markdown",
   "metadata": {
    "slideshow": {
     "slide_type": "subslide"
    }
   },
   "source": [
    "En [achi.se/temp/AE03](http://achi.se/temp/AE03) tenemos un tablón de anuncios que se actualiza cada mucho tiempo\n",
    "\n",
    "![](./img/tablon.png)"
   ]
  },
  {
   "cell_type": "markdown",
   "metadata": {
    "slideshow": {
     "slide_type": "fragment"
    }
   },
   "source": [
    "Es HTML a palo seco. Las actualizaciones, seguramente, van a ser nuevos elementos de esa lista"
   ]
  },
  {
   "cell_type": "markdown",
   "metadata": {
    "slideshow": {
     "slide_type": "subslide"
    }
   },
   "source": [
    "Vamos a ver qué conseguimos con **`urllib`**"
   ]
  },
  {
   "cell_type": "code",
   "execution_count": 5,
   "metadata": {
    "collapsed": false,
    "slideshow": {
     "slide_type": "fragment"
    }
   },
   "outputs": [
    {
     "name": "stdout",
     "output_type": "stream",
     "text": [
      "<center><h1>TABLON DE ANUNCIOS</h1></center>\n",
      "<ul>\n",
      "<li> 2015-10-01: Disponible el prototipo de la nueva batmanmanta\n",
      "<li> 2016-02-10: Nuevo aviso de seguridad\n",
      "\n"
     ]
    }
   ],
   "source": [
    "import urllib\n",
    "f=urllib.urlopen(\"http://achi.se/temp/AE03\")\n",
    "codigo=f.read()\n",
    "print codigo"
   ]
  },
  {
   "cell_type": "markdown",
   "metadata": {
    "slideshow": {
     "slide_type": "fragment"
    }
   },
   "source": [
    "con una sola petición hemos conseguido un objeto con toda la información de la página, código incluído"
   ]
  },
  {
   "cell_type": "markdown",
   "metadata": {
    "slideshow": {
     "slide_type": "subslide"
    }
   },
   "source": [
    "#### ¿Y con qué lo comparamos? "
   ]
  },
  {
   "cell_type": "markdown",
   "metadata": {
    "slideshow": {
     "slide_type": "fragment"
    }
   },
   "source": [
    "Este programa no se va a estar ejecutando todo el rato, sino que se va a lanzar cada X tiempo. "
   ]
  },
  {
   "cell_type": "markdown",
   "metadata": {
    "slideshow": {
     "slide_type": "fragment"
    }
   },
   "source": [
    "Perderemos variables y datos guardados. Lo que necesitamos se llama *persistencia*. En este caso, escribir la última web conocida en un archivo para poder consultarlo la próxima vez."
   ]
  },
  {
   "cell_type": "markdown",
   "metadata": {
    "slideshow": {
     "slide_type": "fragment"
    }
   },
   "source": [
    "Trabajar con archivos es fácil!"
   ]
  },
  {
   "cell_type": "code",
   "execution_count": 8,
   "metadata": {
    "collapsed": false,
    "slideshow": {
     "slide_type": "fragment"
    }
   },
   "outputs": [],
   "source": [
    "with open(\"web_vieja.txt\",\"w+\") as archivo:\n",
    "    archivo.write(codigo)"
   ]
  },
  {
   "cell_type": "markdown",
   "metadata": {
    "slideshow": {
     "slide_type": "fragment"
    }
   },
   "source": [
    "Y ya está!\n",
    "\n",
    "![](./img/archivo.png)"
   ]
  },
  {
   "cell_type": "markdown",
   "metadata": {
    "slideshow": {
     "slide_type": "subslide"
    }
   },
   "source": [
    "Vamos a leer el archivo y compararlo con la variable:"
   ]
  },
  {
   "cell_type": "code",
   "execution_count": 10,
   "metadata": {
    "collapsed": false,
    "slideshow": {
     "slide_type": "fragment"
    }
   },
   "outputs": [
    {
     "name": "stdout",
     "output_type": "stream",
     "text": [
      "True\n"
     ]
    }
   ],
   "source": [
    "with open(\"web_vieja.txt\",\"r\") as archivo:\n",
    "    print archivo.read()==codigo"
   ]
  },
  {
   "cell_type": "markdown",
   "metadata": {
    "slideshow": {
     "slide_type": "fragment"
    }
   },
   "source": [
    "Con todas estas herramientas, el proceso es más claro"
   ]
  },
  {
   "cell_type": "markdown",
   "metadata": {
    "slideshow": {
     "slide_type": "subslide"
    }
   },
   "source": [
    "Vamos a escribir parte del programa:"
   ]
  },
  {
   "cell_type": "code",
   "execution_count": 12,
   "metadata": {
    "collapsed": false,
    "slideshow": {
     "slide_type": "fragment"
    }
   },
   "outputs": [
    {
     "name": "stdout",
     "output_type": "stream",
     "text": [
      "No hay cambios\n"
     ]
    }
   ],
   "source": [
    "import urllib\n",
    "\n",
    "web=urllib.urlopen(\"http://achi.se/temp/AE03\").read()\n",
    "with open (\"web_vieja.txt\") as archivo:\n",
    "    web_vieja=archivo.read()\n",
    "\n",
    "if web==web_vieja:\n",
    "    print \"No hay cambios\"\n",
    "else: \n",
    "    print \"Hay avisos nuevos!\""
   ]
  },
  {
   "cell_type": "markdown",
   "metadata": {
    "slideshow": {
     "slide_type": "subslide"
    }
   },
   "source": [
    "#### ¿Y lo del correo? ¿Eso no es difícil?"
   ]
  },
  {
   "cell_type": "markdown",
   "metadata": {
    "slideshow": {
     "slide_type": "fragment"
    }
   },
   "source": [
    "Nope. Vamos a crear un correo de prueba y ver qué pasa. Por ejemplo, **`ae03demo@mail.com`**"
   ]
  },
  {
   "cell_type": "markdown",
   "metadata": {
    "slideshow": {
     "slide_type": "fragment"
    }
   },
   "source": [
    "Y vamos a seguir [un ejemplo](https://docs.python.org/2/library/email-examples.html) de internet usando las librerías `mail` y `smtplib`"
   ]
  },
  {
   "cell_type": "code",
   "execution_count": 32,
   "metadata": {
    "collapsed": false,
    "slideshow": {
     "slide_type": "fragment"
    }
   },
   "outputs": [],
   "source": [
    "import smtplib\n",
    "from email.mime.text import MIMEText\n",
    "\n",
    "mensaje=MIMEText(\"mensaje de prueba. Este es el cuerpo.\")\n",
    "mensaje['subject']=\"Hola bola!\"\n",
    "mensaje['from']=\"script de prueba\"\n",
    "mensaje['to']=\"ae03demo@mail.com\"\n",
    "\n",
    "s=smtplib.SMTP(\"smtp.mail.com\", 587)\n",
    "s.ehlo()\n",
    "s.starttls()\n",
    "s.login(\"ae03demo@mail.com\", \"pass\")\n",
    "s.sendmail(\"ae03demo@mail.com\", \"ae03demo@mail.com\", mensaje.as_string())\n",
    "s.close()"
   ]
  },
  {
   "cell_type": "markdown",
   "metadata": {
    "slideshow": {
     "slide_type": "subslide"
    }
   },
   "source": [
    "Yup, así de fácil.\n",
    "\n",
    "![](./img/mailprueba.png)"
   ]
  },
  {
   "cell_type": "markdown",
   "metadata": {
    "slideshow": {
     "slide_type": "subslide"
    }
   },
   "source": [
    "Ahora no tenemos más que mezclarlo todo!"
   ]
  },
  {
   "cell_type": "code",
   "execution_count": 31,
   "metadata": {
    "collapsed": false,
    "slideshow": {
     "slide_type": "fragment"
    }
   },
   "outputs": [],
   "source": [
    "import smtplib, urllib\n",
    "from email.mime.text import MIMEText\n",
    "\n",
    "url=\"http://achi.se/temp/AE03\"\n",
    "web=urllib.urlopen(url).read()\n",
    "with open (\"web_vieja.txt\") as archivo:\n",
    "    web_vieja=archivo.read()\n",
    "\n",
    "if web!=web_vieja: \n",
    "    webs=set(web.split('\\n'))\n",
    "    web_viejas=set(web_vieja.split('\\n'))\n",
    "    diferencia=web_viejas.difference(webs)\n",
    "    \n",
    "    txt=\"Hay avisos nuevos en %s! \\nEstos son los nuevos avisos: \\n\"+\"\\n\".join(diferencia)\n",
    "    mensaje=MIMEText(txt)\n",
    "    mensaje['subject']=\"Avisos nuevos en %s\"%url\n",
    "    mensaje['from']=\"script de prueba\"\n",
    "    mensaje['to']=\"ae03demo@mail.com\"\n",
    "\n",
    "    s=smtplib.SMTP(\"smtp.mail.com\", 587)\n",
    "    s.ehlo()\n",
    "    s.starttls()\n",
    "    s.login(\"ae03demo@mail.com\", \"pass\")\n",
    "    try:\n",
    "        s.sendmail(\"ae03demo@mail.com\", \"ae03demo@mail.com\", mensaje.as_string())\n",
    "        with open(\"web_vieja.txt\",\"w+\") as archivo:\n",
    "            archivo.write(web)\n",
    "    finally:\n",
    "        s.close()"
   ]
  },
  {
   "cell_type": "markdown",
   "metadata": {
    "slideshow": {
     "slide_type": "subslide"
    }
   },
   "source": [
    "Y cuando se añade un aviso...\n",
    "\n",
    "![](./img/newitem.png)"
   ]
  },
  {
   "cell_type": "markdown",
   "metadata": {
    "slideshow": {
     "slide_type": "subslide"
    }
   },
   "source": [
    "Recibimos un correo!\n",
    "\n",
    "![](./img/mailworking.png)"
   ]
  },
  {
   "cell_type": "markdown",
   "metadata": {
    "slideshow": {
     "slide_type": "subslide"
    }
   },
   "source": [
    "Sólo falta un detalle: Ejecutar el script cada X tiempo. Eso qué, ¿A mano?"
   ]
  },
  {
   "cell_type": "markdown",
   "metadata": {
    "slideshow": {
     "slide_type": "fragment"
    }
   },
   "source": [
    "No por dios. Podéis usar **`cron`** en linux y las **tareas programadas** en windows. "
   ]
  },
  {
   "cell_type": "markdown",
   "metadata": {
    "slideshow": {
     "slide_type": "subslide"
    }
   },
   "source": [
    "#### Vamos a hacer una prueba!"
   ]
  },
  {
   "cell_type": "markdown",
   "metadata": {
    "slideshow": {
     "slide_type": "slide"
    }
   },
   "source": [
    "### Ejemplo 3:"
   ]
  },
  {
   "cell_type": "markdown",
   "metadata": {
    "slideshow": {
     "slide_type": "fragment"
    }
   },
   "source": [
    "Un evento que organizamos utiliza etiquetas de twitter para promocionarse. Pero hay muchos mensajes y no podemos comprobarlos todos a mano. Queremos enseñar todos esos mensajes en una pantalla grande en el evento, y además guardarlos para poder analizarlos más tarde."
   ]
  },
  {
   "cell_type": "markdown",
   "metadata": {
    "slideshow": {
     "slide_type": "fragment"
    }
   },
   "source": [
    "Queremos un script que enseñe tweets en tiempo real en una ventana y guarde todos los datos para luego."
   ]
  },
  {
   "cell_type": "markdown",
   "metadata": {
    "slideshow": {
     "slide_type": "fragment"
    }
   },
   "source": [
    "#### ¿Parece complicado? Vamos a seguir el mismo proceso"
   ]
  },
  {
   "cell_type": "markdown",
   "metadata": {
    "slideshow": {
     "slide_type": "subslide"
    }
   },
   "source": [
    "1. Recibir, enseñar y guardar la información"
   ]
  },
  {
   "cell_type": "markdown",
   "metadata": {
    "slideshow": {
     "slide_type": "fragment"
    }
   },
   "source": [
    "1. Recibir un tweet\n",
    "1. Enseñarlo en una pantalla\n",
    "1. Guardarlo\n",
    "1. Repetir"
   ]
  },
  {
   "cell_type": "markdown",
   "metadata": {
    "slideshow": {
     "slide_type": "subslide"
    }
   },
   "source": [
    "Twitter tiene una API que podemos usar y que nos permite hacer peticiones o recibir un stream."
   ]
  },
  {
   "cell_type": "markdown",
   "metadata": {
    "slideshow": {
     "slide_type": "fragment"
    }
   },
   "source": [
    "[Aquí](https://dev.twitter.com/overview/documentation) está su documentación. En aplicaciones sencillas incluso nos basta con copiar/pegar de los ejemplos."
   ]
  },
  {
   "cell_type": "markdown",
   "metadata": {
    "slideshow": {
     "slide_type": "fragment"
    }
   },
   "source": [
    "Vamos a por el primer paso (Recibir los mensajes) usando la API para streams y otra librería (**`tweepy`**)"
   ]
  },
  {
   "cell_type": "markdown",
   "metadata": {
    "slideshow": {
     "slide_type": "subslide"
    }
   },
   "source": [
    "Primero vamos a importar algunas cosas:"
   ]
  },
  {
   "cell_type": "code",
   "execution_count": 2,
   "metadata": {
    "collapsed": false,
    "slideshow": {
     "slide_type": "fragment"
    }
   },
   "outputs": [],
   "source": [
    "import json, tweepy #<- JSON para procesar los datos recibidos, tweepy para conectarnos a twitter\n",
    "from tweepy import Stream #<- Queremos usar los streams\n",
    "from tweepy.streaming import StreamListener #<- Clase que hace casi todo automáticamente\n",
    "from tweepy import OAuthHandler #<- Autenticación \n",
    "import apikeys #<- Archivo con nuestras keys de desarrollador"
   ]
  },
  {
   "cell_type": "markdown",
   "metadata": {
    "slideshow": {
     "slide_type": "subslide"
    }
   },
   "source": [
    "Y ahora vamos a crear un listener siguiendo un ejemplo de la documentación"
   ]
  },
  {
   "cell_type": "code",
   "execution_count": 4,
   "metadata": {
    "collapsed": true,
    "slideshow": {
     "slide_type": "fragment"
    }
   },
   "outputs": [],
   "source": [
    "class listener(StreamListener):\n",
    "\n",
    "    def on_data(self, data):\n",
    "\n",
    "        try:\n",
    "            pass #Hacemos cosas aquí\n",
    "        except BaseException as e:\n",
    "            pass #Si falla algo en el try, hacemos esto\n",
    "        finally:\n",
    "            return True\n",
    "\n",
    "    def on_error(self, status):\n",
    "        pass"
   ]
  },
  {
   "cell_type": "markdown",
   "metadata": {
    "slideshow": {
     "slide_type": "fragment"
    }
   },
   "source": [
    "**`on_data`** Se ejecuta automáticamente cuando hay datos nuevos, y **`on_error`** cuando hay problemas"
   ]
  },
  {
   "cell_type": "markdown",
   "metadata": {
    "slideshow": {
     "slide_type": "fragment"
    }
   },
   "source": [
    "Sólo tenemos que escribir ahí dentro lo que queremos hacer con los datos"
   ]
  },
  {
   "cell_type": "markdown",
   "metadata": {
    "slideshow": {
     "slide_type": "subslide"
    }
   },
   "source": [
    "Vamos con los datos, que llegan en un JSON. Como este:\n",
    "\n",
    "![](./img/twitterjson.png)"
   ]
  },
  {
   "cell_type": "markdown",
   "metadata": {
    "slideshow": {
     "slide_type": "fragment"
    }
   },
   "source": [
    "Los datos que nos interesan son:\n",
    "\n",
    "* Fecha y hora\n",
    "* Nombre y usuario\n",
    "* Texto del mensaje"
   ]
  },
  {
   "cell_type": "code",
   "execution_count": 5,
   "metadata": {
    "collapsed": true,
    "slideshow": {
     "slide_type": "subslide"
    }
   },
   "outputs": [],
   "source": [
    "data=json.loads(data)\n",
    "\n",
    "text=data[\"text\"] #<- Texto del mensaje\n",
    "text=\"\\n\".join([i for i in text.split(\"\\n\") if i]) #,- (Quitar líneas vacías)\n",
    "user=data[\"user\"][\"name\"]#<- Nombre\n",
    "username=data[\"user\"][\"screen_name\"]#<- Usuario\n",
    "date=data[\"created_at\"]#<- Fecha"
   ]
  },
  {
   "cell_type": "markdown",
   "metadata": {
    "slideshow": {
     "slide_type": "fragment"
    }
   },
   "source": [
    "Ya tenemos un programa que coge los tweets según llegan y los procesa. Ahora, a por la ventana"
   ]
  },
  {
   "cell_type": "markdown",
   "metadata": {
    "slideshow": {
     "slide_type": "subslide"
    }
   },
   "source": [
    "En python tenemos la librería **`tkinter`** por defecto para trabajar con GUIs. "
   ]
  },
  {
   "cell_type": "markdown",
   "metadata": {
    "slideshow": {
     "slide_type": "fragment"
    }
   },
   "source": [
    "Sólo necesitamos crear una ventana y poner texto en ella, así que no hace falta nada muy potente"
   ]
  },
  {
   "cell_type": "code",
   "execution_count": 7,
   "metadata": {
    "collapsed": false,
    "slideshow": {
     "slide_type": "fragment"
    }
   },
   "outputs": [],
   "source": [
    "import Tkinter\n",
    "\n",
    "root=Tkinter.Tk()\n",
    "Tkinter.mainloop()"
   ]
  },
  {
   "cell_type": "markdown",
   "metadata": {
    "slideshow": {
     "slide_type": "fragment"
    }
   },
   "source": [
    "Ya tenemos nuestra ventana creada!\n",
    "\n",
    "![](./img/tkinter1.png)"
   ]
  },
  {
   "cell_type": "markdown",
   "metadata": {
    "slideshow": {
     "slide_type": "subslide"
    }
   },
   "source": [
    "Ahora sólo necesitamos añadir algunos detalles:"
   ]
  },
  {
   "cell_type": "code",
   "execution_count": 9,
   "metadata": {
    "collapsed": false,
    "slideshow": {
     "slide_type": "fragment"
    }
   },
   "outputs": [],
   "source": [
    "import tkFont, Tkinter\n",
    "root=Tkinter.Tk()\n",
    "# Como el título de la ventana\n",
    "root.wm_title(\"tweets en AE03\")\n",
    "# Y unas cuantas fuentes\n",
    "bigfont=tkFont.Font(root=root, font=None, name=None, family='Mono', size=50, weight='bold')\n",
    "bigishfont=tkFont.Font(root=root, font=None, name=None, family='Mono', size=26, weight='bold')\n",
    "smallfont=tkFont.Font(root=root, font=None, name=None, family='Mono', size=25)\n",
    "Tkinter.mainloop(1) "
   ]
  },
  {
   "cell_type": "markdown",
   "metadata": {
    "slideshow": {
     "slide_type": "fragment"
    }
   },
   "source": [
    "Una vez tenemos esa ventana, no hay más que escribir cosas en ella."
   ]
  },
  {
   "cell_type": "markdown",
   "metadata": {
    "slideshow": {
     "slide_type": "subslide"
    }
   },
   "source": [
    "Hay unas cuantas maneras de hacerlo. Nosotros sólo necesitamos usar **`pack`**, **`update`** y **`config`**"
   ]
  },
  {
   "cell_type": "code",
   "execution_count": 12,
   "metadata": {
    "collapsed": false,
    "slideshow": {
     "slide_type": "fragment"
    }
   },
   "outputs": [],
   "source": [
    "elemento=Tkinter.Label(text=\"prueba\", font=bigfont)\n",
    "elemento.pack()\n",
    "root.update()"
   ]
  },
  {
   "cell_type": "code",
   "execution_count": 13,
   "metadata": {
    "collapsed": true,
    "slideshow": {
     "slide_type": "fragment"
    }
   },
   "outputs": [],
   "source": [
    "elemento.config(text=\"otra prueba\")\n",
    "root.update()"
   ]
  },
  {
   "cell_type": "markdown",
   "metadata": {
    "slideshow": {
     "slide_type": "fragment"
    }
   },
   "source": [
    "Antes de juntarlo todo, una cosa más:"
   ]
  },
  {
   "cell_type": "markdown",
   "metadata": {
    "slideshow": {
     "slide_type": "subslide"
    }
   },
   "source": [
    "La ventana depende de un programa que va a estar siempre corriendo. Necesitamos una función que vaya recibiendo cosas al vuelo ejecutándose una sola vez"
   ]
  },
  {
   "cell_type": "markdown",
   "metadata": {
    "slideshow": {
     "slide_type": "fragment"
    }
   },
   "source": [
    "En python podemos usar **`corrutinas`**"
   ]
  },
  {
   "cell_type": "code",
   "execution_count": 14,
   "metadata": {
    "collapsed": true,
    "slideshow": {
     "slide_type": "fragment"
    }
   },
   "outputs": [],
   "source": [
    "def ejemplo():\n",
    "    valor=0\n",
    "    while 1:\n",
    "        suma=yield\n",
    "        valor+=suma\n",
    "        print valor"
   ]
  },
  {
   "cell_type": "code",
   "execution_count": 19,
   "metadata": {
    "collapsed": false,
    "slideshow": {
     "slide_type": "fragment"
    }
   },
   "outputs": [
    {
     "name": "stdout",
     "output_type": "stream",
     "text": [
      "1\n",
      "6\n",
      "13\n"
     ]
    }
   ],
   "source": [
    "corrutina=ejemplo()\n",
    "corrutina.send(None)\n",
    "corrutina.send(1)\n",
    "corrutina.send(5)\n",
    "corrutina.send(7)"
   ]
  },
  {
   "cell_type": "markdown",
   "metadata": {
    "slideshow": {
     "slide_type": "fragment"
    }
   },
   "source": [
    "Podemos utilizar esto para recibir información y actualizar las ventanas. Vamos a juntarlo todo."
   ]
  },
  {
   "cell_type": "code",
   "execution_count": 21,
   "metadata": {
    "collapsed": false,
    "slideshow": {
     "slide_type": "subslide"
    }
   },
   "outputs": [],
   "source": [
    "import tkFont, Tkinter\n",
    "\n",
    "# Windows is created when importing this module\n",
    "root=Tkinter.Tk()\n",
    "root.wm_title(\"PySkeleton\")\n",
    "bigfont=tkFont.Font(root=root, font=None, name=None, family='Mono', size=50, weight='bold')\n",
    "bigishfont=tkFont.Font(root=root, font=None, name=None, family='Mono', size=26, weight='bold')\n",
    "smallfont=tkFont.Font(root=root, font=None, name=None, family='Mono', size=25)\n",
    "Tkinter.mainloop(1) \n",
    "\n",
    "def update_window():\n",
    "\n",
    "    handle=Tkinter.Label(text=\"\", font=bigfont)\n",
    "    handlename=Tkinter.Label(text=\"\", font=bigishfont)\n",
    "    date=Tkinter.Label(text=\"\", font=bigishfont)\n",
    "    tweet=Tkinter.Label(text=\"\", font=smallfont, wraplength=800, justify=\"left\")\n",
    "\n",
    "    handle.pack(side=\"top\", padx=10, fill=\"x\")\n",
    "    handlename.pack(side=\"top\", padx=10, fill=\"x\")\n",
    "    date.pack(side=\"top\", padx=10, fill=\"x\")\n",
    "    tweet.pack(side=\"top\", padx=10, fill=\"x\")\n",
    "    root.update()\n",
    "\n",
    "    while 1:\n",
    "        try: \n",
    "            timestamp,user,username,text=yield\n",
    "            timestamp=\" \".join(timestamp.split()[1:4])\n",
    "            handle.config(text=\"\\n\"+user)\n",
    "            handlename.config(text=\"@\"+username)\n",
    "            date.config(text=timestamp+\"\\n\")\n",
    "            tweet.config(text=text)\n",
    "\n",
    "            root.update()\n",
    "        except: pass"
   ]
  },
  {
   "cell_type": "markdown",
   "metadata": {
    "slideshow": {
     "slide_type": "subslide"
    }
   },
   "source": [
    "Lo último que tenemos que hacer es importar el módulo de las ventanas en el de los tweets (Los módulos se ejecutan al importarlos) y utilizar la función **`update_window`** para actualizar la información en la pantalla"
   ]
  },
  {
   "cell_type": "markdown",
   "metadata": {
    "slideshow": {
     "slide_type": "fragment"
    }
   },
   "source": [
    "También teníamos que guardar la información en un archivo. Pero eso ya es fácil, ¿No? :)"
   ]
  },
  {
   "cell_type": "markdown",
   "metadata": {
    "slideshow": {
     "slide_type": "subslide"
    }
   },
   "source": [
    "#### Vamos a ver cómo funciona"
   ]
  },
  {
   "cell_type": "markdown",
   "metadata": {
    "slideshow": {
     "slide_type": "slide"
    }
   },
   "source": [
    "### Ejemplo 4:"
   ]
  },
  {
   "cell_type": "markdown",
   "metadata": {
    "slideshow": {
     "slide_type": "slide"
    }
   },
   "source": [
    "### Conclusiones"
   ]
  },
  {
   "cell_type": "markdown",
   "metadata": {
    "slideshow": {
     "slide_type": "slide"
    }
   },
   "source": [
    "*despedida*"
   ]
  }
 ],
 "metadata": {
  "celltoolbar": "Slideshow",
  "kernelspec": {
   "display_name": "Python 2",
   "language": "python",
   "name": "python2"
  },
  "language_info": {
   "codemirror_mode": {
    "name": "ipython",
    "version": 2
   },
   "file_extension": ".py",
   "mimetype": "text/x-python",
   "name": "python",
   "nbconvert_exporter": "python",
   "pygments_lexer": "ipython2",
   "version": "2.7.12+"
  }
 },
 "nbformat": 4,
 "nbformat_minor": 0
}
