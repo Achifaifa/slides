{
 "cells": [
  {
   "cell_type": "markdown",
   "metadata": {
    "slideshow": {
     "slide_type": "slide"
    }
   },
   "source": [
    "# Pretend you're Johnny\n",
    "\n",
    "## blargh bla\n",
    "\n",
    "[Imagen: Overview del pueblo con los títulos]\n",
    "\n",
    "### Yuri Numerov\n",
    "[@Achifaifa](https://twitter.com/achifaifa) / [achi.se](http://achi.se) / [achi @ hush.ai](http://bla.bla/bla)"
   ]
  },
  {
   "cell_type": "markdown",
   "metadata": {
    "slideshow": {
     "slide_type": "slide"
    }
   },
   "source": [
    "### Es un día más en el lejano oeste para Johnny Martillos...\n",
    "\n",
    "[Imagen: Jugador con pintas de herrero andando por la calle de un pueblucho]"
   ]
  },
  {
   "cell_type": "markdown",
   "metadata": {
    "slideshow": {
     "slide_type": "subslide"
    }
   },
   "source": [
    "### Pero Johnny Dedosligeros, el pianista del Saloon, ha muerto\n",
    "\n",
    "[Imagen: Saloon. Tipo entrando por la puerta. A la izquierda el piano, a la derecha un tío en un ataúd con forma de piano]"
   ]
  },
  {
   "cell_type": "markdown",
   "metadata": {
    "slideshow": {
     "slide_type": "subslide"
    }
   },
   "source": [
    "### Y Johnny Piesnegros, el bandido sordo y cegato del pueblo, cree que tú eres el pianista!\n",
    "\n",
    "[Imagen: Saloon (Mismo fondo). El tipo de la puerta sentado en el piano sudando a chorros. Otro (Con un parche y gafas de culo de vaso) apuntándole a la cabeza con un revólver. Todo el pub mirando. El muerto del ataúd sentado con un bol de palomitas]"
   ]
  },
  {
   "cell_type": "markdown",
   "metadata": {
    "slideshow": {
     "slide_type": "subslide"
    }
   },
   "source": [
    "### ¡Toca el piano! ¡Lo que sea! \n",
    "\n",
    "[Imagen: Misma imagen, tio del piano aporreando el teclado, público sudando, tipo de la pistola bailando]"
   ]
  },
  {
   "cell_type": "markdown",
   "metadata": {
    "slideshow": {
     "slide_type": "subslide"
    }
   },
   "source": [
    "### El nuevo pianista llega en 7 días. ¡Pretende que eres Johnny!\n",
    "\n",
    "[Imagen: Misma imagen, pero todo el público (Incluyendo el muerto del ataúd) lleva orejeras y está a lo suyo]"
   ]
  }
 ],
 "metadata": {
  "celltoolbar": "Slideshow",
  "kernelspec": {
   "display_name": "Python 2",
   "language": "python",
   "name": "python2"
  },
  "language_info": {
   "codemirror_mode": {
    "name": "ipython",
    "version": 2
   },
   "file_extension": ".py",
   "mimetype": "text/x-python",
   "name": "python",
   "nbconvert_exporter": "python",
   "pygments_lexer": "ipython2",
   "version": "2.7.10"
  }
 },
 "nbformat": 4,
 "nbformat_minor": 0
}
