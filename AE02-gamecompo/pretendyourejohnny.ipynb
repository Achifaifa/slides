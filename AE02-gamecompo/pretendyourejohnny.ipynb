{
 "cells": [
  {
   "cell_type": "markdown",
   "metadata": {
    "slideshow": {
     "slide_type": "slide"
    }
   },
   "source": [
    "# Pretend you're Johnny\n",
    "\n",
    "## blargh bla\n",
    "\n",
    "[Imagen: Overview del pueblo con los títulos]\n",
    "\n",
    "### Yuri Numerov (Ilust. nombre-de-ilustrador)\n",
    "[@Achifaifa](https://twitter.com/achifaifa) / [achi.se](http://achi.se) / [achi @ hush.ai](http://bla.bla/bla)"
   ]
  },
  {
   "cell_type": "markdown",
   "metadata": {
    "slideshow": {
     "slide_type": "slide"
    }
   },
   "source": [
    "### Es un día más en el lejano oeste para Johnny Martillos...\n",
    "\n",
    "[Imagen: Jugador con pintas de herrero andando por la calle de un pueblucho]"
   ]
  },
  {
   "cell_type": "markdown",
   "metadata": {
    "slideshow": {
     "slide_type": "subslide"
    }
   },
   "source": [
    "### Pero Johnny Dedosligeros, el pianista del Saloon, ha muerto\n",
    "\n",
    "[Imagen: Saloon. Tipo entrando por la puerta. A la izquierda el piano, a la derecha un tío en un ataúd con forma de piano]"
   ]
  },
  {
   "cell_type": "markdown",
   "metadata": {
    "slideshow": {
     "slide_type": "subslide"
    }
   },
   "source": [
    "### Y Johnny Piesnegros, el bandido sordo y cegato del pueblo... ¡Cree que tú eres el pianista!\n",
    "\n",
    "[Imagen: Saloon (Mismo fondo). El tipo de la puerta sentado en el piano sudando a chorros. Otro (Con un parche y gafas de culo de vaso) apuntándole a la cabeza con un revólver. Todo el pub mirando. El muerto del ataúd sentado con un bol de palomitas]"
   ]
  },
  {
   "cell_type": "markdown",
   "metadata": {
    "slideshow": {
     "slide_type": "subslide"
    }
   },
   "source": [
    "### ¡Toca el piano! ¡Lo que sea! \n",
    "\n",
    "[Imagen: Misma imagen, tio del piano aporreando el teclado, público sudando, tipo de la pistola bailando]"
   ]
  },
  {
   "cell_type": "markdown",
   "metadata": {
    "slideshow": {
     "slide_type": "subslide"
    }
   },
   "source": [
    "### El nuevo pianista llega en 7 días. ¡Pretende que eres Johnny!\n",
    "\n",
    "[Imagen: Misma imagen, pero todo el público (Incluyendo el muerto del ataúd) lleva orejeras y está a lo suyo]"
   ]
  },
  {
   "cell_type": "markdown",
   "metadata": {
    "slideshow": {
     "slide_type": "slide"
    }
   },
   "source": [
    "## Mecánica: ¿Cómo se juega?"
   ]
  },
  {
   "cell_type": "markdown",
   "metadata": {
    "slideshow": {
     "slide_type": "fragment"
    }
   },
   "source": [
    "* El controlador puede ser un teclado MIDI o el teclado del PC"
   ]
  },
  {
   "cell_type": "markdown",
   "metadata": {
    "slideshow": {
     "slide_type": "fragment"
    }
   },
   "source": [
    "* Una vez el protagonista se sienta en el piano, Piesnegros lanza una petición"
   ]
  },
  {
   "cell_type": "markdown",
   "metadata": {
    "slideshow": {
     "slide_type": "fragment"
    }
   },
   "source": [
    "* El jugador debe empezar a tocar el piano antes de 10 segundos, y tocarlo durante 90 segundos"
   ]
  },
  {
   "cell_type": "markdown",
   "metadata": {
    "slideshow": {
     "slide_type": "fragment"
    }
   },
   "source": [
    "* Se evalúan los 15 últimos segundos. Si el resultado es muy negativo, Piesnegros dispara al protagonista."
   ]
  },
  {
   "cell_type": "markdown",
   "metadata": {
    "slideshow": {
     "slide_type": "fragment"
    }
   },
   "source": [
    "* En caso contrario, el jugador sobrevive un día más"
   ]
  },
  {
   "cell_type": "markdown",
   "metadata": {
    "slideshow": {
     "slide_type": "fragment"
    }
   },
   "source": [
    "* El objetivo es sobrevivir hasta que llegue el nuevo pianista"
   ]
  },
  {
   "cell_type": "markdown",
   "metadata": {
    "slideshow": {
     "slide_type": "slide"
    }
   },
   "source": [
    "### ¿Cómo reconocer cuándo *parece* que alguien toca bien?\n"
   ]
  },
  {
   "cell_type": "markdown",
   "metadata": {
    "slideshow": {
     "slide_type": "fragment"
    }
   },
   "source": [
    "Usando aprendizaje máquina, podemos entrenar una red neural para que reconozca patrones que *parecen* música"
   ]
  },
  {
   "cell_type": "markdown",
   "metadata": {
    "slideshow": {
     "slide_type": "fragment"
    }
   },
   "source": [
    "<*bricomanía.wav*\\> Para ello sólo vamos a necesitar:\n"
   ]
  },
  {
   "cell_type": "markdown",
   "metadata": {
    "slideshow": {
     "slide_type": "fragment"
    }
   },
   "source": [
    "* Un dataset con fragmentos musicales que parezcan bien tocados"
   ]
  },
  {
   "cell_type": "markdown",
   "metadata": {
    "slideshow": {
     "slide_type": "fragment"
    }
   },
   "source": [
    "* Otro dataset con fragmentos musicales que parezcan mal tocados"
   ]
  },
  {
   "cell_type": "markdown",
   "metadata": {
    "slideshow": {
     "slide_type": "fragment"
    }
   },
   "source": [
    "* Una red neural a entrenar"
   ]
  },
  {
   "cell_type": "markdown",
   "metadata": {
    "slideshow": {
     "slide_type": "subslide"
    }
   },
   "source": [
    "### ¿Red neural? Wat"
   ]
  },
  {
   "cell_type": "markdown",
   "metadata": {
    "slideshow": {
     "slide_type": "fragment"
    }
   },
   "source": [
    "![](./img/neuralnet.png)"
   ]
  },
  {
   "cell_type": "markdown",
   "metadata": {
    "slideshow": {
     "slide_type": "fragment"
    }
   },
   "source": [
    "Una red neural es una red de elementos individuales (\"neuronas\") que evalúa un input y devuelve un output"
   ]
  },
  {
   "cell_type": "markdown",
   "metadata": {
    "slideshow": {
     "slide_type": "fragment"
    }
   },
   "source": [
    "Cada neurona recibe uno o más datos y devuelve un dato basándose en una fórmula matemática"
   ]
  },
  {
   "cell_type": "markdown",
   "metadata": {
    "slideshow": {
     "slide_type": "fragment"
    }
   },
   "source": [
    "Se puede \"entrenar\" a una red neural mandándole un input y diciéndole el output que se espera"
   ]
  },
  {
   "cell_type": "markdown",
   "metadata": {
    "slideshow": {
     "slide_type": "subslide"
    }
   },
   "source": [
    "### Aplicando RNs a la música"
   ]
  },
  {
   "cell_type": "markdown",
   "metadata": {
    "slideshow": {
     "slide_type": "fragment"
    }
   },
   "source": [
    "Se pueden crear diferentes grupos de neuronas que evalúen los distintos parámetros"
   ]
  },
  {
   "cell_type": "markdown",
   "metadata": {
    "slideshow": {
     "slide_type": "fragment"
    }
   },
   "source": [
    "* Tempo"
   ]
  },
  {
   "cell_type": "markdown",
   "metadata": {
    "slideshow": {
     "slide_type": "fragment"
    }
   },
   "source": [
    "* Tiempo"
   ]
  },
  {
   "cell_type": "markdown",
   "metadata": {
    "slideshow": {
     "slide_type": "fragment"
    }
   },
   "source": [
    "* Pertenencia a escalas"
   ]
  },
  {
   "cell_type": "markdown",
   "metadata": {
    "slideshow": {
     "slide_type": "fragment"
    }
   },
   "source": [
    "* Uso de acordes, arpegios, etc"
   ]
  },
  {
   "cell_type": "markdown",
   "metadata": {
    "slideshow": {
     "slide_type": "fragment"
    }
   },
   "source": [
    "* Uso de la mano izquierda"
   ]
  }
 ],
 "metadata": {
  "celltoolbar": "Slideshow",
  "kernelspec": {
   "display_name": "Python 2",
   "language": "python",
   "name": "python2"
  },
  "language_info": {
   "codemirror_mode": {
    "name": "ipython",
    "version": 2
   },
   "file_extension": ".py",
   "mimetype": "text/x-python",
   "name": "python",
   "nbconvert_exporter": "python",
   "pygments_lexer": "ipython2",
   "version": "2.7.10"
  }
 },
 "nbformat": 4,
 "nbformat_minor": 0
}
